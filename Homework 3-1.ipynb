{
 "cells": [
  {
   "cell_type": "code",
   "execution_count": 1,
   "id": "f89aac65-b88d-451c-b09d-f09666a05c72",
   "metadata": {},
   "outputs": [],
   "source": [
    "import pandas as pd\n",
    "import numpy as np\n",
    "import os\n",
    "import seaborn as sns\n",
    "import matplotlib.pyplot as plt\n",
    "import plotly.express as px\n",
    "import math"
   ]
  },
  {
   "cell_type": "code",
   "execution_count": 2,
   "id": "861a4519-20df-460d-80e5-a070197c2030",
   "metadata": {},
   "outputs": [
    {
     "data": {
      "text/html": [
       "<div>\n",
       "<style scoped>\n",
       "    .dataframe tbody tr th:only-of-type {\n",
       "        vertical-align: middle;\n",
       "    }\n",
       "\n",
       "    .dataframe tbody tr th {\n",
       "        vertical-align: top;\n",
       "    }\n",
       "\n",
       "    .dataframe thead th {\n",
       "        text-align: right;\n",
       "    }\n",
       "</style>\n",
       "<table border=\"1\" class=\"dataframe\">\n",
       "  <thead>\n",
       "    <tr style=\"text-align: right;\">\n",
       "      <th></th>\n",
       "      <th>Sample</th>\n",
       "      <th>Probability of New Variant (NV) from the testing laboratory</th>\n",
       "      <th>Actual Class</th>\n",
       "    </tr>\n",
       "  </thead>\n",
       "  <tbody>\n",
       "    <tr>\n",
       "      <th>0</th>\n",
       "      <td>1</td>\n",
       "      <td>0.340147</td>\n",
       "      <td>O</td>\n",
       "    </tr>\n",
       "    <tr>\n",
       "      <th>1</th>\n",
       "      <td>2</td>\n",
       "      <td>0.768768</td>\n",
       "      <td>NV</td>\n",
       "    </tr>\n",
       "    <tr>\n",
       "      <th>2</th>\n",
       "      <td>3</td>\n",
       "      <td>0.927277</td>\n",
       "      <td>NV</td>\n",
       "    </tr>\n",
       "    <tr>\n",
       "      <th>3</th>\n",
       "      <td>4</td>\n",
       "      <td>0.328154</td>\n",
       "      <td>NV</td>\n",
       "    </tr>\n",
       "    <tr>\n",
       "      <th>4</th>\n",
       "      <td>5</td>\n",
       "      <td>0.283847</td>\n",
       "      <td>O</td>\n",
       "    </tr>\n",
       "  </tbody>\n",
       "</table>\n",
       "</div>"
      ],
      "text/plain": [
       "   Sample  Probability of New Variant (NV) from the testing laboratory  \\\n",
       "0       1                                           0.340147             \n",
       "1       2                                           0.768768             \n",
       "2       3                                           0.927277             \n",
       "3       4                                           0.328154             \n",
       "4       5                                           0.283847             \n",
       "\n",
       "  Actual Class  \n",
       "0            O  \n",
       "1           NV  \n",
       "2           NV  \n",
       "3           NV  \n",
       "4            O  "
      ]
     },
     "execution_count": 2,
     "metadata": {},
     "output_type": "execute_result"
    }
   ],
   "source": [
    "df = pd.read_excel(\"./Data/sub-variant.xlsx\")\n",
    "df.head()"
   ]
  },
  {
   "cell_type": "code",
   "execution_count": 3,
   "id": "4e3f5166-bfc9-4bc6-aa3e-babcd09bffac",
   "metadata": {},
   "outputs": [
    {
     "data": {
      "text/plain": [
       "array(['O', 'NV'], dtype=object)"
      ]
     },
     "execution_count": 3,
     "metadata": {},
     "output_type": "execute_result"
    }
   ],
   "source": [
    "df[\"Actual Class\"].unique()"
   ]
  },
  {
   "cell_type": "code",
   "execution_count": 4,
   "id": "2b9ed57e-631a-4474-91c9-b8cdc9af0b94",
   "metadata": {},
   "outputs": [
    {
     "data": {
      "text/html": [
       "<div>\n",
       "<style scoped>\n",
       "    .dataframe tbody tr th:only-of-type {\n",
       "        vertical-align: middle;\n",
       "    }\n",
       "\n",
       "    .dataframe tbody tr th {\n",
       "        vertical-align: top;\n",
       "    }\n",
       "\n",
       "    .dataframe thead th {\n",
       "        text-align: right;\n",
       "    }\n",
       "</style>\n",
       "<table border=\"1\" class=\"dataframe\">\n",
       "  <thead>\n",
       "    <tr style=\"text-align: right;\">\n",
       "      <th></th>\n",
       "      <th>Sample</th>\n",
       "      <th>propensity</th>\n",
       "      <th>Actual Class</th>\n",
       "    </tr>\n",
       "  </thead>\n",
       "  <tbody>\n",
       "    <tr>\n",
       "      <th>33</th>\n",
       "      <td>34</td>\n",
       "      <td>0.989342</td>\n",
       "      <td>1</td>\n",
       "    </tr>\n",
       "    <tr>\n",
       "      <th>2</th>\n",
       "      <td>3</td>\n",
       "      <td>0.927277</td>\n",
       "      <td>1</td>\n",
       "    </tr>\n",
       "    <tr>\n",
       "      <th>19</th>\n",
       "      <td>20</td>\n",
       "      <td>0.911406</td>\n",
       "      <td>0</td>\n",
       "    </tr>\n",
       "    <tr>\n",
       "      <th>30</th>\n",
       "      <td>31</td>\n",
       "      <td>0.896724</td>\n",
       "      <td>1</td>\n",
       "    </tr>\n",
       "    <tr>\n",
       "      <th>26</th>\n",
       "      <td>27</td>\n",
       "      <td>0.875694</td>\n",
       "      <td>0</td>\n",
       "    </tr>\n",
       "  </tbody>\n",
       "</table>\n",
       "</div>"
      ],
      "text/plain": [
       "    Sample  propensity  Actual Class\n",
       "33      34    0.989342             1\n",
       "2        3    0.927277             1\n",
       "19      20    0.911406             0\n",
       "30      31    0.896724             1\n",
       "26      27    0.875694             0"
      ]
     },
     "execution_count": 4,
     "metadata": {},
     "output_type": "execute_result"
    }
   ],
   "source": [
    "df['Actual Class'] = df['Actual Class'].map({'O': 0, 'NV': 1})\n",
    "df.rename(columns = {'Probability of New Variant (NV) from the testing laboratory':'propensity'}, inplace = True)\n",
    "df = df.sort_values(by = \"propensity\",axis=0, ascending=False)\n",
    "df.head()"
   ]
  },
  {
   "cell_type": "code",
   "execution_count": 5,
   "id": "730c8d17-e5f0-4055-b7ef-12a1675f7229",
   "metadata": {},
   "outputs": [],
   "source": [
    "def Classification_Metrics(df,p):\n",
    "    df1 = df[df[\"propensity\"]>p]\n",
    "    df2 = df[df[\"propensity\"]<p]\n",
    "    n11 = df1[df1[\"Actual Class\"]==1][\"Actual Class\"].count()\n",
    "    #print(\"n11 \", n11)\n",
    "    n21 = df1[df1[\"Actual Class\"]==0][\"Actual Class\"].count()\n",
    "    #print(\"n21 \", n21)\n",
    "    n22 = df2[df2[\"Actual Class\"]==0][\"Actual Class\"].count()\n",
    "    #print(\"n22 \", n22)\n",
    "    n12 = df2[df2[\"Actual Class\"]==1][\"Actual Class\"].count()\n",
    "    #print(\"n12 \", n12)\n",
    "    F1 = 2*n11/(2*n11+n21+n12)\n",
    "    MCC = MCC_Cal(n11,n12,n21,n22)\n",
    "    #MCC = ((n11*n22)-(n21*n12))/math.sqrt((n11+n21)*(n11+n12)*(n21+n22)*(n12+n22))\n",
    "    #print(\"F1 \", F1)\n",
    "    #print(\"MCC \", MCC)\n",
    "    sensitivity = n11/(n11+n12)\n",
    "    specificity = 1 - (n22/(n21+n22))\n",
    "    return sensitivity,specificity,F1,MCC"
   ]
  },
  {
   "cell_type": "code",
   "execution_count": 6,
   "id": "118761fb-706e-4c5d-bb13-83216aaa67f5",
   "metadata": {},
   "outputs": [],
   "source": [
    "def MCC_Cal(TP,FN,FP,TN):\n",
    "    if TP == 0 and FP == 0:\n",
    "        if FN == 0 and TN != 0:\n",
    "            MCC = 1\n",
    "        elif FN != 0 and TN != 0:\n",
    "            MCC = 0\n",
    "        else:\n",
    "            MCC = -1\n",
    "    elif TP == 0 and FN == 0:\n",
    "        if FP == 0 and TN != 0:\n",
    "            MCC = 1\n",
    "        elif FP != 0 and TN != 0:\n",
    "            MCC = 0\n",
    "        else:\n",
    "            MCC = -1\n",
    "    elif TN == 0 and FP == 0:\n",
    "        if TP != 0 and FN == 0:\n",
    "            MCC = 1\n",
    "        elif TP != 0 and FN != 0:\n",
    "            MCC = 0\n",
    "        else:\n",
    "            MCC = -1\n",
    "    elif TN == 0 and FN == 0:\n",
    "        if TP != 0 and FP == 0:\n",
    "            MCC = 1\n",
    "        elif TP != 0 and FP != 0:\n",
    "            MCC = 0\n",
    "        else:\n",
    "            MCC = -1\n",
    "    else:\n",
    "        MCC = ((TP*TN)-(FP*FN))/math.sqrt((TP+FP)*(TP+FN)*(FP+TN)*(FN+TN))\n",
    "    return MCC\n",
    "        "
   ]
  },
  {
   "cell_type": "code",
   "execution_count": 7,
   "id": "059db48d-e545-4f46-97c9-849a9a10cad1",
   "metadata": {},
   "outputs": [
    {
     "data": {
      "text/html": [
       "<div>\n",
       "<style scoped>\n",
       "    .dataframe tbody tr th:only-of-type {\n",
       "        vertical-align: middle;\n",
       "    }\n",
       "\n",
       "    .dataframe tbody tr th {\n",
       "        vertical-align: top;\n",
       "    }\n",
       "\n",
       "    .dataframe thead th {\n",
       "        text-align: right;\n",
       "    }\n",
       "</style>\n",
       "<table border=\"1\" class=\"dataframe\">\n",
       "  <thead>\n",
       "    <tr style=\"text-align: right;\">\n",
       "      <th></th>\n",
       "      <th>Cutoff</th>\n",
       "      <th>Sensitivity</th>\n",
       "      <th>1 - Specificity</th>\n",
       "      <th>F1_Score</th>\n",
       "      <th>MCC</th>\n",
       "    </tr>\n",
       "  </thead>\n",
       "  <tbody>\n",
       "    <tr>\n",
       "      <th>0</th>\n",
       "      <td>0.0</td>\n",
       "      <td>1.000000</td>\n",
       "      <td>1.000000</td>\n",
       "      <td>0.612245</td>\n",
       "      <td>0.000000</td>\n",
       "    </tr>\n",
       "    <tr>\n",
       "      <th>1</th>\n",
       "      <td>0.2</td>\n",
       "      <td>1.000000</td>\n",
       "      <td>0.736842</td>\n",
       "      <td>0.681818</td>\n",
       "      <td>0.368939</td>\n",
       "    </tr>\n",
       "    <tr>\n",
       "      <th>2</th>\n",
       "      <td>0.4</td>\n",
       "      <td>0.866667</td>\n",
       "      <td>0.315789</td>\n",
       "      <td>0.764706</td>\n",
       "      <td>0.550877</td>\n",
       "    </tr>\n",
       "    <tr>\n",
       "      <th>3</th>\n",
       "      <td>0.5</td>\n",
       "      <td>0.733333</td>\n",
       "      <td>0.210526</td>\n",
       "      <td>0.733333</td>\n",
       "      <td>0.522807</td>\n",
       "    </tr>\n",
       "    <tr>\n",
       "      <th>4</th>\n",
       "      <td>0.6</td>\n",
       "      <td>0.666667</td>\n",
       "      <td>0.210526</td>\n",
       "      <td>0.689655</td>\n",
       "      <td>0.460195</td>\n",
       "    </tr>\n",
       "    <tr>\n",
       "      <th>5</th>\n",
       "      <td>0.8</td>\n",
       "      <td>0.400000</td>\n",
       "      <td>0.105263</td>\n",
       "      <td>0.521739</td>\n",
       "      <td>0.345005</td>\n",
       "    </tr>\n",
       "    <tr>\n",
       "      <th>6</th>\n",
       "      <td>1.0</td>\n",
       "      <td>0.000000</td>\n",
       "      <td>0.000000</td>\n",
       "      <td>0.000000</td>\n",
       "      <td>0.000000</td>\n",
       "    </tr>\n",
       "  </tbody>\n",
       "</table>\n",
       "</div>"
      ],
      "text/plain": [
       "   Cutoff  Sensitivity  1 - Specificity  F1_Score       MCC\n",
       "0     0.0     1.000000         1.000000  0.612245  0.000000\n",
       "1     0.2     1.000000         0.736842  0.681818  0.368939\n",
       "2     0.4     0.866667         0.315789  0.764706  0.550877\n",
       "3     0.5     0.733333         0.210526  0.733333  0.522807\n",
       "4     0.6     0.666667         0.210526  0.689655  0.460195\n",
       "5     0.8     0.400000         0.105263  0.521739  0.345005\n",
       "6     1.0     0.000000         0.000000  0.000000  0.000000"
      ]
     },
     "execution_count": 7,
     "metadata": {},
     "output_type": "execute_result"
    }
   ],
   "source": [
    "pro=[0,0.2,0.4,0.5,0.6,0.8,1]\n",
    "sensitivity = []\n",
    "specificity = []\n",
    "F1_Score = []\n",
    "MCC = []\n",
    "for p in pro:\n",
    "    a,b,c,d = Classification_Metrics(df,p)\n",
    "    sensitivity.append(a)\n",
    "    specificity.append(b) \n",
    "    F1_Score.append(c)\n",
    "    MCC.append(d)\n",
    "table = pd.DataFrame({\"Cutoff\":pro, \"Sensitivity\":sensitivity, \"1 - Specificity\":specificity, \"F1_Score\":F1_Score, \"MCC\":MCC})\n",
    "table"
   ]
  },
  {
   "cell_type": "code",
   "execution_count": 8,
   "id": "0ce1fdac-8664-4ed3-9519-3fba0db80e0d",
   "metadata": {},
   "outputs": [
    {
     "data": {
      "application/vnd.plotly.v1+json": {
       "config": {
        "plotlyServerURL": "https://plot.ly"
       },
       "data": [
        {
         "type": "scatter",
         "x": [
          0,
          1
         ],
         "xaxis": "x",
         "y": [
          0,
          1
         ],
         "yaxis": "y"
        },
        {
         "type": "scatter",
         "x": [
          1,
          0.736842105263158,
          0.3157894736842105,
          0.21052631578947367,
          0.21052631578947367,
          0.10526315789473684,
          0
         ],
         "xaxis": "x",
         "y": [
          1,
          1,
          0.8666666666666667,
          0.7333333333333333,
          0.6666666666666666,
          0.4,
          0
         ],
         "yaxis": "y"
        }
       ],
       "layout": {
        "height": 600,
        "template": {
         "data": {
          "bar": [
           {
            "error_x": {
             "color": "#2a3f5f"
            },
            "error_y": {
             "color": "#2a3f5f"
            },
            "marker": {
             "line": {
              "color": "#E5ECF6",
              "width": 0.5
             },
             "pattern": {
              "fillmode": "overlay",
              "size": 10,
              "solidity": 0.2
             }
            },
            "type": "bar"
           }
          ],
          "barpolar": [
           {
            "marker": {
             "line": {
              "color": "#E5ECF6",
              "width": 0.5
             },
             "pattern": {
              "fillmode": "overlay",
              "size": 10,
              "solidity": 0.2
             }
            },
            "type": "barpolar"
           }
          ],
          "carpet": [
           {
            "aaxis": {
             "endlinecolor": "#2a3f5f",
             "gridcolor": "white",
             "linecolor": "white",
             "minorgridcolor": "white",
             "startlinecolor": "#2a3f5f"
            },
            "baxis": {
             "endlinecolor": "#2a3f5f",
             "gridcolor": "white",
             "linecolor": "white",
             "minorgridcolor": "white",
             "startlinecolor": "#2a3f5f"
            },
            "type": "carpet"
           }
          ],
          "choropleth": [
           {
            "colorbar": {
             "outlinewidth": 0,
             "ticks": ""
            },
            "type": "choropleth"
           }
          ],
          "contour": [
           {
            "colorbar": {
             "outlinewidth": 0,
             "ticks": ""
            },
            "colorscale": [
             [
              0,
              "#0d0887"
             ],
             [
              0.1111111111111111,
              "#46039f"
             ],
             [
              0.2222222222222222,
              "#7201a8"
             ],
             [
              0.3333333333333333,
              "#9c179e"
             ],
             [
              0.4444444444444444,
              "#bd3786"
             ],
             [
              0.5555555555555556,
              "#d8576b"
             ],
             [
              0.6666666666666666,
              "#ed7953"
             ],
             [
              0.7777777777777778,
              "#fb9f3a"
             ],
             [
              0.8888888888888888,
              "#fdca26"
             ],
             [
              1,
              "#f0f921"
             ]
            ],
            "type": "contour"
           }
          ],
          "contourcarpet": [
           {
            "colorbar": {
             "outlinewidth": 0,
             "ticks": ""
            },
            "type": "contourcarpet"
           }
          ],
          "heatmap": [
           {
            "colorbar": {
             "outlinewidth": 0,
             "ticks": ""
            },
            "colorscale": [
             [
              0,
              "#0d0887"
             ],
             [
              0.1111111111111111,
              "#46039f"
             ],
             [
              0.2222222222222222,
              "#7201a8"
             ],
             [
              0.3333333333333333,
              "#9c179e"
             ],
             [
              0.4444444444444444,
              "#bd3786"
             ],
             [
              0.5555555555555556,
              "#d8576b"
             ],
             [
              0.6666666666666666,
              "#ed7953"
             ],
             [
              0.7777777777777778,
              "#fb9f3a"
             ],
             [
              0.8888888888888888,
              "#fdca26"
             ],
             [
              1,
              "#f0f921"
             ]
            ],
            "type": "heatmap"
           }
          ],
          "heatmapgl": [
           {
            "colorbar": {
             "outlinewidth": 0,
             "ticks": ""
            },
            "colorscale": [
             [
              0,
              "#0d0887"
             ],
             [
              0.1111111111111111,
              "#46039f"
             ],
             [
              0.2222222222222222,
              "#7201a8"
             ],
             [
              0.3333333333333333,
              "#9c179e"
             ],
             [
              0.4444444444444444,
              "#bd3786"
             ],
             [
              0.5555555555555556,
              "#d8576b"
             ],
             [
              0.6666666666666666,
              "#ed7953"
             ],
             [
              0.7777777777777778,
              "#fb9f3a"
             ],
             [
              0.8888888888888888,
              "#fdca26"
             ],
             [
              1,
              "#f0f921"
             ]
            ],
            "type": "heatmapgl"
           }
          ],
          "histogram": [
           {
            "marker": {
             "pattern": {
              "fillmode": "overlay",
              "size": 10,
              "solidity": 0.2
             }
            },
            "type": "histogram"
           }
          ],
          "histogram2d": [
           {
            "colorbar": {
             "outlinewidth": 0,
             "ticks": ""
            },
            "colorscale": [
             [
              0,
              "#0d0887"
             ],
             [
              0.1111111111111111,
              "#46039f"
             ],
             [
              0.2222222222222222,
              "#7201a8"
             ],
             [
              0.3333333333333333,
              "#9c179e"
             ],
             [
              0.4444444444444444,
              "#bd3786"
             ],
             [
              0.5555555555555556,
              "#d8576b"
             ],
             [
              0.6666666666666666,
              "#ed7953"
             ],
             [
              0.7777777777777778,
              "#fb9f3a"
             ],
             [
              0.8888888888888888,
              "#fdca26"
             ],
             [
              1,
              "#f0f921"
             ]
            ],
            "type": "histogram2d"
           }
          ],
          "histogram2dcontour": [
           {
            "colorbar": {
             "outlinewidth": 0,
             "ticks": ""
            },
            "colorscale": [
             [
              0,
              "#0d0887"
             ],
             [
              0.1111111111111111,
              "#46039f"
             ],
             [
              0.2222222222222222,
              "#7201a8"
             ],
             [
              0.3333333333333333,
              "#9c179e"
             ],
             [
              0.4444444444444444,
              "#bd3786"
             ],
             [
              0.5555555555555556,
              "#d8576b"
             ],
             [
              0.6666666666666666,
              "#ed7953"
             ],
             [
              0.7777777777777778,
              "#fb9f3a"
             ],
             [
              0.8888888888888888,
              "#fdca26"
             ],
             [
              1,
              "#f0f921"
             ]
            ],
            "type": "histogram2dcontour"
           }
          ],
          "mesh3d": [
           {
            "colorbar": {
             "outlinewidth": 0,
             "ticks": ""
            },
            "type": "mesh3d"
           }
          ],
          "parcoords": [
           {
            "line": {
             "colorbar": {
              "outlinewidth": 0,
              "ticks": ""
             }
            },
            "type": "parcoords"
           }
          ],
          "pie": [
           {
            "automargin": true,
            "type": "pie"
           }
          ],
          "scatter": [
           {
            "fillpattern": {
             "fillmode": "overlay",
             "size": 10,
             "solidity": 0.2
            },
            "type": "scatter"
           }
          ],
          "scatter3d": [
           {
            "line": {
             "colorbar": {
              "outlinewidth": 0,
              "ticks": ""
             }
            },
            "marker": {
             "colorbar": {
              "outlinewidth": 0,
              "ticks": ""
             }
            },
            "type": "scatter3d"
           }
          ],
          "scattercarpet": [
           {
            "marker": {
             "colorbar": {
              "outlinewidth": 0,
              "ticks": ""
             }
            },
            "type": "scattercarpet"
           }
          ],
          "scattergeo": [
           {
            "marker": {
             "colorbar": {
              "outlinewidth": 0,
              "ticks": ""
             }
            },
            "type": "scattergeo"
           }
          ],
          "scattergl": [
           {
            "marker": {
             "colorbar": {
              "outlinewidth": 0,
              "ticks": ""
             }
            },
            "type": "scattergl"
           }
          ],
          "scattermapbox": [
           {
            "marker": {
             "colorbar": {
              "outlinewidth": 0,
              "ticks": ""
             }
            },
            "type": "scattermapbox"
           }
          ],
          "scatterpolar": [
           {
            "marker": {
             "colorbar": {
              "outlinewidth": 0,
              "ticks": ""
             }
            },
            "type": "scatterpolar"
           }
          ],
          "scatterpolargl": [
           {
            "marker": {
             "colorbar": {
              "outlinewidth": 0,
              "ticks": ""
             }
            },
            "type": "scatterpolargl"
           }
          ],
          "scatterternary": [
           {
            "marker": {
             "colorbar": {
              "outlinewidth": 0,
              "ticks": ""
             }
            },
            "type": "scatterternary"
           }
          ],
          "surface": [
           {
            "colorbar": {
             "outlinewidth": 0,
             "ticks": ""
            },
            "colorscale": [
             [
              0,
              "#0d0887"
             ],
             [
              0.1111111111111111,
              "#46039f"
             ],
             [
              0.2222222222222222,
              "#7201a8"
             ],
             [
              0.3333333333333333,
              "#9c179e"
             ],
             [
              0.4444444444444444,
              "#bd3786"
             ],
             [
              0.5555555555555556,
              "#d8576b"
             ],
             [
              0.6666666666666666,
              "#ed7953"
             ],
             [
              0.7777777777777778,
              "#fb9f3a"
             ],
             [
              0.8888888888888888,
              "#fdca26"
             ],
             [
              1,
              "#f0f921"
             ]
            ],
            "type": "surface"
           }
          ],
          "table": [
           {
            "cells": {
             "fill": {
              "color": "#EBF0F8"
             },
             "line": {
              "color": "white"
             }
            },
            "header": {
             "fill": {
              "color": "#C8D4E3"
             },
             "line": {
              "color": "white"
             }
            },
            "type": "table"
           }
          ]
         },
         "layout": {
          "annotationdefaults": {
           "arrowcolor": "#2a3f5f",
           "arrowhead": 0,
           "arrowwidth": 1
          },
          "autotypenumbers": "strict",
          "coloraxis": {
           "colorbar": {
            "outlinewidth": 0,
            "ticks": ""
           }
          },
          "colorscale": {
           "diverging": [
            [
             0,
             "#8e0152"
            ],
            [
             0.1,
             "#c51b7d"
            ],
            [
             0.2,
             "#de77ae"
            ],
            [
             0.3,
             "#f1b6da"
            ],
            [
             0.4,
             "#fde0ef"
            ],
            [
             0.5,
             "#f7f7f7"
            ],
            [
             0.6,
             "#e6f5d0"
            ],
            [
             0.7,
             "#b8e186"
            ],
            [
             0.8,
             "#7fbc41"
            ],
            [
             0.9,
             "#4d9221"
            ],
            [
             1,
             "#276419"
            ]
           ],
           "sequential": [
            [
             0,
             "#0d0887"
            ],
            [
             0.1111111111111111,
             "#46039f"
            ],
            [
             0.2222222222222222,
             "#7201a8"
            ],
            [
             0.3333333333333333,
             "#9c179e"
            ],
            [
             0.4444444444444444,
             "#bd3786"
            ],
            [
             0.5555555555555556,
             "#d8576b"
            ],
            [
             0.6666666666666666,
             "#ed7953"
            ],
            [
             0.7777777777777778,
             "#fb9f3a"
            ],
            [
             0.8888888888888888,
             "#fdca26"
            ],
            [
             1,
             "#f0f921"
            ]
           ],
           "sequentialminus": [
            [
             0,
             "#0d0887"
            ],
            [
             0.1111111111111111,
             "#46039f"
            ],
            [
             0.2222222222222222,
             "#7201a8"
            ],
            [
             0.3333333333333333,
             "#9c179e"
            ],
            [
             0.4444444444444444,
             "#bd3786"
            ],
            [
             0.5555555555555556,
             "#d8576b"
            ],
            [
             0.6666666666666666,
             "#ed7953"
            ],
            [
             0.7777777777777778,
             "#fb9f3a"
            ],
            [
             0.8888888888888888,
             "#fdca26"
            ],
            [
             1,
             "#f0f921"
            ]
           ]
          },
          "colorway": [
           "#636efa",
           "#EF553B",
           "#00cc96",
           "#ab63fa",
           "#FFA15A",
           "#19d3f3",
           "#FF6692",
           "#B6E880",
           "#FF97FF",
           "#FECB52"
          ],
          "font": {
           "color": "#2a3f5f"
          },
          "geo": {
           "bgcolor": "white",
           "lakecolor": "white",
           "landcolor": "#E5ECF6",
           "showlakes": true,
           "showland": true,
           "subunitcolor": "white"
          },
          "hoverlabel": {
           "align": "left"
          },
          "hovermode": "closest",
          "mapbox": {
           "style": "light"
          },
          "paper_bgcolor": "white",
          "plot_bgcolor": "#E5ECF6",
          "polar": {
           "angularaxis": {
            "gridcolor": "white",
            "linecolor": "white",
            "ticks": ""
           },
           "bgcolor": "#E5ECF6",
           "radialaxis": {
            "gridcolor": "white",
            "linecolor": "white",
            "ticks": ""
           }
          },
          "scene": {
           "xaxis": {
            "backgroundcolor": "#E5ECF6",
            "gridcolor": "white",
            "gridwidth": 2,
            "linecolor": "white",
            "showbackground": true,
            "ticks": "",
            "zerolinecolor": "white"
           },
           "yaxis": {
            "backgroundcolor": "#E5ECF6",
            "gridcolor": "white",
            "gridwidth": 2,
            "linecolor": "white",
            "showbackground": true,
            "ticks": "",
            "zerolinecolor": "white"
           },
           "zaxis": {
            "backgroundcolor": "#E5ECF6",
            "gridcolor": "white",
            "gridwidth": 2,
            "linecolor": "white",
            "showbackground": true,
            "ticks": "",
            "zerolinecolor": "white"
           }
          },
          "shapedefaults": {
           "line": {
            "color": "#2a3f5f"
           }
          },
          "ternary": {
           "aaxis": {
            "gridcolor": "white",
            "linecolor": "white",
            "ticks": ""
           },
           "baxis": {
            "gridcolor": "white",
            "linecolor": "white",
            "ticks": ""
           },
           "bgcolor": "#E5ECF6",
           "caxis": {
            "gridcolor": "white",
            "linecolor": "white",
            "ticks": ""
           }
          },
          "title": {
           "x": 0.05
          },
          "xaxis": {
           "automargin": true,
           "gridcolor": "white",
           "linecolor": "white",
           "ticks": "",
           "title": {
            "standoff": 15
           },
           "zerolinecolor": "white",
           "zerolinewidth": 2
          },
          "yaxis": {
           "automargin": true,
           "gridcolor": "white",
           "linecolor": "white",
           "ticks": "",
           "title": {
            "standoff": 15
           },
           "zerolinecolor": "white",
           "zerolinewidth": 2
          }
         }
        },
        "title": {
         "text": "ROC Curve"
        },
        "width": 800,
        "xaxis": {
         "anchor": "y",
         "domain": [
          0,
          1
         ],
         "title": {
          "text": "1 - Specificity"
         }
        },
        "yaxis": {
         "anchor": "x",
         "domain": [
          0,
          1
         ],
         "title": {
          "text": "Sensitivity"
         }
        }
       }
      }
     },
     "metadata": {},
     "output_type": "display_data"
    }
   ],
   "source": [
    "from plotly.subplots import make_subplots\n",
    "import plotly.graph_objects as go\n",
    "\n",
    "fig = make_subplots(rows=1, cols=1)\n",
    "\n",
    "fig.add_trace(\n",
    "    go.Scatter(x=[0, 1], y=[0,1]),\n",
    "    row=1, col=1\n",
    ")\n",
    "\n",
    "fig.add_trace(\n",
    "    go.Scatter(x=specificity, y=sensitivity),\n",
    "    row=1, col=1\n",
    ")\n",
    "\n",
    "fig.update_layout(height=600, width=800, title_text='ROC Curve',xaxis_title=\"1 - Specificity\",yaxis_title=\"Sensitivity\")\n",
    "fig.show()\n",
    "\n",
    "\n",
    "#fig = px.line(df, x=specificity, y=sensitivity, title='ROC Curve')\n",
    "#fig.show()"
   ]
  },
  {
   "attachments": {},
   "cell_type": "markdown",
   "id": "7b26e41d-ce14-4995-bd06-d0d61711b1df",
   "metadata": {},
   "source": [
    "a) From the graph we take Sensitivity = 0.87 and Specificity = 0.74 for an optimal cutoff is 0.4\n",
    "b) MCC = 0.550877 and F1_Score = 0.764706 for a recommednded balanced cutoff = 0.4 \n",
    "MCC = 0.522807 and F1_Score = 0.733333 for a defaut cutoff = 0.5\n",
    "\n",
    "MCC and F1_Score improved for the recommended cutoff than that of default cutoff which is a positive light on model perfomance and usability\n",
    "\n",
    "c) In this scenario, the goal is to assess the classifier's ability to distinguish between Omicron and the new variant. Since we are interested in identifying new variant cases with high sensitivity, we require a measure that prioritizes sensitivity or recall, such as F-score. As a result, using F-score to evaluate the classifier's performance is recommended."
   ]
  },
  {
   "attachments": {},
   "cell_type": "markdown",
   "id": "9fbc5439-0262-4fb3-b437-3e95d7e52f09",
   "metadata": {},
   "source": [
    "### 2"
   ]
  },
  {
   "cell_type": "code",
   "execution_count": 9,
   "id": "0ddf150c-c108-41d8-a4c2-70a26bc5c82b",
   "metadata": {},
   "outputs": [
    {
     "name": "stdout",
     "output_type": "stream",
     "text": [
      "Error_rate  0.025499999999999967\n",
      "Sensitivity  0.97375\n",
      "Specificity  0.025000000000000022\n"
     ]
    }
   ],
   "source": [
    "n11 = 38950\n",
    "n12 = 1050\n",
    "n21 = 1500\n",
    "n22 = 58500\n",
    "Accuracy = (n11+n22)/(n11+n12+n21+n22)\n",
    "Error_rate = 1-Accuracy\n",
    "sensitivity = n11/(n11+n12)\n",
    "specificity = 1 - (n22/(n21+n22))\n",
    "print(\"Error_rate \",Error_rate)\n",
    "print(\"Sensitivity \",sensitivity)\n",
    "print(\"Specificity \",specificity)"
   ]
  },
  {
   "cell_type": "code",
   "execution_count": 10,
   "id": "f6157e96-d166-4197-bbb2-a0201041bb3b",
   "metadata": {},
   "outputs": [
    {
     "name": "stdout",
     "output_type": "stream",
     "text": [
      "Error_rate  0.25249999999999995\n",
      "Sensitivity  0.6666666666666666\n",
      "Specificity  0.20399999999999996\n"
     ]
    }
   ],
   "source": [
    "n11 = 2500\n",
    "n12 = 1250\n",
    "n21 = 1275\n",
    "n22 = 4975\n",
    "Accuracy = (n11+n22)/(n11+n12+n21+n22)\n",
    "Error_rate = 1-Accuracy\n",
    "sensitivity = n11/(n11+n12)\n",
    "specificity = 1 - (n22/(n21+n22))\n",
    "print(\"Error_rate \",Error_rate)\n",
    "print(\"Sensitivity \",sensitivity)\n",
    "print(\"Specificity \",specificity)\n",
    "#overfitting"
   ]
  },
  {
   "attachments": {},
   "cell_type": "markdown",
   "id": "6b190c33-3044-4a0f-8ecf-f7dc794a3fe0",
   "metadata": {},
   "source": [
    "There appears to have a overfitting model on validation datasetwhich can be seen from the data,\n",
    "\n",
    "On the training set, the model achieved a very low error rate of 0.0255, indicating that it was able to accurately classify a large majority of the cases in the dataset. The sensitivity, which measures the proportion of true positive cases that were correctly identified, was very high at 0.97375, indicating that the model was able to correctly identify almost all of the Diabetic retinopathy cases in the training set. However, the specificity, which measures the proportion of true negative cases that were correctly identified, was very low at 0.025, indicating that the model incorrectly identified a large proportion of normal cases as Diabetic retinopathy cases.\n",
    "\n",
    "On the validation set, however, the model performed much worse. The error rate was much higher at 0.2525, indicating that the model incorrectly classified a large proportion of cases in the validation set. The sensitivity was still moderate at 0.6667, indicating that the model was able to correctly identify a reasonable proportion of the Diabetic retinopathy cases in the validation set. However, the specificity was still quite low at 0.204, indicating that the model incorrectly identified a large proportion of normal cases as Diabetic retinopathy cases in the validation set.\n"
   ]
  },
  {
   "attachments": {},
   "cell_type": "markdown",
   "id": "d1258ef6-f88b-4d77-a143-fb91df18f62d",
   "metadata": {},
   "source": [
    "### 4"
   ]
  },
  {
   "cell_type": "code",
   "execution_count": 13,
   "id": "c01b183b-636e-489a-98cb-7d69c7cde108",
   "metadata": {},
   "outputs": [
    {
     "data": {
      "text/html": [
       "<div>\n",
       "<style scoped>\n",
       "    .dataframe tbody tr th:only-of-type {\n",
       "        vertical-align: middle;\n",
       "    }\n",
       "\n",
       "    .dataframe tbody tr th {\n",
       "        vertical-align: top;\n",
       "    }\n",
       "\n",
       "    .dataframe thead th {\n",
       "        text-align: right;\n",
       "    }\n",
       "</style>\n",
       "<table border=\"1\" class=\"dataframe\">\n",
       "  <thead>\n",
       "    <tr style=\"text-align: right;\">\n",
       "      <th></th>\n",
       "      <th>Sn</th>\n",
       "      <th>Companies Name</th>\n",
       "      <th>Region</th>\n",
       "      <th>Data Warehouse</th>\n",
       "      <th>Cloud data storage size</th>\n",
       "      <th>BI Tool</th>\n",
       "      <th>Service Cost</th>\n",
       "      <th>Probability of winning the opportunity</th>\n",
       "      <th>Actual Class</th>\n",
       "    </tr>\n",
       "  </thead>\n",
       "  <tbody>\n",
       "    <tr>\n",
       "      <th>0</th>\n",
       "      <td>1</td>\n",
       "      <td>Walmart</td>\n",
       "      <td>Europe</td>\n",
       "      <td>AWS Redshift</td>\n",
       "      <td>455 TB</td>\n",
       "      <td>AWS Quicksight</td>\n",
       "      <td>610 $</td>\n",
       "      <td>0.397</td>\n",
       "      <td>0</td>\n",
       "    </tr>\n",
       "    <tr>\n",
       "      <th>1</th>\n",
       "      <td>2</td>\n",
       "      <td>Exxon Mobil</td>\n",
       "      <td>Europe</td>\n",
       "      <td>Azure Synapse</td>\n",
       "      <td>233 TB</td>\n",
       "      <td>Microsoft Power BI</td>\n",
       "      <td>888 $</td>\n",
       "      <td>0.176</td>\n",
       "      <td>0</td>\n",
       "    </tr>\n",
       "    <tr>\n",
       "      <th>2</th>\n",
       "      <td>3</td>\n",
       "      <td>Apple</td>\n",
       "      <td>Europe</td>\n",
       "      <td>AWS Redshift</td>\n",
       "      <td>859 TB</td>\n",
       "      <td>AWS Quicksight</td>\n",
       "      <td>682 $</td>\n",
       "      <td>0.416</td>\n",
       "      <td>0</td>\n",
       "    </tr>\n",
       "    <tr>\n",
       "      <th>3</th>\n",
       "      <td>4</td>\n",
       "      <td>Berkshire Hathaway</td>\n",
       "      <td>India</td>\n",
       "      <td>Azure Synapse</td>\n",
       "      <td>66 TB</td>\n",
       "      <td>Microsoft Power BI</td>\n",
       "      <td>710 $</td>\n",
       "      <td>0.385</td>\n",
       "      <td>0</td>\n",
       "    </tr>\n",
       "    <tr>\n",
       "      <th>4</th>\n",
       "      <td>5</td>\n",
       "      <td>Amazon.com</td>\n",
       "      <td>USA</td>\n",
       "      <td>GCP Big Query</td>\n",
       "      <td>338 TB</td>\n",
       "      <td>Looker</td>\n",
       "      <td>1500 $</td>\n",
       "      <td>0.998</td>\n",
       "      <td>1</td>\n",
       "    </tr>\n",
       "  </tbody>\n",
       "</table>\n",
       "</div>"
      ],
      "text/plain": [
       "   Sn      Companies Name  Region Data Warehouse Cloud data storage size  \\\n",
       "0   1             Walmart  Europe   AWS Redshift                  455 TB   \n",
       "1   2         Exxon Mobil  Europe  Azure Synapse                  233 TB   \n",
       "2   3               Apple  Europe   AWS Redshift                  859 TB   \n",
       "3   4  Berkshire Hathaway   India  Azure Synapse                   66 TB   \n",
       "4   5          Amazon.com     USA  GCP Big Query                  338 TB   \n",
       "\n",
       "              BI Tool Service Cost  Probability of winning the opportunity  \\\n",
       "0      AWS Quicksight        610 $                                   0.397   \n",
       "1  Microsoft Power BI        888 $                                   0.176   \n",
       "2      AWS Quicksight        682 $                                   0.416   \n",
       "3  Microsoft Power BI        710 $                                   0.385   \n",
       "4              Looker       1500 $                                   0.998   \n",
       "\n",
       "   Actual Class  \n",
       "0             0  \n",
       "1             0  \n",
       "2             0  \n",
       "3             0  \n",
       "4             1  "
      ]
     },
     "execution_count": 13,
     "metadata": {},
     "output_type": "execute_result"
    }
   ],
   "source": [
    "bc = pd.read_excel(\"./Data/Bostonconsultancy.xlsx\")\n",
    "bc.head()"
   ]
  },
  {
   "cell_type": "code",
   "execution_count": 14,
   "id": "9ad711b4-3c19-4f08-a7b1-8d111c1377bc",
   "metadata": {},
   "outputs": [
    {
     "data": {
      "text/html": [
       "<div>\n",
       "<style scoped>\n",
       "    .dataframe tbody tr th:only-of-type {\n",
       "        vertical-align: middle;\n",
       "    }\n",
       "\n",
       "    .dataframe tbody tr th {\n",
       "        vertical-align: top;\n",
       "    }\n",
       "\n",
       "    .dataframe thead th {\n",
       "        text-align: right;\n",
       "    }\n",
       "</style>\n",
       "<table border=\"1\" class=\"dataframe\">\n",
       "  <thead>\n",
       "    <tr style=\"text-align: right;\">\n",
       "      <th></th>\n",
       "      <th>Sn</th>\n",
       "      <th>Companies Name</th>\n",
       "      <th>Region</th>\n",
       "      <th>Data Warehouse</th>\n",
       "      <th>Cloud data storage size</th>\n",
       "      <th>BI Tool</th>\n",
       "      <th>Service Cost</th>\n",
       "      <th>propensity</th>\n",
       "      <th>Actual Class</th>\n",
       "    </tr>\n",
       "  </thead>\n",
       "  <tbody>\n",
       "    <tr>\n",
       "      <th>4</th>\n",
       "      <td>5</td>\n",
       "      <td>Amazon.com</td>\n",
       "      <td>USA</td>\n",
       "      <td>GCP Big Query</td>\n",
       "      <td>338 TB</td>\n",
       "      <td>Looker</td>\n",
       "      <td>1500 $</td>\n",
       "      <td>0.998</td>\n",
       "      <td>1</td>\n",
       "    </tr>\n",
       "    <tr>\n",
       "      <th>69</th>\n",
       "      <td>70</td>\n",
       "      <td>Charter Communications</td>\n",
       "      <td>USA</td>\n",
       "      <td>GCP Big Query</td>\n",
       "      <td>170 TB</td>\n",
       "      <td>Looker</td>\n",
       "      <td>618 $</td>\n",
       "      <td>0.996</td>\n",
       "      <td>1</td>\n",
       "    </tr>\n",
       "    <tr>\n",
       "      <th>65</th>\n",
       "      <td>66</td>\n",
       "      <td>AIG</td>\n",
       "      <td>USA</td>\n",
       "      <td>GCP Big Query</td>\n",
       "      <td>858 TB</td>\n",
       "      <td>Looker</td>\n",
       "      <td>490 $</td>\n",
       "      <td>0.988</td>\n",
       "      <td>0</td>\n",
       "    </tr>\n",
       "    <tr>\n",
       "      <th>43</th>\n",
       "      <td>44</td>\n",
       "      <td>MetLife</td>\n",
       "      <td>USA</td>\n",
       "      <td>GCP Big Query</td>\n",
       "      <td>853 TB</td>\n",
       "      <td>Looker</td>\n",
       "      <td>948 $</td>\n",
       "      <td>0.984</td>\n",
       "      <td>1</td>\n",
       "    </tr>\n",
       "    <tr>\n",
       "      <th>29</th>\n",
       "      <td>30</td>\n",
       "      <td>Citigroup</td>\n",
       "      <td>USA</td>\n",
       "      <td>GCP Big Query</td>\n",
       "      <td>749 TB</td>\n",
       "      <td>Looker</td>\n",
       "      <td>702 $</td>\n",
       "      <td>0.974</td>\n",
       "      <td>0</td>\n",
       "    </tr>\n",
       "  </tbody>\n",
       "</table>\n",
       "</div>"
      ],
      "text/plain": [
       "    Sn          Companies Name Region Data Warehouse Cloud data storage size  \\\n",
       "4    5              Amazon.com    USA  GCP Big Query                  338 TB   \n",
       "69  70  Charter Communications    USA  GCP Big Query                  170 TB   \n",
       "65  66                     AIG    USA  GCP Big Query                  858 TB   \n",
       "43  44                 MetLife    USA  GCP Big Query                  853 TB   \n",
       "29  30               Citigroup    USA  GCP Big Query                  749 TB   \n",
       "\n",
       "   BI Tool Service Cost  propensity  Actual Class  \n",
       "4   Looker       1500 $       0.998             1  \n",
       "69  Looker        618 $       0.996             1  \n",
       "65  Looker        490 $       0.988             0  \n",
       "43  Looker        948 $       0.984             1  \n",
       "29  Looker        702 $       0.974             0  "
      ]
     },
     "execution_count": 14,
     "metadata": {},
     "output_type": "execute_result"
    }
   ],
   "source": [
    "bc.rename(columns = {'Probability of winning the opportunity':'propensity'}, inplace = True)\n",
    "bc = bc.sort_values(by = \"propensity\",axis=0, ascending=False)\n",
    "bc.head()"
   ]
  },
  {
   "cell_type": "code",
   "execution_count": 15,
   "id": "44ad1c17-dc91-49b2-85f4-3f917022012e",
   "metadata": {},
   "outputs": [
    {
     "data": {
      "text/html": [
       "<div>\n",
       "<style scoped>\n",
       "    .dataframe tbody tr th:only-of-type {\n",
       "        vertical-align: middle;\n",
       "    }\n",
       "\n",
       "    .dataframe tbody tr th {\n",
       "        vertical-align: top;\n",
       "    }\n",
       "\n",
       "    .dataframe thead th {\n",
       "        text-align: right;\n",
       "    }\n",
       "</style>\n",
       "<table border=\"1\" class=\"dataframe\">\n",
       "  <thead>\n",
       "    <tr style=\"text-align: right;\">\n",
       "      <th></th>\n",
       "      <th>Sn</th>\n",
       "      <th>Companies Name</th>\n",
       "      <th>Region</th>\n",
       "      <th>Data Warehouse</th>\n",
       "      <th>Cloud data storage size</th>\n",
       "      <th>BI Tool</th>\n",
       "      <th>Service Cost</th>\n",
       "      <th>propensity</th>\n",
       "      <th>Actual Class</th>\n",
       "      <th>Gain, C(k)</th>\n",
       "    </tr>\n",
       "  </thead>\n",
       "  <tbody>\n",
       "    <tr>\n",
       "      <th>4</th>\n",
       "      <td>5</td>\n",
       "      <td>Amazon.com</td>\n",
       "      <td>USA</td>\n",
       "      <td>GCP Big Query</td>\n",
       "      <td>338 TB</td>\n",
       "      <td>Looker</td>\n",
       "      <td>1500 $</td>\n",
       "      <td>0.998</td>\n",
       "      <td>1</td>\n",
       "      <td>1</td>\n",
       "    </tr>\n",
       "    <tr>\n",
       "      <th>69</th>\n",
       "      <td>70</td>\n",
       "      <td>Charter Communications</td>\n",
       "      <td>USA</td>\n",
       "      <td>GCP Big Query</td>\n",
       "      <td>170 TB</td>\n",
       "      <td>Looker</td>\n",
       "      <td>618 $</td>\n",
       "      <td>0.996</td>\n",
       "      <td>1</td>\n",
       "      <td>2</td>\n",
       "    </tr>\n",
       "    <tr>\n",
       "      <th>65</th>\n",
       "      <td>66</td>\n",
       "      <td>AIG</td>\n",
       "      <td>USA</td>\n",
       "      <td>GCP Big Query</td>\n",
       "      <td>858 TB</td>\n",
       "      <td>Looker</td>\n",
       "      <td>490 $</td>\n",
       "      <td>0.988</td>\n",
       "      <td>0</td>\n",
       "      <td>2</td>\n",
       "    </tr>\n",
       "    <tr>\n",
       "      <th>43</th>\n",
       "      <td>44</td>\n",
       "      <td>MetLife</td>\n",
       "      <td>USA</td>\n",
       "      <td>GCP Big Query</td>\n",
       "      <td>853 TB</td>\n",
       "      <td>Looker</td>\n",
       "      <td>948 $</td>\n",
       "      <td>0.984</td>\n",
       "      <td>1</td>\n",
       "      <td>3</td>\n",
       "    </tr>\n",
       "    <tr>\n",
       "      <th>29</th>\n",
       "      <td>30</td>\n",
       "      <td>Citigroup</td>\n",
       "      <td>USA</td>\n",
       "      <td>GCP Big Query</td>\n",
       "      <td>749 TB</td>\n",
       "      <td>Looker</td>\n",
       "      <td>702 $</td>\n",
       "      <td>0.974</td>\n",
       "      <td>0</td>\n",
       "      <td>3</td>\n",
       "    </tr>\n",
       "  </tbody>\n",
       "</table>\n",
       "</div>"
      ],
      "text/plain": [
       "    Sn          Companies Name Region Data Warehouse Cloud data storage size  \\\n",
       "4    5              Amazon.com    USA  GCP Big Query                  338 TB   \n",
       "69  70  Charter Communications    USA  GCP Big Query                  170 TB   \n",
       "65  66                     AIG    USA  GCP Big Query                  858 TB   \n",
       "43  44                 MetLife    USA  GCP Big Query                  853 TB   \n",
       "29  30               Citigroup    USA  GCP Big Query                  749 TB   \n",
       "\n",
       "   BI Tool Service Cost  propensity  Actual Class  Gain, C(k)  \n",
       "4   Looker       1500 $       0.998             1           1  \n",
       "69  Looker        618 $       0.996             1           2  \n",
       "65  Looker        490 $       0.988             0           2  \n",
       "43  Looker        948 $       0.984             1           3  \n",
       "29  Looker        702 $       0.974             0           3  "
      ]
     },
     "execution_count": 15,
     "metadata": {},
     "output_type": "execute_result"
    }
   ],
   "source": [
    "bc[\"Gain, C(k)\"] = bc[\"Actual Class\"].cumsum()\n",
    "bc.head()"
   ]
  },
  {
   "cell_type": "code",
   "execution_count": 16,
   "id": "81b20d10-f7e6-4fe7-aa1d-122e1d8f649a",
   "metadata": {},
   "outputs": [
    {
     "data": {
      "text/plain": [
       "72"
      ]
     },
     "execution_count": 16,
     "metadata": {},
     "output_type": "execute_result"
    }
   ],
   "source": [
    "bc.shape[0]"
   ]
  },
  {
   "cell_type": "code",
   "execution_count": 17,
   "id": "ee6225cc-329b-4300-9f1a-93f47753f512",
   "metadata": {},
   "outputs": [
    {
     "data": {
      "text/html": [
       "<div>\n",
       "<style scoped>\n",
       "    .dataframe tbody tr th:only-of-type {\n",
       "        vertical-align: middle;\n",
       "    }\n",
       "\n",
       "    .dataframe tbody tr th {\n",
       "        vertical-align: top;\n",
       "    }\n",
       "\n",
       "    .dataframe thead th {\n",
       "        text-align: right;\n",
       "    }\n",
       "</style>\n",
       "<table border=\"1\" class=\"dataframe\">\n",
       "  <thead>\n",
       "    <tr style=\"text-align: right;\">\n",
       "      <th></th>\n",
       "      <th>Sn</th>\n",
       "      <th>Companies Name</th>\n",
       "      <th>Region</th>\n",
       "      <th>Data Warehouse</th>\n",
       "      <th>Cloud data storage size</th>\n",
       "      <th>BI Tool</th>\n",
       "      <th>Service Cost</th>\n",
       "      <th>propensity</th>\n",
       "      <th>Actual Class</th>\n",
       "      <th>Gain, C(k)</th>\n",
       "      <th>Case, K</th>\n",
       "    </tr>\n",
       "  </thead>\n",
       "  <tbody>\n",
       "    <tr>\n",
       "      <th>4</th>\n",
       "      <td>5</td>\n",
       "      <td>Amazon.com</td>\n",
       "      <td>USA</td>\n",
       "      <td>GCP Big Query</td>\n",
       "      <td>338 TB</td>\n",
       "      <td>Looker</td>\n",
       "      <td>1500 $</td>\n",
       "      <td>0.998</td>\n",
       "      <td>1</td>\n",
       "      <td>1</td>\n",
       "      <td>1</td>\n",
       "    </tr>\n",
       "    <tr>\n",
       "      <th>69</th>\n",
       "      <td>70</td>\n",
       "      <td>Charter Communications</td>\n",
       "      <td>USA</td>\n",
       "      <td>GCP Big Query</td>\n",
       "      <td>170 TB</td>\n",
       "      <td>Looker</td>\n",
       "      <td>618 $</td>\n",
       "      <td>0.996</td>\n",
       "      <td>1</td>\n",
       "      <td>2</td>\n",
       "      <td>2</td>\n",
       "    </tr>\n",
       "    <tr>\n",
       "      <th>65</th>\n",
       "      <td>66</td>\n",
       "      <td>AIG</td>\n",
       "      <td>USA</td>\n",
       "      <td>GCP Big Query</td>\n",
       "      <td>858 TB</td>\n",
       "      <td>Looker</td>\n",
       "      <td>490 $</td>\n",
       "      <td>0.988</td>\n",
       "      <td>0</td>\n",
       "      <td>2</td>\n",
       "      <td>3</td>\n",
       "    </tr>\n",
       "    <tr>\n",
       "      <th>43</th>\n",
       "      <td>44</td>\n",
       "      <td>MetLife</td>\n",
       "      <td>USA</td>\n",
       "      <td>GCP Big Query</td>\n",
       "      <td>853 TB</td>\n",
       "      <td>Looker</td>\n",
       "      <td>948 $</td>\n",
       "      <td>0.984</td>\n",
       "      <td>1</td>\n",
       "      <td>3</td>\n",
       "      <td>4</td>\n",
       "    </tr>\n",
       "    <tr>\n",
       "      <th>29</th>\n",
       "      <td>30</td>\n",
       "      <td>Citigroup</td>\n",
       "      <td>USA</td>\n",
       "      <td>GCP Big Query</td>\n",
       "      <td>749 TB</td>\n",
       "      <td>Looker</td>\n",
       "      <td>702 $</td>\n",
       "      <td>0.974</td>\n",
       "      <td>0</td>\n",
       "      <td>3</td>\n",
       "      <td>5</td>\n",
       "    </tr>\n",
       "  </tbody>\n",
       "</table>\n",
       "</div>"
      ],
      "text/plain": [
       "    Sn          Companies Name Region Data Warehouse Cloud data storage size  \\\n",
       "4    5              Amazon.com    USA  GCP Big Query                  338 TB   \n",
       "69  70  Charter Communications    USA  GCP Big Query                  170 TB   \n",
       "65  66                     AIG    USA  GCP Big Query                  858 TB   \n",
       "43  44                 MetLife    USA  GCP Big Query                  853 TB   \n",
       "29  30               Citigroup    USA  GCP Big Query                  749 TB   \n",
       "\n",
       "   BI Tool Service Cost  propensity  Actual Class  Gain, C(k)  Case, K  \n",
       "4   Looker       1500 $       0.998             1           1        1  \n",
       "69  Looker        618 $       0.996             1           2        2  \n",
       "65  Looker        490 $       0.988             0           2        3  \n",
       "43  Looker        948 $       0.984             1           3        4  \n",
       "29  Looker        702 $       0.974             0           3        5  "
      ]
     },
     "execution_count": 17,
     "metadata": {},
     "output_type": "execute_result"
    }
   ],
   "source": [
    "lst = list(range(1,bc[\"Actual Class\"].count()+1))\n",
    "bc[\"Case, K\"] = lst\n",
    "bc.head()"
   ]
  },
  {
   "cell_type": "code",
   "execution_count": 18,
   "id": "5256131e-875d-4582-aedb-40a3ad448d07",
   "metadata": {},
   "outputs": [
    {
     "data": {
      "text/html": [
       "<div>\n",
       "<style scoped>\n",
       "    .dataframe tbody tr th:only-of-type {\n",
       "        vertical-align: middle;\n",
       "    }\n",
       "\n",
       "    .dataframe tbody tr th {\n",
       "        vertical-align: top;\n",
       "    }\n",
       "\n",
       "    .dataframe thead th {\n",
       "        text-align: right;\n",
       "    }\n",
       "</style>\n",
       "<table border=\"1\" class=\"dataframe\">\n",
       "  <thead>\n",
       "    <tr style=\"text-align: right;\">\n",
       "      <th></th>\n",
       "      <th>Sn</th>\n",
       "      <th>Companies Name</th>\n",
       "      <th>Region</th>\n",
       "      <th>Data Warehouse</th>\n",
       "      <th>Cloud data storage size</th>\n",
       "      <th>BI Tool</th>\n",
       "      <th>Service Cost</th>\n",
       "      <th>propensity</th>\n",
       "      <th>Actual Class</th>\n",
       "      <th>Gain, C(k)</th>\n",
       "      <th>Case, K</th>\n",
       "      <th>Baseline, A(k)</th>\n",
       "    </tr>\n",
       "  </thead>\n",
       "  <tbody>\n",
       "    <tr>\n",
       "      <th>4</th>\n",
       "      <td>5</td>\n",
       "      <td>Amazon.com</td>\n",
       "      <td>USA</td>\n",
       "      <td>GCP Big Query</td>\n",
       "      <td>338 TB</td>\n",
       "      <td>Looker</td>\n",
       "      <td>1500 $</td>\n",
       "      <td>0.998</td>\n",
       "      <td>1</td>\n",
       "      <td>1</td>\n",
       "      <td>1</td>\n",
       "      <td>0.472222</td>\n",
       "    </tr>\n",
       "    <tr>\n",
       "      <th>69</th>\n",
       "      <td>70</td>\n",
       "      <td>Charter Communications</td>\n",
       "      <td>USA</td>\n",
       "      <td>GCP Big Query</td>\n",
       "      <td>170 TB</td>\n",
       "      <td>Looker</td>\n",
       "      <td>618 $</td>\n",
       "      <td>0.996</td>\n",
       "      <td>1</td>\n",
       "      <td>2</td>\n",
       "      <td>2</td>\n",
       "      <td>0.944444</td>\n",
       "    </tr>\n",
       "    <tr>\n",
       "      <th>65</th>\n",
       "      <td>66</td>\n",
       "      <td>AIG</td>\n",
       "      <td>USA</td>\n",
       "      <td>GCP Big Query</td>\n",
       "      <td>858 TB</td>\n",
       "      <td>Looker</td>\n",
       "      <td>490 $</td>\n",
       "      <td>0.988</td>\n",
       "      <td>0</td>\n",
       "      <td>2</td>\n",
       "      <td>3</td>\n",
       "      <td>1.416667</td>\n",
       "    </tr>\n",
       "    <tr>\n",
       "      <th>43</th>\n",
       "      <td>44</td>\n",
       "      <td>MetLife</td>\n",
       "      <td>USA</td>\n",
       "      <td>GCP Big Query</td>\n",
       "      <td>853 TB</td>\n",
       "      <td>Looker</td>\n",
       "      <td>948 $</td>\n",
       "      <td>0.984</td>\n",
       "      <td>1</td>\n",
       "      <td>3</td>\n",
       "      <td>4</td>\n",
       "      <td>1.888889</td>\n",
       "    </tr>\n",
       "    <tr>\n",
       "      <th>29</th>\n",
       "      <td>30</td>\n",
       "      <td>Citigroup</td>\n",
       "      <td>USA</td>\n",
       "      <td>GCP Big Query</td>\n",
       "      <td>749 TB</td>\n",
       "      <td>Looker</td>\n",
       "      <td>702 $</td>\n",
       "      <td>0.974</td>\n",
       "      <td>0</td>\n",
       "      <td>3</td>\n",
       "      <td>5</td>\n",
       "      <td>2.361111</td>\n",
       "    </tr>\n",
       "  </tbody>\n",
       "</table>\n",
       "</div>"
      ],
      "text/plain": [
       "    Sn          Companies Name Region Data Warehouse Cloud data storage size  \\\n",
       "4    5              Amazon.com    USA  GCP Big Query                  338 TB   \n",
       "69  70  Charter Communications    USA  GCP Big Query                  170 TB   \n",
       "65  66                     AIG    USA  GCP Big Query                  858 TB   \n",
       "43  44                 MetLife    USA  GCP Big Query                  853 TB   \n",
       "29  30               Citigroup    USA  GCP Big Query                  749 TB   \n",
       "\n",
       "   BI Tool Service Cost  propensity  Actual Class  Gain, C(k)  Case, K  \\\n",
       "4   Looker       1500 $       0.998             1           1        1   \n",
       "69  Looker        618 $       0.996             1           2        2   \n",
       "65  Looker        490 $       0.988             0           2        3   \n",
       "43  Looker        948 $       0.984             1           3        4   \n",
       "29  Looker        702 $       0.974             0           3        5   \n",
       "\n",
       "    Baseline, A(k)  \n",
       "4         0.472222  \n",
       "69        0.944444  \n",
       "65        1.416667  \n",
       "43        1.888889  \n",
       "29        2.361111  "
      ]
     },
     "execution_count": 18,
     "metadata": {},
     "output_type": "execute_result"
    }
   ],
   "source": [
    "y = bc[\"Actual Class\"].sum()/bc[\"Actual Class\"].count()\n",
    "bc[\"Baseline, A(k)\"] = y*bc[\"Case, K\"]\n",
    "bc.head()"
   ]
  },
  {
   "cell_type": "code",
   "execution_count": 19,
   "id": "3b6cf2d8-0cba-413b-a51f-04cd36fe0eac",
   "metadata": {},
   "outputs": [
    {
     "data": {
      "text/html": [
       "<div>\n",
       "<style scoped>\n",
       "    .dataframe tbody tr th:only-of-type {\n",
       "        vertical-align: middle;\n",
       "    }\n",
       "\n",
       "    .dataframe tbody tr th {\n",
       "        vertical-align: top;\n",
       "    }\n",
       "\n",
       "    .dataframe thead th {\n",
       "        text-align: right;\n",
       "    }\n",
       "</style>\n",
       "<table border=\"1\" class=\"dataframe\">\n",
       "  <thead>\n",
       "    <tr style=\"text-align: right;\">\n",
       "      <th></th>\n",
       "      <th>Sn</th>\n",
       "      <th>Companies Name</th>\n",
       "      <th>Region</th>\n",
       "      <th>Data Warehouse</th>\n",
       "      <th>Cloud data storage size</th>\n",
       "      <th>BI Tool</th>\n",
       "      <th>Service Cost</th>\n",
       "      <th>propensity</th>\n",
       "      <th>Actual Class</th>\n",
       "      <th>Gain, C(k)</th>\n",
       "      <th>Case, K</th>\n",
       "      <th>Baseline, A(k)</th>\n",
       "      <th>Lift, L(k)</th>\n",
       "      <th>Baseline, B(k)</th>\n",
       "    </tr>\n",
       "  </thead>\n",
       "  <tbody>\n",
       "    <tr>\n",
       "      <th>4</th>\n",
       "      <td>5</td>\n",
       "      <td>Amazon.com</td>\n",
       "      <td>USA</td>\n",
       "      <td>GCP Big Query</td>\n",
       "      <td>338 TB</td>\n",
       "      <td>Looker</td>\n",
       "      <td>1500 $</td>\n",
       "      <td>0.998</td>\n",
       "      <td>1</td>\n",
       "      <td>1</td>\n",
       "      <td>1</td>\n",
       "      <td>0.472222</td>\n",
       "      <td>2.117647</td>\n",
       "      <td>1.0</td>\n",
       "    </tr>\n",
       "    <tr>\n",
       "      <th>69</th>\n",
       "      <td>70</td>\n",
       "      <td>Charter Communications</td>\n",
       "      <td>USA</td>\n",
       "      <td>GCP Big Query</td>\n",
       "      <td>170 TB</td>\n",
       "      <td>Looker</td>\n",
       "      <td>618 $</td>\n",
       "      <td>0.996</td>\n",
       "      <td>1</td>\n",
       "      <td>2</td>\n",
       "      <td>2</td>\n",
       "      <td>0.944444</td>\n",
       "      <td>2.117647</td>\n",
       "      <td>1.0</td>\n",
       "    </tr>\n",
       "    <tr>\n",
       "      <th>65</th>\n",
       "      <td>66</td>\n",
       "      <td>AIG</td>\n",
       "      <td>USA</td>\n",
       "      <td>GCP Big Query</td>\n",
       "      <td>858 TB</td>\n",
       "      <td>Looker</td>\n",
       "      <td>490 $</td>\n",
       "      <td>0.988</td>\n",
       "      <td>0</td>\n",
       "      <td>2</td>\n",
       "      <td>3</td>\n",
       "      <td>1.416667</td>\n",
       "      <td>1.411765</td>\n",
       "      <td>1.0</td>\n",
       "    </tr>\n",
       "    <tr>\n",
       "      <th>43</th>\n",
       "      <td>44</td>\n",
       "      <td>MetLife</td>\n",
       "      <td>USA</td>\n",
       "      <td>GCP Big Query</td>\n",
       "      <td>853 TB</td>\n",
       "      <td>Looker</td>\n",
       "      <td>948 $</td>\n",
       "      <td>0.984</td>\n",
       "      <td>1</td>\n",
       "      <td>3</td>\n",
       "      <td>4</td>\n",
       "      <td>1.888889</td>\n",
       "      <td>1.588235</td>\n",
       "      <td>1.0</td>\n",
       "    </tr>\n",
       "    <tr>\n",
       "      <th>29</th>\n",
       "      <td>30</td>\n",
       "      <td>Citigroup</td>\n",
       "      <td>USA</td>\n",
       "      <td>GCP Big Query</td>\n",
       "      <td>749 TB</td>\n",
       "      <td>Looker</td>\n",
       "      <td>702 $</td>\n",
       "      <td>0.974</td>\n",
       "      <td>0</td>\n",
       "      <td>3</td>\n",
       "      <td>5</td>\n",
       "      <td>2.361111</td>\n",
       "      <td>1.270588</td>\n",
       "      <td>1.0</td>\n",
       "    </tr>\n",
       "  </tbody>\n",
       "</table>\n",
       "</div>"
      ],
      "text/plain": [
       "    Sn          Companies Name Region Data Warehouse Cloud data storage size  \\\n",
       "4    5              Amazon.com    USA  GCP Big Query                  338 TB   \n",
       "69  70  Charter Communications    USA  GCP Big Query                  170 TB   \n",
       "65  66                     AIG    USA  GCP Big Query                  858 TB   \n",
       "43  44                 MetLife    USA  GCP Big Query                  853 TB   \n",
       "29  30               Citigroup    USA  GCP Big Query                  749 TB   \n",
       "\n",
       "   BI Tool Service Cost  propensity  Actual Class  Gain, C(k)  Case, K  \\\n",
       "4   Looker       1500 $       0.998             1           1        1   \n",
       "69  Looker        618 $       0.996             1           2        2   \n",
       "65  Looker        490 $       0.988             0           2        3   \n",
       "43  Looker        948 $       0.984             1           3        4   \n",
       "29  Looker        702 $       0.974             0           3        5   \n",
       "\n",
       "    Baseline, A(k)  Lift, L(k)  Baseline, B(k)  \n",
       "4         0.472222    2.117647             1.0  \n",
       "69        0.944444    2.117647             1.0  \n",
       "65        1.416667    1.411765             1.0  \n",
       "43        1.888889    1.588235             1.0  \n",
       "29        2.361111    1.270588             1.0  "
      ]
     },
     "execution_count": 19,
     "metadata": {},
     "output_type": "execute_result"
    }
   ],
   "source": [
    "bc[\"Lift, L(k)\"] = bc[\"Gain, C(k)\"]/bc[\"Baseline, A(k)\"]\n",
    "bc[\"Baseline, B(k)\"] = bc[\"Baseline, A(k)\"]/bc[\"Baseline, A(k)\"]\n",
    "bc.head()"
   ]
  },
  {
   "cell_type": "code",
   "execution_count": 20,
   "id": "98e02690-bfce-476a-a24e-771eaaf5058c",
   "metadata": {},
   "outputs": [
    {
     "data": {
      "text/html": [
       "<div>\n",
       "<style scoped>\n",
       "    .dataframe tbody tr th:only-of-type {\n",
       "        vertical-align: middle;\n",
       "    }\n",
       "\n",
       "    .dataframe tbody tr th {\n",
       "        vertical-align: top;\n",
       "    }\n",
       "\n",
       "    .dataframe thead th {\n",
       "        text-align: right;\n",
       "    }\n",
       "</style>\n",
       "<table border=\"1\" class=\"dataframe\">\n",
       "  <thead>\n",
       "    <tr style=\"text-align: right;\">\n",
       "      <th></th>\n",
       "      <th>Sn</th>\n",
       "      <th>Companies Name</th>\n",
       "      <th>Region</th>\n",
       "      <th>Data Warehouse</th>\n",
       "      <th>Cloud data storage size</th>\n",
       "      <th>BI Tool</th>\n",
       "      <th>Service Cost</th>\n",
       "      <th>propensity</th>\n",
       "      <th>Actual Class</th>\n",
       "      <th>Gain, C(k)</th>\n",
       "      <th>Case, K</th>\n",
       "      <th>Baseline, A(k)</th>\n",
       "      <th>Lift, L(k)</th>\n",
       "      <th>Baseline, B(k)</th>\n",
       "    </tr>\n",
       "  </thead>\n",
       "  <tbody>\n",
       "    <tr>\n",
       "      <th>4</th>\n",
       "      <td>5</td>\n",
       "      <td>Amazon.com</td>\n",
       "      <td>USA</td>\n",
       "      <td>GCP Big Query</td>\n",
       "      <td>338 TB</td>\n",
       "      <td>Looker</td>\n",
       "      <td>1500</td>\n",
       "      <td>0.998</td>\n",
       "      <td>1</td>\n",
       "      <td>1</td>\n",
       "      <td>1</td>\n",
       "      <td>0.472222</td>\n",
       "      <td>2.117647</td>\n",
       "      <td>1.0</td>\n",
       "    </tr>\n",
       "    <tr>\n",
       "      <th>69</th>\n",
       "      <td>70</td>\n",
       "      <td>Charter Communications</td>\n",
       "      <td>USA</td>\n",
       "      <td>GCP Big Query</td>\n",
       "      <td>170 TB</td>\n",
       "      <td>Looker</td>\n",
       "      <td>618</td>\n",
       "      <td>0.996</td>\n",
       "      <td>1</td>\n",
       "      <td>2</td>\n",
       "      <td>2</td>\n",
       "      <td>0.944444</td>\n",
       "      <td>2.117647</td>\n",
       "      <td>1.0</td>\n",
       "    </tr>\n",
       "    <tr>\n",
       "      <th>65</th>\n",
       "      <td>66</td>\n",
       "      <td>AIG</td>\n",
       "      <td>USA</td>\n",
       "      <td>GCP Big Query</td>\n",
       "      <td>858 TB</td>\n",
       "      <td>Looker</td>\n",
       "      <td>490</td>\n",
       "      <td>0.988</td>\n",
       "      <td>0</td>\n",
       "      <td>2</td>\n",
       "      <td>3</td>\n",
       "      <td>1.416667</td>\n",
       "      <td>1.411765</td>\n",
       "      <td>1.0</td>\n",
       "    </tr>\n",
       "    <tr>\n",
       "      <th>43</th>\n",
       "      <td>44</td>\n",
       "      <td>MetLife</td>\n",
       "      <td>USA</td>\n",
       "      <td>GCP Big Query</td>\n",
       "      <td>853 TB</td>\n",
       "      <td>Looker</td>\n",
       "      <td>948</td>\n",
       "      <td>0.984</td>\n",
       "      <td>1</td>\n",
       "      <td>3</td>\n",
       "      <td>4</td>\n",
       "      <td>1.888889</td>\n",
       "      <td>1.588235</td>\n",
       "      <td>1.0</td>\n",
       "    </tr>\n",
       "    <tr>\n",
       "      <th>29</th>\n",
       "      <td>30</td>\n",
       "      <td>Citigroup</td>\n",
       "      <td>USA</td>\n",
       "      <td>GCP Big Query</td>\n",
       "      <td>749 TB</td>\n",
       "      <td>Looker</td>\n",
       "      <td>702</td>\n",
       "      <td>0.974</td>\n",
       "      <td>0</td>\n",
       "      <td>3</td>\n",
       "      <td>5</td>\n",
       "      <td>2.361111</td>\n",
       "      <td>1.270588</td>\n",
       "      <td>1.0</td>\n",
       "    </tr>\n",
       "  </tbody>\n",
       "</table>\n",
       "</div>"
      ],
      "text/plain": [
       "    Sn          Companies Name Region Data Warehouse Cloud data storage size  \\\n",
       "4    5              Amazon.com    USA  GCP Big Query                  338 TB   \n",
       "69  70  Charter Communications    USA  GCP Big Query                  170 TB   \n",
       "65  66                     AIG    USA  GCP Big Query                  858 TB   \n",
       "43  44                 MetLife    USA  GCP Big Query                  853 TB   \n",
       "29  30               Citigroup    USA  GCP Big Query                  749 TB   \n",
       "\n",
       "   BI Tool  Service Cost  propensity  Actual Class  Gain, C(k)  Case, K  \\\n",
       "4   Looker          1500       0.998             1           1        1   \n",
       "69  Looker           618       0.996             1           2        2   \n",
       "65  Looker           490       0.988             0           2        3   \n",
       "43  Looker           948       0.984             1           3        4   \n",
       "29  Looker           702       0.974             0           3        5   \n",
       "\n",
       "    Baseline, A(k)  Lift, L(k)  Baseline, B(k)  \n",
       "4         0.472222    2.117647             1.0  \n",
       "69        0.944444    2.117647             1.0  \n",
       "65        1.416667    1.411765             1.0  \n",
       "43        1.888889    1.588235             1.0  \n",
       "29        2.361111    1.270588             1.0  "
      ]
     },
     "execution_count": 20,
     "metadata": {},
     "output_type": "execute_result"
    }
   ],
   "source": [
    "bc[\"Service Cost\"] = bc[\"Service Cost\"].apply(lambda x: x.replace(\"$\", \"\"))\n",
    "bc[\"Service Cost\"] = bc[\"Service Cost\"].astype('int64')\n",
    "bc.head()"
   ]
  },
  {
   "cell_type": "code",
   "execution_count": 21,
   "id": "91489920-d55c-4b30-acf7-bc3c339f739f",
   "metadata": {},
   "outputs": [
    {
     "data": {
      "text/html": [
       "<div>\n",
       "<style scoped>\n",
       "    .dataframe tbody tr th:only-of-type {\n",
       "        vertical-align: middle;\n",
       "    }\n",
       "\n",
       "    .dataframe tbody tr th {\n",
       "        vertical-align: top;\n",
       "    }\n",
       "\n",
       "    .dataframe thead th {\n",
       "        text-align: right;\n",
       "    }\n",
       "</style>\n",
       "<table border=\"1\" class=\"dataframe\">\n",
       "  <thead>\n",
       "    <tr style=\"text-align: right;\">\n",
       "      <th></th>\n",
       "      <th>Sn</th>\n",
       "      <th>Companies Name</th>\n",
       "      <th>Region</th>\n",
       "      <th>Data Warehouse</th>\n",
       "      <th>Cloud data storage size</th>\n",
       "      <th>BI Tool</th>\n",
       "      <th>Service Cost</th>\n",
       "      <th>propensity</th>\n",
       "      <th>Actual Class</th>\n",
       "      <th>Gain, C(k)</th>\n",
       "      <th>Case, K</th>\n",
       "      <th>Baseline, A(k)</th>\n",
       "      <th>Lift, L(k)</th>\n",
       "      <th>Baseline, B(k)</th>\n",
       "      <th>Net Profit</th>\n",
       "    </tr>\n",
       "  </thead>\n",
       "  <tbody>\n",
       "    <tr>\n",
       "      <th>4</th>\n",
       "      <td>5</td>\n",
       "      <td>Amazon.com</td>\n",
       "      <td>USA</td>\n",
       "      <td>GCP Big Query</td>\n",
       "      <td>338 TB</td>\n",
       "      <td>Looker</td>\n",
       "      <td>1500</td>\n",
       "      <td>0.998</td>\n",
       "      <td>1</td>\n",
       "      <td>1</td>\n",
       "      <td>1</td>\n",
       "      <td>0.472222</td>\n",
       "      <td>2.117647</td>\n",
       "      <td>1.0</td>\n",
       "      <td>1165</td>\n",
       "    </tr>\n",
       "    <tr>\n",
       "      <th>69</th>\n",
       "      <td>70</td>\n",
       "      <td>Charter Communications</td>\n",
       "      <td>USA</td>\n",
       "      <td>GCP Big Query</td>\n",
       "      <td>170 TB</td>\n",
       "      <td>Looker</td>\n",
       "      <td>618</td>\n",
       "      <td>0.996</td>\n",
       "      <td>1</td>\n",
       "      <td>2</td>\n",
       "      <td>2</td>\n",
       "      <td>0.944444</td>\n",
       "      <td>2.117647</td>\n",
       "      <td>1.0</td>\n",
       "      <td>1448</td>\n",
       "    </tr>\n",
       "    <tr>\n",
       "      <th>65</th>\n",
       "      <td>66</td>\n",
       "      <td>AIG</td>\n",
       "      <td>USA</td>\n",
       "      <td>GCP Big Query</td>\n",
       "      <td>858 TB</td>\n",
       "      <td>Looker</td>\n",
       "      <td>490</td>\n",
       "      <td>0.988</td>\n",
       "      <td>0</td>\n",
       "      <td>2</td>\n",
       "      <td>3</td>\n",
       "      <td>1.416667</td>\n",
       "      <td>1.411765</td>\n",
       "      <td>1.0</td>\n",
       "      <td>1113</td>\n",
       "    </tr>\n",
       "    <tr>\n",
       "      <th>43</th>\n",
       "      <td>44</td>\n",
       "      <td>MetLife</td>\n",
       "      <td>USA</td>\n",
       "      <td>GCP Big Query</td>\n",
       "      <td>853 TB</td>\n",
       "      <td>Looker</td>\n",
       "      <td>948</td>\n",
       "      <td>0.984</td>\n",
       "      <td>1</td>\n",
       "      <td>3</td>\n",
       "      <td>4</td>\n",
       "      <td>1.888889</td>\n",
       "      <td>1.588235</td>\n",
       "      <td>1.0</td>\n",
       "      <td>1726</td>\n",
       "    </tr>\n",
       "    <tr>\n",
       "      <th>29</th>\n",
       "      <td>30</td>\n",
       "      <td>Citigroup</td>\n",
       "      <td>USA</td>\n",
       "      <td>GCP Big Query</td>\n",
       "      <td>749 TB</td>\n",
       "      <td>Looker</td>\n",
       "      <td>702</td>\n",
       "      <td>0.974</td>\n",
       "      <td>0</td>\n",
       "      <td>3</td>\n",
       "      <td>5</td>\n",
       "      <td>2.361111</td>\n",
       "      <td>1.270588</td>\n",
       "      <td>1.0</td>\n",
       "      <td>1391</td>\n",
       "    </tr>\n",
       "  </tbody>\n",
       "</table>\n",
       "</div>"
      ],
      "text/plain": [
       "    Sn          Companies Name Region Data Warehouse Cloud data storage size  \\\n",
       "4    5              Amazon.com    USA  GCP Big Query                  338 TB   \n",
       "69  70  Charter Communications    USA  GCP Big Query                  170 TB   \n",
       "65  66                     AIG    USA  GCP Big Query                  858 TB   \n",
       "43  44                 MetLife    USA  GCP Big Query                  853 TB   \n",
       "29  30               Citigroup    USA  GCP Big Query                  749 TB   \n",
       "\n",
       "   BI Tool  Service Cost  propensity  Actual Class  Gain, C(k)  Case, K  \\\n",
       "4   Looker          1500       0.998             1           1        1   \n",
       "69  Looker           618       0.996             1           2        2   \n",
       "65  Looker           490       0.988             0           2        3   \n",
       "43  Looker           948       0.984             1           3        4   \n",
       "29  Looker           702       0.974             0           3        5   \n",
       "\n",
       "    Baseline, A(k)  Lift, L(k)  Baseline, B(k)  Net Profit  \n",
       "4         0.472222    2.117647             1.0        1165  \n",
       "69        0.944444    2.117647             1.0        1448  \n",
       "65        1.416667    1.411765             1.0        1113  \n",
       "43        1.888889    1.588235             1.0        1726  \n",
       "29        2.361111    1.270588             1.0        1391  "
      ]
     },
     "execution_count": 21,
     "metadata": {},
     "output_type": "execute_result"
    }
   ],
   "source": [
    "Cost = 60+75+100+50+50\n",
    "#bc[\"Net Profit\"] = (bc[\"Service Cost\"] - Cost).cumsum()\n",
    "bc[\"Net Profit\"] = np.where(bc[\"Actual Class\"]==1, (bc[\"Service Cost\"] - Cost), -Cost).cumsum()\n",
    "bc.head()"
   ]
  },
  {
   "cell_type": "code",
   "execution_count": 22,
   "id": "c74f77c3-4aca-4ceb-ac58-31effa4d8e10",
   "metadata": {},
   "outputs": [
    {
     "data": {
      "application/vnd.plotly.v1+json": {
       "config": {
        "plotlyServerURL": "https://plot.ly"
       },
       "data": [
        {
         "mode": "lines+markers",
         "type": "scatter",
         "x": [
          1,
          2,
          3,
          4,
          5,
          6,
          7,
          8,
          9,
          10,
          11,
          12,
          13,
          14,
          15,
          16,
          17,
          18,
          19,
          20,
          21,
          22,
          23,
          24,
          25,
          26,
          27,
          28,
          29,
          30,
          31,
          32,
          33,
          34,
          35,
          36,
          37,
          38,
          39,
          40,
          41,
          42,
          43,
          44,
          45,
          46,
          47,
          48,
          49,
          50,
          51,
          52,
          53,
          54,
          55,
          56,
          57,
          58,
          59,
          60,
          61,
          62,
          63,
          64,
          65,
          66,
          67,
          68,
          69,
          70,
          71,
          72
         ],
         "xaxis": "x",
         "y": [
          0.4722222222222222,
          0.9444444444444444,
          1.4166666666666665,
          1.8888888888888888,
          2.361111111111111,
          2.833333333333333,
          3.3055555555555554,
          3.7777777777777777,
          4.25,
          4.722222222222222,
          5.194444444444445,
          5.666666666666666,
          6.138888888888888,
          6.611111111111111,
          7.083333333333333,
          7.555555555555555,
          8.027777777777777,
          8.5,
          8.972222222222221,
          9.444444444444445,
          9.916666666666666,
          10.38888888888889,
          10.86111111111111,
          11.333333333333332,
          11.805555555555555,
          12.277777777777777,
          12.75,
          13.222222222222221,
          13.694444444444445,
          14.166666666666666,
          14.63888888888889,
          15.11111111111111,
          15.583333333333332,
          16.055555555555554,
          16.52777777777778,
          17,
          17.47222222222222,
          17.944444444444443,
          18.416666666666668,
          18.88888888888889,
          19.36111111111111,
          19.833333333333332,
          20.305555555555554,
          20.77777777777778,
          21.25,
          21.72222222222222,
          22.194444444444443,
          22.666666666666664,
          23.13888888888889,
          23.61111111111111,
          24.083333333333332,
          24.555555555555554,
          25.02777777777778,
          25.5,
          25.97222222222222,
          26.444444444444443,
          26.916666666666664,
          27.38888888888889,
          27.86111111111111,
          28.333333333333332,
          28.805555555555554,
          29.27777777777778,
          29.75,
          30.22222222222222,
          30.694444444444443,
          31.166666666666664,
          31.63888888888889,
          32.11111111111111,
          32.583333333333336,
          33.05555555555556,
          33.52777777777778,
          34
         ],
         "yaxis": "y"
        },
        {
         "mode": "lines+markers",
         "type": "scatter",
         "x": [
          1,
          2,
          3,
          4,
          5,
          6,
          7,
          8,
          9,
          10,
          11,
          12,
          13,
          14,
          15,
          16,
          17,
          18,
          19,
          20,
          21,
          22,
          23,
          24,
          25,
          26,
          27,
          28,
          29,
          30,
          31,
          32,
          33,
          34,
          35,
          36,
          37,
          38,
          39,
          40,
          41,
          42,
          43,
          44,
          45,
          46,
          47,
          48,
          49,
          50,
          51,
          52,
          53,
          54,
          55,
          56,
          57,
          58,
          59,
          60,
          61,
          62,
          63,
          64,
          65,
          66,
          67,
          68,
          69,
          70,
          71,
          72
         ],
         "xaxis": "x",
         "y": [
          1,
          2,
          2,
          3,
          3,
          4,
          5,
          5,
          6,
          7,
          7,
          8,
          8,
          8,
          9,
          10,
          11,
          12,
          13,
          13,
          14,
          15,
          16,
          16,
          17,
          18,
          18,
          19,
          19,
          19,
          20,
          21,
          21,
          22,
          22,
          22,
          23,
          23,
          23,
          24,
          25,
          26,
          26,
          27,
          27,
          27,
          27,
          28,
          29,
          30,
          30,
          30,
          30,
          30,
          31,
          31,
          32,
          32,
          32,
          33,
          33,
          34,
          34,
          34,
          34,
          34,
          34,
          34,
          34,
          34,
          34,
          34
         ],
         "yaxis": "y"
        }
       ],
       "layout": {
        "height": 600,
        "template": {
         "data": {
          "bar": [
           {
            "error_x": {
             "color": "#2a3f5f"
            },
            "error_y": {
             "color": "#2a3f5f"
            },
            "marker": {
             "line": {
              "color": "#E5ECF6",
              "width": 0.5
             },
             "pattern": {
              "fillmode": "overlay",
              "size": 10,
              "solidity": 0.2
             }
            },
            "type": "bar"
           }
          ],
          "barpolar": [
           {
            "marker": {
             "line": {
              "color": "#E5ECF6",
              "width": 0.5
             },
             "pattern": {
              "fillmode": "overlay",
              "size": 10,
              "solidity": 0.2
             }
            },
            "type": "barpolar"
           }
          ],
          "carpet": [
           {
            "aaxis": {
             "endlinecolor": "#2a3f5f",
             "gridcolor": "white",
             "linecolor": "white",
             "minorgridcolor": "white",
             "startlinecolor": "#2a3f5f"
            },
            "baxis": {
             "endlinecolor": "#2a3f5f",
             "gridcolor": "white",
             "linecolor": "white",
             "minorgridcolor": "white",
             "startlinecolor": "#2a3f5f"
            },
            "type": "carpet"
           }
          ],
          "choropleth": [
           {
            "colorbar": {
             "outlinewidth": 0,
             "ticks": ""
            },
            "type": "choropleth"
           }
          ],
          "contour": [
           {
            "colorbar": {
             "outlinewidth": 0,
             "ticks": ""
            },
            "colorscale": [
             [
              0,
              "#0d0887"
             ],
             [
              0.1111111111111111,
              "#46039f"
             ],
             [
              0.2222222222222222,
              "#7201a8"
             ],
             [
              0.3333333333333333,
              "#9c179e"
             ],
             [
              0.4444444444444444,
              "#bd3786"
             ],
             [
              0.5555555555555556,
              "#d8576b"
             ],
             [
              0.6666666666666666,
              "#ed7953"
             ],
             [
              0.7777777777777778,
              "#fb9f3a"
             ],
             [
              0.8888888888888888,
              "#fdca26"
             ],
             [
              1,
              "#f0f921"
             ]
            ],
            "type": "contour"
           }
          ],
          "contourcarpet": [
           {
            "colorbar": {
             "outlinewidth": 0,
             "ticks": ""
            },
            "type": "contourcarpet"
           }
          ],
          "heatmap": [
           {
            "colorbar": {
             "outlinewidth": 0,
             "ticks": ""
            },
            "colorscale": [
             [
              0,
              "#0d0887"
             ],
             [
              0.1111111111111111,
              "#46039f"
             ],
             [
              0.2222222222222222,
              "#7201a8"
             ],
             [
              0.3333333333333333,
              "#9c179e"
             ],
             [
              0.4444444444444444,
              "#bd3786"
             ],
             [
              0.5555555555555556,
              "#d8576b"
             ],
             [
              0.6666666666666666,
              "#ed7953"
             ],
             [
              0.7777777777777778,
              "#fb9f3a"
             ],
             [
              0.8888888888888888,
              "#fdca26"
             ],
             [
              1,
              "#f0f921"
             ]
            ],
            "type": "heatmap"
           }
          ],
          "heatmapgl": [
           {
            "colorbar": {
             "outlinewidth": 0,
             "ticks": ""
            },
            "colorscale": [
             [
              0,
              "#0d0887"
             ],
             [
              0.1111111111111111,
              "#46039f"
             ],
             [
              0.2222222222222222,
              "#7201a8"
             ],
             [
              0.3333333333333333,
              "#9c179e"
             ],
             [
              0.4444444444444444,
              "#bd3786"
             ],
             [
              0.5555555555555556,
              "#d8576b"
             ],
             [
              0.6666666666666666,
              "#ed7953"
             ],
             [
              0.7777777777777778,
              "#fb9f3a"
             ],
             [
              0.8888888888888888,
              "#fdca26"
             ],
             [
              1,
              "#f0f921"
             ]
            ],
            "type": "heatmapgl"
           }
          ],
          "histogram": [
           {
            "marker": {
             "pattern": {
              "fillmode": "overlay",
              "size": 10,
              "solidity": 0.2
             }
            },
            "type": "histogram"
           }
          ],
          "histogram2d": [
           {
            "colorbar": {
             "outlinewidth": 0,
             "ticks": ""
            },
            "colorscale": [
             [
              0,
              "#0d0887"
             ],
             [
              0.1111111111111111,
              "#46039f"
             ],
             [
              0.2222222222222222,
              "#7201a8"
             ],
             [
              0.3333333333333333,
              "#9c179e"
             ],
             [
              0.4444444444444444,
              "#bd3786"
             ],
             [
              0.5555555555555556,
              "#d8576b"
             ],
             [
              0.6666666666666666,
              "#ed7953"
             ],
             [
              0.7777777777777778,
              "#fb9f3a"
             ],
             [
              0.8888888888888888,
              "#fdca26"
             ],
             [
              1,
              "#f0f921"
             ]
            ],
            "type": "histogram2d"
           }
          ],
          "histogram2dcontour": [
           {
            "colorbar": {
             "outlinewidth": 0,
             "ticks": ""
            },
            "colorscale": [
             [
              0,
              "#0d0887"
             ],
             [
              0.1111111111111111,
              "#46039f"
             ],
             [
              0.2222222222222222,
              "#7201a8"
             ],
             [
              0.3333333333333333,
              "#9c179e"
             ],
             [
              0.4444444444444444,
              "#bd3786"
             ],
             [
              0.5555555555555556,
              "#d8576b"
             ],
             [
              0.6666666666666666,
              "#ed7953"
             ],
             [
              0.7777777777777778,
              "#fb9f3a"
             ],
             [
              0.8888888888888888,
              "#fdca26"
             ],
             [
              1,
              "#f0f921"
             ]
            ],
            "type": "histogram2dcontour"
           }
          ],
          "mesh3d": [
           {
            "colorbar": {
             "outlinewidth": 0,
             "ticks": ""
            },
            "type": "mesh3d"
           }
          ],
          "parcoords": [
           {
            "line": {
             "colorbar": {
              "outlinewidth": 0,
              "ticks": ""
             }
            },
            "type": "parcoords"
           }
          ],
          "pie": [
           {
            "automargin": true,
            "type": "pie"
           }
          ],
          "scatter": [
           {
            "fillpattern": {
             "fillmode": "overlay",
             "size": 10,
             "solidity": 0.2
            },
            "type": "scatter"
           }
          ],
          "scatter3d": [
           {
            "line": {
             "colorbar": {
              "outlinewidth": 0,
              "ticks": ""
             }
            },
            "marker": {
             "colorbar": {
              "outlinewidth": 0,
              "ticks": ""
             }
            },
            "type": "scatter3d"
           }
          ],
          "scattercarpet": [
           {
            "marker": {
             "colorbar": {
              "outlinewidth": 0,
              "ticks": ""
             }
            },
            "type": "scattercarpet"
           }
          ],
          "scattergeo": [
           {
            "marker": {
             "colorbar": {
              "outlinewidth": 0,
              "ticks": ""
             }
            },
            "type": "scattergeo"
           }
          ],
          "scattergl": [
           {
            "marker": {
             "colorbar": {
              "outlinewidth": 0,
              "ticks": ""
             }
            },
            "type": "scattergl"
           }
          ],
          "scattermapbox": [
           {
            "marker": {
             "colorbar": {
              "outlinewidth": 0,
              "ticks": ""
             }
            },
            "type": "scattermapbox"
           }
          ],
          "scatterpolar": [
           {
            "marker": {
             "colorbar": {
              "outlinewidth": 0,
              "ticks": ""
             }
            },
            "type": "scatterpolar"
           }
          ],
          "scatterpolargl": [
           {
            "marker": {
             "colorbar": {
              "outlinewidth": 0,
              "ticks": ""
             }
            },
            "type": "scatterpolargl"
           }
          ],
          "scatterternary": [
           {
            "marker": {
             "colorbar": {
              "outlinewidth": 0,
              "ticks": ""
             }
            },
            "type": "scatterternary"
           }
          ],
          "surface": [
           {
            "colorbar": {
             "outlinewidth": 0,
             "ticks": ""
            },
            "colorscale": [
             [
              0,
              "#0d0887"
             ],
             [
              0.1111111111111111,
              "#46039f"
             ],
             [
              0.2222222222222222,
              "#7201a8"
             ],
             [
              0.3333333333333333,
              "#9c179e"
             ],
             [
              0.4444444444444444,
              "#bd3786"
             ],
             [
              0.5555555555555556,
              "#d8576b"
             ],
             [
              0.6666666666666666,
              "#ed7953"
             ],
             [
              0.7777777777777778,
              "#fb9f3a"
             ],
             [
              0.8888888888888888,
              "#fdca26"
             ],
             [
              1,
              "#f0f921"
             ]
            ],
            "type": "surface"
           }
          ],
          "table": [
           {
            "cells": {
             "fill": {
              "color": "#EBF0F8"
             },
             "line": {
              "color": "white"
             }
            },
            "header": {
             "fill": {
              "color": "#C8D4E3"
             },
             "line": {
              "color": "white"
             }
            },
            "type": "table"
           }
          ]
         },
         "layout": {
          "annotationdefaults": {
           "arrowcolor": "#2a3f5f",
           "arrowhead": 0,
           "arrowwidth": 1
          },
          "autotypenumbers": "strict",
          "coloraxis": {
           "colorbar": {
            "outlinewidth": 0,
            "ticks": ""
           }
          },
          "colorscale": {
           "diverging": [
            [
             0,
             "#8e0152"
            ],
            [
             0.1,
             "#c51b7d"
            ],
            [
             0.2,
             "#de77ae"
            ],
            [
             0.3,
             "#f1b6da"
            ],
            [
             0.4,
             "#fde0ef"
            ],
            [
             0.5,
             "#f7f7f7"
            ],
            [
             0.6,
             "#e6f5d0"
            ],
            [
             0.7,
             "#b8e186"
            ],
            [
             0.8,
             "#7fbc41"
            ],
            [
             0.9,
             "#4d9221"
            ],
            [
             1,
             "#276419"
            ]
           ],
           "sequential": [
            [
             0,
             "#0d0887"
            ],
            [
             0.1111111111111111,
             "#46039f"
            ],
            [
             0.2222222222222222,
             "#7201a8"
            ],
            [
             0.3333333333333333,
             "#9c179e"
            ],
            [
             0.4444444444444444,
             "#bd3786"
            ],
            [
             0.5555555555555556,
             "#d8576b"
            ],
            [
             0.6666666666666666,
             "#ed7953"
            ],
            [
             0.7777777777777778,
             "#fb9f3a"
            ],
            [
             0.8888888888888888,
             "#fdca26"
            ],
            [
             1,
             "#f0f921"
            ]
           ],
           "sequentialminus": [
            [
             0,
             "#0d0887"
            ],
            [
             0.1111111111111111,
             "#46039f"
            ],
            [
             0.2222222222222222,
             "#7201a8"
            ],
            [
             0.3333333333333333,
             "#9c179e"
            ],
            [
             0.4444444444444444,
             "#bd3786"
            ],
            [
             0.5555555555555556,
             "#d8576b"
            ],
            [
             0.6666666666666666,
             "#ed7953"
            ],
            [
             0.7777777777777778,
             "#fb9f3a"
            ],
            [
             0.8888888888888888,
             "#fdca26"
            ],
            [
             1,
             "#f0f921"
            ]
           ]
          },
          "colorway": [
           "#636efa",
           "#EF553B",
           "#00cc96",
           "#ab63fa",
           "#FFA15A",
           "#19d3f3",
           "#FF6692",
           "#B6E880",
           "#FF97FF",
           "#FECB52"
          ],
          "font": {
           "color": "#2a3f5f"
          },
          "geo": {
           "bgcolor": "white",
           "lakecolor": "white",
           "landcolor": "#E5ECF6",
           "showlakes": true,
           "showland": true,
           "subunitcolor": "white"
          },
          "hoverlabel": {
           "align": "left"
          },
          "hovermode": "closest",
          "mapbox": {
           "style": "light"
          },
          "paper_bgcolor": "white",
          "plot_bgcolor": "#E5ECF6",
          "polar": {
           "angularaxis": {
            "gridcolor": "white",
            "linecolor": "white",
            "ticks": ""
           },
           "bgcolor": "#E5ECF6",
           "radialaxis": {
            "gridcolor": "white",
            "linecolor": "white",
            "ticks": ""
           }
          },
          "scene": {
           "xaxis": {
            "backgroundcolor": "#E5ECF6",
            "gridcolor": "white",
            "gridwidth": 2,
            "linecolor": "white",
            "showbackground": true,
            "ticks": "",
            "zerolinecolor": "white"
           },
           "yaxis": {
            "backgroundcolor": "#E5ECF6",
            "gridcolor": "white",
            "gridwidth": 2,
            "linecolor": "white",
            "showbackground": true,
            "ticks": "",
            "zerolinecolor": "white"
           },
           "zaxis": {
            "backgroundcolor": "#E5ECF6",
            "gridcolor": "white",
            "gridwidth": 2,
            "linecolor": "white",
            "showbackground": true,
            "ticks": "",
            "zerolinecolor": "white"
           }
          },
          "shapedefaults": {
           "line": {
            "color": "#2a3f5f"
           }
          },
          "ternary": {
           "aaxis": {
            "gridcolor": "white",
            "linecolor": "white",
            "ticks": ""
           },
           "baxis": {
            "gridcolor": "white",
            "linecolor": "white",
            "ticks": ""
           },
           "bgcolor": "#E5ECF6",
           "caxis": {
            "gridcolor": "white",
            "linecolor": "white",
            "ticks": ""
           }
          },
          "title": {
           "x": 0.05
          },
          "xaxis": {
           "automargin": true,
           "gridcolor": "white",
           "linecolor": "white",
           "ticks": "",
           "title": {
            "standoff": 15
           },
           "zerolinecolor": "white",
           "zerolinewidth": 2
          },
          "yaxis": {
           "automargin": true,
           "gridcolor": "white",
           "linecolor": "white",
           "ticks": "",
           "title": {
            "standoff": 15
           },
           "zerolinecolor": "white",
           "zerolinewidth": 2
          }
         }
        },
        "title": {
         "text": "Gain Chart"
        },
        "width": 800,
        "xaxis": {
         "anchor": "y",
         "domain": [
          0,
          1
         ],
         "title": {
          "text": "Case #"
         }
        },
        "yaxis": {
         "anchor": "x",
         "domain": [
          0,
          1
         ],
         "title": {
          "text": "Cum Gain"
         }
        }
       }
      }
     },
     "metadata": {},
     "output_type": "display_data"
    }
   ],
   "source": [
    "from plotly.subplots import make_subplots\n",
    "import plotly.graph_objects as go\n",
    "\n",
    "fig = make_subplots(rows=1, cols=1)\n",
    "\n",
    "fig.add_trace(\n",
    "    go.Scatter(mode=\"lines+markers\",x=bc[\"Case, K\"], y=bc[\"Baseline, A(k)\"]),\n",
    "    row=1, col=1\n",
    ")\n",
    "\n",
    "fig.add_trace(\n",
    "    go.Scatter(mode=\"lines+markers\",x=bc[\"Case, K\"], y=bc[\"Gain, C(k)\"]),\n",
    "    row=1, col=1\n",
    ")\n",
    "\n",
    "\n",
    "fig.update_layout(height=600, width=800, title_text='Gain Chart',xaxis_title=\"Case #\",yaxis_title=\"Cum Gain\")\n",
    "fig.show()\n",
    "\n",
    "\n",
    "#fig = px.line(df, x=specificity, y=sensitivity, title='ROC Curve')\n",
    "#fig.show()"
   ]
  },
  {
   "cell_type": "code",
   "execution_count": 23,
   "id": "a1f3e369-7c8e-487f-b529-6f4a8a73c546",
   "metadata": {},
   "outputs": [
    {
     "data": {
      "application/vnd.plotly.v1+json": {
       "config": {
        "plotlyServerURL": "https://plot.ly"
       },
       "data": [
        {
         "mode": "lines+markers",
         "type": "scatter",
         "x": [
          1,
          2,
          3,
          4,
          5,
          6,
          7,
          8,
          9,
          10,
          11,
          12,
          13,
          14,
          15,
          16,
          17,
          18,
          19,
          20,
          21,
          22,
          23,
          24,
          25,
          26,
          27,
          28,
          29,
          30,
          31,
          32,
          33,
          34,
          35,
          36,
          37,
          38,
          39,
          40,
          41,
          42,
          43,
          44,
          45,
          46,
          47,
          48,
          49,
          50,
          51,
          52,
          53,
          54,
          55,
          56,
          57,
          58,
          59,
          60,
          61,
          62,
          63,
          64,
          65,
          66,
          67,
          68,
          69,
          70,
          71,
          72
         ],
         "xaxis": "x",
         "y": [
          1165,
          1448,
          1113,
          1726,
          1391,
          1883,
          2548,
          2213,
          2831,
          3021,
          2686,
          2888,
          2553,
          2218,
          2322,
          2634,
          2799,
          3227,
          3428,
          3093,
          5458,
          5733,
          5817,
          5482,
          5893,
          6058,
          5723,
          5863,
          5528,
          5193,
          5658,
          5823,
          5488,
          5653,
          5318,
          4983,
          5640,
          5305,
          4970,
          5450,
          6043,
          6233,
          5898,
          7393,
          7058,
          6723,
          6388,
          6684,
          6790,
          6887,
          6552,
          6217,
          5882,
          5547,
          6942,
          6607,
          6942,
          6607,
          6272,
          6437,
          6102,
          6242,
          5907,
          5572,
          5237,
          4902,
          4567,
          4232,
          3897,
          3562,
          3227,
          2892
         ],
         "yaxis": "y"
        }
       ],
       "layout": {
        "height": 600,
        "template": {
         "data": {
          "bar": [
           {
            "error_x": {
             "color": "#2a3f5f"
            },
            "error_y": {
             "color": "#2a3f5f"
            },
            "marker": {
             "line": {
              "color": "#E5ECF6",
              "width": 0.5
             },
             "pattern": {
              "fillmode": "overlay",
              "size": 10,
              "solidity": 0.2
             }
            },
            "type": "bar"
           }
          ],
          "barpolar": [
           {
            "marker": {
             "line": {
              "color": "#E5ECF6",
              "width": 0.5
             },
             "pattern": {
              "fillmode": "overlay",
              "size": 10,
              "solidity": 0.2
             }
            },
            "type": "barpolar"
           }
          ],
          "carpet": [
           {
            "aaxis": {
             "endlinecolor": "#2a3f5f",
             "gridcolor": "white",
             "linecolor": "white",
             "minorgridcolor": "white",
             "startlinecolor": "#2a3f5f"
            },
            "baxis": {
             "endlinecolor": "#2a3f5f",
             "gridcolor": "white",
             "linecolor": "white",
             "minorgridcolor": "white",
             "startlinecolor": "#2a3f5f"
            },
            "type": "carpet"
           }
          ],
          "choropleth": [
           {
            "colorbar": {
             "outlinewidth": 0,
             "ticks": ""
            },
            "type": "choropleth"
           }
          ],
          "contour": [
           {
            "colorbar": {
             "outlinewidth": 0,
             "ticks": ""
            },
            "colorscale": [
             [
              0,
              "#0d0887"
             ],
             [
              0.1111111111111111,
              "#46039f"
             ],
             [
              0.2222222222222222,
              "#7201a8"
             ],
             [
              0.3333333333333333,
              "#9c179e"
             ],
             [
              0.4444444444444444,
              "#bd3786"
             ],
             [
              0.5555555555555556,
              "#d8576b"
             ],
             [
              0.6666666666666666,
              "#ed7953"
             ],
             [
              0.7777777777777778,
              "#fb9f3a"
             ],
             [
              0.8888888888888888,
              "#fdca26"
             ],
             [
              1,
              "#f0f921"
             ]
            ],
            "type": "contour"
           }
          ],
          "contourcarpet": [
           {
            "colorbar": {
             "outlinewidth": 0,
             "ticks": ""
            },
            "type": "contourcarpet"
           }
          ],
          "heatmap": [
           {
            "colorbar": {
             "outlinewidth": 0,
             "ticks": ""
            },
            "colorscale": [
             [
              0,
              "#0d0887"
             ],
             [
              0.1111111111111111,
              "#46039f"
             ],
             [
              0.2222222222222222,
              "#7201a8"
             ],
             [
              0.3333333333333333,
              "#9c179e"
             ],
             [
              0.4444444444444444,
              "#bd3786"
             ],
             [
              0.5555555555555556,
              "#d8576b"
             ],
             [
              0.6666666666666666,
              "#ed7953"
             ],
             [
              0.7777777777777778,
              "#fb9f3a"
             ],
             [
              0.8888888888888888,
              "#fdca26"
             ],
             [
              1,
              "#f0f921"
             ]
            ],
            "type": "heatmap"
           }
          ],
          "heatmapgl": [
           {
            "colorbar": {
             "outlinewidth": 0,
             "ticks": ""
            },
            "colorscale": [
             [
              0,
              "#0d0887"
             ],
             [
              0.1111111111111111,
              "#46039f"
             ],
             [
              0.2222222222222222,
              "#7201a8"
             ],
             [
              0.3333333333333333,
              "#9c179e"
             ],
             [
              0.4444444444444444,
              "#bd3786"
             ],
             [
              0.5555555555555556,
              "#d8576b"
             ],
             [
              0.6666666666666666,
              "#ed7953"
             ],
             [
              0.7777777777777778,
              "#fb9f3a"
             ],
             [
              0.8888888888888888,
              "#fdca26"
             ],
             [
              1,
              "#f0f921"
             ]
            ],
            "type": "heatmapgl"
           }
          ],
          "histogram": [
           {
            "marker": {
             "pattern": {
              "fillmode": "overlay",
              "size": 10,
              "solidity": 0.2
             }
            },
            "type": "histogram"
           }
          ],
          "histogram2d": [
           {
            "colorbar": {
             "outlinewidth": 0,
             "ticks": ""
            },
            "colorscale": [
             [
              0,
              "#0d0887"
             ],
             [
              0.1111111111111111,
              "#46039f"
             ],
             [
              0.2222222222222222,
              "#7201a8"
             ],
             [
              0.3333333333333333,
              "#9c179e"
             ],
             [
              0.4444444444444444,
              "#bd3786"
             ],
             [
              0.5555555555555556,
              "#d8576b"
             ],
             [
              0.6666666666666666,
              "#ed7953"
             ],
             [
              0.7777777777777778,
              "#fb9f3a"
             ],
             [
              0.8888888888888888,
              "#fdca26"
             ],
             [
              1,
              "#f0f921"
             ]
            ],
            "type": "histogram2d"
           }
          ],
          "histogram2dcontour": [
           {
            "colorbar": {
             "outlinewidth": 0,
             "ticks": ""
            },
            "colorscale": [
             [
              0,
              "#0d0887"
             ],
             [
              0.1111111111111111,
              "#46039f"
             ],
             [
              0.2222222222222222,
              "#7201a8"
             ],
             [
              0.3333333333333333,
              "#9c179e"
             ],
             [
              0.4444444444444444,
              "#bd3786"
             ],
             [
              0.5555555555555556,
              "#d8576b"
             ],
             [
              0.6666666666666666,
              "#ed7953"
             ],
             [
              0.7777777777777778,
              "#fb9f3a"
             ],
             [
              0.8888888888888888,
              "#fdca26"
             ],
             [
              1,
              "#f0f921"
             ]
            ],
            "type": "histogram2dcontour"
           }
          ],
          "mesh3d": [
           {
            "colorbar": {
             "outlinewidth": 0,
             "ticks": ""
            },
            "type": "mesh3d"
           }
          ],
          "parcoords": [
           {
            "line": {
             "colorbar": {
              "outlinewidth": 0,
              "ticks": ""
             }
            },
            "type": "parcoords"
           }
          ],
          "pie": [
           {
            "automargin": true,
            "type": "pie"
           }
          ],
          "scatter": [
           {
            "fillpattern": {
             "fillmode": "overlay",
             "size": 10,
             "solidity": 0.2
            },
            "type": "scatter"
           }
          ],
          "scatter3d": [
           {
            "line": {
             "colorbar": {
              "outlinewidth": 0,
              "ticks": ""
             }
            },
            "marker": {
             "colorbar": {
              "outlinewidth": 0,
              "ticks": ""
             }
            },
            "type": "scatter3d"
           }
          ],
          "scattercarpet": [
           {
            "marker": {
             "colorbar": {
              "outlinewidth": 0,
              "ticks": ""
             }
            },
            "type": "scattercarpet"
           }
          ],
          "scattergeo": [
           {
            "marker": {
             "colorbar": {
              "outlinewidth": 0,
              "ticks": ""
             }
            },
            "type": "scattergeo"
           }
          ],
          "scattergl": [
           {
            "marker": {
             "colorbar": {
              "outlinewidth": 0,
              "ticks": ""
             }
            },
            "type": "scattergl"
           }
          ],
          "scattermapbox": [
           {
            "marker": {
             "colorbar": {
              "outlinewidth": 0,
              "ticks": ""
             }
            },
            "type": "scattermapbox"
           }
          ],
          "scatterpolar": [
           {
            "marker": {
             "colorbar": {
              "outlinewidth": 0,
              "ticks": ""
             }
            },
            "type": "scatterpolar"
           }
          ],
          "scatterpolargl": [
           {
            "marker": {
             "colorbar": {
              "outlinewidth": 0,
              "ticks": ""
             }
            },
            "type": "scatterpolargl"
           }
          ],
          "scatterternary": [
           {
            "marker": {
             "colorbar": {
              "outlinewidth": 0,
              "ticks": ""
             }
            },
            "type": "scatterternary"
           }
          ],
          "surface": [
           {
            "colorbar": {
             "outlinewidth": 0,
             "ticks": ""
            },
            "colorscale": [
             [
              0,
              "#0d0887"
             ],
             [
              0.1111111111111111,
              "#46039f"
             ],
             [
              0.2222222222222222,
              "#7201a8"
             ],
             [
              0.3333333333333333,
              "#9c179e"
             ],
             [
              0.4444444444444444,
              "#bd3786"
             ],
             [
              0.5555555555555556,
              "#d8576b"
             ],
             [
              0.6666666666666666,
              "#ed7953"
             ],
             [
              0.7777777777777778,
              "#fb9f3a"
             ],
             [
              0.8888888888888888,
              "#fdca26"
             ],
             [
              1,
              "#f0f921"
             ]
            ],
            "type": "surface"
           }
          ],
          "table": [
           {
            "cells": {
             "fill": {
              "color": "#EBF0F8"
             },
             "line": {
              "color": "white"
             }
            },
            "header": {
             "fill": {
              "color": "#C8D4E3"
             },
             "line": {
              "color": "white"
             }
            },
            "type": "table"
           }
          ]
         },
         "layout": {
          "annotationdefaults": {
           "arrowcolor": "#2a3f5f",
           "arrowhead": 0,
           "arrowwidth": 1
          },
          "autotypenumbers": "strict",
          "coloraxis": {
           "colorbar": {
            "outlinewidth": 0,
            "ticks": ""
           }
          },
          "colorscale": {
           "diverging": [
            [
             0,
             "#8e0152"
            ],
            [
             0.1,
             "#c51b7d"
            ],
            [
             0.2,
             "#de77ae"
            ],
            [
             0.3,
             "#f1b6da"
            ],
            [
             0.4,
             "#fde0ef"
            ],
            [
             0.5,
             "#f7f7f7"
            ],
            [
             0.6,
             "#e6f5d0"
            ],
            [
             0.7,
             "#b8e186"
            ],
            [
             0.8,
             "#7fbc41"
            ],
            [
             0.9,
             "#4d9221"
            ],
            [
             1,
             "#276419"
            ]
           ],
           "sequential": [
            [
             0,
             "#0d0887"
            ],
            [
             0.1111111111111111,
             "#46039f"
            ],
            [
             0.2222222222222222,
             "#7201a8"
            ],
            [
             0.3333333333333333,
             "#9c179e"
            ],
            [
             0.4444444444444444,
             "#bd3786"
            ],
            [
             0.5555555555555556,
             "#d8576b"
            ],
            [
             0.6666666666666666,
             "#ed7953"
            ],
            [
             0.7777777777777778,
             "#fb9f3a"
            ],
            [
             0.8888888888888888,
             "#fdca26"
            ],
            [
             1,
             "#f0f921"
            ]
           ],
           "sequentialminus": [
            [
             0,
             "#0d0887"
            ],
            [
             0.1111111111111111,
             "#46039f"
            ],
            [
             0.2222222222222222,
             "#7201a8"
            ],
            [
             0.3333333333333333,
             "#9c179e"
            ],
            [
             0.4444444444444444,
             "#bd3786"
            ],
            [
             0.5555555555555556,
             "#d8576b"
            ],
            [
             0.6666666666666666,
             "#ed7953"
            ],
            [
             0.7777777777777778,
             "#fb9f3a"
            ],
            [
             0.8888888888888888,
             "#fdca26"
            ],
            [
             1,
             "#f0f921"
            ]
           ]
          },
          "colorway": [
           "#636efa",
           "#EF553B",
           "#00cc96",
           "#ab63fa",
           "#FFA15A",
           "#19d3f3",
           "#FF6692",
           "#B6E880",
           "#FF97FF",
           "#FECB52"
          ],
          "font": {
           "color": "#2a3f5f"
          },
          "geo": {
           "bgcolor": "white",
           "lakecolor": "white",
           "landcolor": "#E5ECF6",
           "showlakes": true,
           "showland": true,
           "subunitcolor": "white"
          },
          "hoverlabel": {
           "align": "left"
          },
          "hovermode": "closest",
          "mapbox": {
           "style": "light"
          },
          "paper_bgcolor": "white",
          "plot_bgcolor": "#E5ECF6",
          "polar": {
           "angularaxis": {
            "gridcolor": "white",
            "linecolor": "white",
            "ticks": ""
           },
           "bgcolor": "#E5ECF6",
           "radialaxis": {
            "gridcolor": "white",
            "linecolor": "white",
            "ticks": ""
           }
          },
          "scene": {
           "xaxis": {
            "backgroundcolor": "#E5ECF6",
            "gridcolor": "white",
            "gridwidth": 2,
            "linecolor": "white",
            "showbackground": true,
            "ticks": "",
            "zerolinecolor": "white"
           },
           "yaxis": {
            "backgroundcolor": "#E5ECF6",
            "gridcolor": "white",
            "gridwidth": 2,
            "linecolor": "white",
            "showbackground": true,
            "ticks": "",
            "zerolinecolor": "white"
           },
           "zaxis": {
            "backgroundcolor": "#E5ECF6",
            "gridcolor": "white",
            "gridwidth": 2,
            "linecolor": "white",
            "showbackground": true,
            "ticks": "",
            "zerolinecolor": "white"
           }
          },
          "shapedefaults": {
           "line": {
            "color": "#2a3f5f"
           }
          },
          "ternary": {
           "aaxis": {
            "gridcolor": "white",
            "linecolor": "white",
            "ticks": ""
           },
           "baxis": {
            "gridcolor": "white",
            "linecolor": "white",
            "ticks": ""
           },
           "bgcolor": "#E5ECF6",
           "caxis": {
            "gridcolor": "white",
            "linecolor": "white",
            "ticks": ""
           }
          },
          "title": {
           "x": 0.05
          },
          "xaxis": {
           "automargin": true,
           "gridcolor": "white",
           "linecolor": "white",
           "ticks": "",
           "title": {
            "standoff": 15
           },
           "zerolinecolor": "white",
           "zerolinewidth": 2
          },
          "yaxis": {
           "automargin": true,
           "gridcolor": "white",
           "linecolor": "white",
           "ticks": "",
           "title": {
            "standoff": 15
           },
           "zerolinecolor": "white",
           "zerolinewidth": 2
          }
         }
        },
        "title": {
         "text": "Net Profit"
        },
        "width": 800,
        "xaxis": {
         "anchor": "y",
         "domain": [
          0,
          1
         ],
         "title": {
          "text": "Case #"
         }
        },
        "yaxis": {
         "anchor": "x",
         "domain": [
          0,
          1
         ],
         "title": {
          "text": "Cum Net Profit"
         }
        }
       }
      }
     },
     "metadata": {},
     "output_type": "display_data"
    }
   ],
   "source": [
    "from plotly.subplots import make_subplots\n",
    "import plotly.graph_objects as go\n",
    "\n",
    "fig = make_subplots(rows=1, cols=1)\n",
    "\n",
    "fig.add_trace(\n",
    "    go.Scatter(mode=\"lines+markers\",x=bc[\"Case, K\"], y=bc[\"Net Profit\"]),\n",
    "    row=1, col=1\n",
    ")\n",
    "\n",
    "fig.update_layout(height=600, width=800, title_text='Net Profit',xaxis_title=\"Case #\",yaxis_title=\"Cum Net Profit\")\n",
    "fig.show()\n",
    "\n",
    "\n",
    "#fig = px.line(df, x=specificity, y=sensitivity, title='ROC Curve')\n",
    "#fig.show()"
   ]
  },
  {
   "cell_type": "code",
   "execution_count": 24,
   "id": "8bdb95c0-35b5-4ada-8a2b-fa768021ced8",
   "metadata": {},
   "outputs": [
    {
     "data": {
      "application/vnd.plotly.v1+json": {
       "config": {
        "plotlyServerURL": "https://plot.ly"
       },
       "data": [
        {
         "mode": "lines+markers",
         "type": "scatter",
         "x": [
          1,
          2,
          3,
          4,
          5,
          6,
          7,
          8,
          9,
          10,
          11,
          12,
          13,
          14,
          15,
          16,
          17,
          18,
          19,
          20,
          21,
          22,
          23,
          24,
          25,
          26,
          27,
          28,
          29,
          30,
          31,
          32,
          33,
          34,
          35,
          36,
          37,
          38,
          39,
          40,
          41,
          42,
          43,
          44,
          45,
          46,
          47,
          48,
          49,
          50,
          51,
          52,
          53,
          54,
          55,
          56,
          57,
          58,
          59,
          60,
          61,
          62,
          63,
          64,
          65,
          66,
          67,
          68,
          69,
          70,
          71,
          72
         ],
         "xaxis": "x",
         "y": [
          1,
          1,
          1,
          1,
          1,
          1,
          1,
          1,
          1,
          1,
          1,
          1,
          1,
          1,
          1,
          1,
          1,
          1,
          1,
          1,
          1,
          1,
          1,
          1,
          1,
          1,
          1,
          1,
          1,
          1,
          1,
          1,
          1,
          1,
          1,
          1,
          1,
          1,
          1,
          1,
          1,
          1,
          1,
          1,
          1,
          1,
          1,
          1,
          1,
          1,
          1,
          1,
          1,
          1,
          1,
          1,
          1,
          1,
          1,
          1,
          1,
          1,
          1,
          1,
          1,
          1,
          1,
          1,
          1,
          1,
          1,
          1
         ],
         "yaxis": "y"
        },
        {
         "mode": "lines+markers",
         "type": "scatter",
         "x": [
          1,
          2,
          3,
          4,
          5,
          6,
          7,
          8,
          9,
          10,
          11,
          12,
          13,
          14,
          15,
          16,
          17,
          18,
          19,
          20,
          21,
          22,
          23,
          24,
          25,
          26,
          27,
          28,
          29,
          30,
          31,
          32,
          33,
          34,
          35,
          36,
          37,
          38,
          39,
          40,
          41,
          42,
          43,
          44,
          45,
          46,
          47,
          48,
          49,
          50,
          51,
          52,
          53,
          54,
          55,
          56,
          57,
          58,
          59,
          60,
          61,
          62,
          63,
          64,
          65,
          66,
          67,
          68,
          69,
          70,
          71,
          72
         ],
         "xaxis": "x",
         "y": [
          2.1176470588235294,
          2.1176470588235294,
          1.411764705882353,
          1.5882352941176472,
          1.2705882352941176,
          1.411764705882353,
          1.512605042016807,
          1.3235294117647058,
          1.411764705882353,
          1.4823529411764707,
          1.3475935828877006,
          1.411764705882353,
          1.3031674208144797,
          1.2100840336134455,
          1.2705882352941178,
          1.3235294117647058,
          1.370242214532872,
          1.411764705882353,
          1.4489164086687307,
          1.3764705882352941,
          1.411764705882353,
          1.4438502673796791,
          1.473145780051151,
          1.411764705882353,
          1.44,
          1.4660633484162897,
          1.411764705882353,
          1.4369747899159664,
          1.3874239350912778,
          1.3411764705882354,
          1.366223908918406,
          1.3897058823529411,
          1.3475935828877006,
          1.370242214532872,
          1.3310924369747898,
          1.2941176470588236,
          1.31637519872814,
          1.281733746130031,
          1.248868778280543,
          1.2705882352941176,
          1.291248206599713,
          1.3109243697478992,
          1.280437756497948,
          1.299465240641711,
          1.2705882352941176,
          1.2429667519181586,
          1.216520650813517,
          1.2352941176470589,
          1.2533013205282113,
          1.2705882352941176,
          1.245674740484429,
          1.2217194570135748,
          1.1986681465038844,
          1.1764705882352942,
          1.1935828877005348,
          1.1722689075630253,
          1.1888544891640869,
          1.1683569979716024,
          1.148554336989033,
          1.1647058823529413,
          1.145612343297975,
          1.1612903225806452,
          1.1428571428571428,
          1.125,
          1.1076923076923078,
          1.090909090909091,
          1.0746268656716418,
          1.058823529411765,
          1.0434782608695652,
          1.0285714285714285,
          1.0140845070422535,
          1
         ],
         "yaxis": "y"
        }
       ],
       "layout": {
        "height": 600,
        "template": {
         "data": {
          "bar": [
           {
            "error_x": {
             "color": "#2a3f5f"
            },
            "error_y": {
             "color": "#2a3f5f"
            },
            "marker": {
             "line": {
              "color": "#E5ECF6",
              "width": 0.5
             },
             "pattern": {
              "fillmode": "overlay",
              "size": 10,
              "solidity": 0.2
             }
            },
            "type": "bar"
           }
          ],
          "barpolar": [
           {
            "marker": {
             "line": {
              "color": "#E5ECF6",
              "width": 0.5
             },
             "pattern": {
              "fillmode": "overlay",
              "size": 10,
              "solidity": 0.2
             }
            },
            "type": "barpolar"
           }
          ],
          "carpet": [
           {
            "aaxis": {
             "endlinecolor": "#2a3f5f",
             "gridcolor": "white",
             "linecolor": "white",
             "minorgridcolor": "white",
             "startlinecolor": "#2a3f5f"
            },
            "baxis": {
             "endlinecolor": "#2a3f5f",
             "gridcolor": "white",
             "linecolor": "white",
             "minorgridcolor": "white",
             "startlinecolor": "#2a3f5f"
            },
            "type": "carpet"
           }
          ],
          "choropleth": [
           {
            "colorbar": {
             "outlinewidth": 0,
             "ticks": ""
            },
            "type": "choropleth"
           }
          ],
          "contour": [
           {
            "colorbar": {
             "outlinewidth": 0,
             "ticks": ""
            },
            "colorscale": [
             [
              0,
              "#0d0887"
             ],
             [
              0.1111111111111111,
              "#46039f"
             ],
             [
              0.2222222222222222,
              "#7201a8"
             ],
             [
              0.3333333333333333,
              "#9c179e"
             ],
             [
              0.4444444444444444,
              "#bd3786"
             ],
             [
              0.5555555555555556,
              "#d8576b"
             ],
             [
              0.6666666666666666,
              "#ed7953"
             ],
             [
              0.7777777777777778,
              "#fb9f3a"
             ],
             [
              0.8888888888888888,
              "#fdca26"
             ],
             [
              1,
              "#f0f921"
             ]
            ],
            "type": "contour"
           }
          ],
          "contourcarpet": [
           {
            "colorbar": {
             "outlinewidth": 0,
             "ticks": ""
            },
            "type": "contourcarpet"
           }
          ],
          "heatmap": [
           {
            "colorbar": {
             "outlinewidth": 0,
             "ticks": ""
            },
            "colorscale": [
             [
              0,
              "#0d0887"
             ],
             [
              0.1111111111111111,
              "#46039f"
             ],
             [
              0.2222222222222222,
              "#7201a8"
             ],
             [
              0.3333333333333333,
              "#9c179e"
             ],
             [
              0.4444444444444444,
              "#bd3786"
             ],
             [
              0.5555555555555556,
              "#d8576b"
             ],
             [
              0.6666666666666666,
              "#ed7953"
             ],
             [
              0.7777777777777778,
              "#fb9f3a"
             ],
             [
              0.8888888888888888,
              "#fdca26"
             ],
             [
              1,
              "#f0f921"
             ]
            ],
            "type": "heatmap"
           }
          ],
          "heatmapgl": [
           {
            "colorbar": {
             "outlinewidth": 0,
             "ticks": ""
            },
            "colorscale": [
             [
              0,
              "#0d0887"
             ],
             [
              0.1111111111111111,
              "#46039f"
             ],
             [
              0.2222222222222222,
              "#7201a8"
             ],
             [
              0.3333333333333333,
              "#9c179e"
             ],
             [
              0.4444444444444444,
              "#bd3786"
             ],
             [
              0.5555555555555556,
              "#d8576b"
             ],
             [
              0.6666666666666666,
              "#ed7953"
             ],
             [
              0.7777777777777778,
              "#fb9f3a"
             ],
             [
              0.8888888888888888,
              "#fdca26"
             ],
             [
              1,
              "#f0f921"
             ]
            ],
            "type": "heatmapgl"
           }
          ],
          "histogram": [
           {
            "marker": {
             "pattern": {
              "fillmode": "overlay",
              "size": 10,
              "solidity": 0.2
             }
            },
            "type": "histogram"
           }
          ],
          "histogram2d": [
           {
            "colorbar": {
             "outlinewidth": 0,
             "ticks": ""
            },
            "colorscale": [
             [
              0,
              "#0d0887"
             ],
             [
              0.1111111111111111,
              "#46039f"
             ],
             [
              0.2222222222222222,
              "#7201a8"
             ],
             [
              0.3333333333333333,
              "#9c179e"
             ],
             [
              0.4444444444444444,
              "#bd3786"
             ],
             [
              0.5555555555555556,
              "#d8576b"
             ],
             [
              0.6666666666666666,
              "#ed7953"
             ],
             [
              0.7777777777777778,
              "#fb9f3a"
             ],
             [
              0.8888888888888888,
              "#fdca26"
             ],
             [
              1,
              "#f0f921"
             ]
            ],
            "type": "histogram2d"
           }
          ],
          "histogram2dcontour": [
           {
            "colorbar": {
             "outlinewidth": 0,
             "ticks": ""
            },
            "colorscale": [
             [
              0,
              "#0d0887"
             ],
             [
              0.1111111111111111,
              "#46039f"
             ],
             [
              0.2222222222222222,
              "#7201a8"
             ],
             [
              0.3333333333333333,
              "#9c179e"
             ],
             [
              0.4444444444444444,
              "#bd3786"
             ],
             [
              0.5555555555555556,
              "#d8576b"
             ],
             [
              0.6666666666666666,
              "#ed7953"
             ],
             [
              0.7777777777777778,
              "#fb9f3a"
             ],
             [
              0.8888888888888888,
              "#fdca26"
             ],
             [
              1,
              "#f0f921"
             ]
            ],
            "type": "histogram2dcontour"
           }
          ],
          "mesh3d": [
           {
            "colorbar": {
             "outlinewidth": 0,
             "ticks": ""
            },
            "type": "mesh3d"
           }
          ],
          "parcoords": [
           {
            "line": {
             "colorbar": {
              "outlinewidth": 0,
              "ticks": ""
             }
            },
            "type": "parcoords"
           }
          ],
          "pie": [
           {
            "automargin": true,
            "type": "pie"
           }
          ],
          "scatter": [
           {
            "fillpattern": {
             "fillmode": "overlay",
             "size": 10,
             "solidity": 0.2
            },
            "type": "scatter"
           }
          ],
          "scatter3d": [
           {
            "line": {
             "colorbar": {
              "outlinewidth": 0,
              "ticks": ""
             }
            },
            "marker": {
             "colorbar": {
              "outlinewidth": 0,
              "ticks": ""
             }
            },
            "type": "scatter3d"
           }
          ],
          "scattercarpet": [
           {
            "marker": {
             "colorbar": {
              "outlinewidth": 0,
              "ticks": ""
             }
            },
            "type": "scattercarpet"
           }
          ],
          "scattergeo": [
           {
            "marker": {
             "colorbar": {
              "outlinewidth": 0,
              "ticks": ""
             }
            },
            "type": "scattergeo"
           }
          ],
          "scattergl": [
           {
            "marker": {
             "colorbar": {
              "outlinewidth": 0,
              "ticks": ""
             }
            },
            "type": "scattergl"
           }
          ],
          "scattermapbox": [
           {
            "marker": {
             "colorbar": {
              "outlinewidth": 0,
              "ticks": ""
             }
            },
            "type": "scattermapbox"
           }
          ],
          "scatterpolar": [
           {
            "marker": {
             "colorbar": {
              "outlinewidth": 0,
              "ticks": ""
             }
            },
            "type": "scatterpolar"
           }
          ],
          "scatterpolargl": [
           {
            "marker": {
             "colorbar": {
              "outlinewidth": 0,
              "ticks": ""
             }
            },
            "type": "scatterpolargl"
           }
          ],
          "scatterternary": [
           {
            "marker": {
             "colorbar": {
              "outlinewidth": 0,
              "ticks": ""
             }
            },
            "type": "scatterternary"
           }
          ],
          "surface": [
           {
            "colorbar": {
             "outlinewidth": 0,
             "ticks": ""
            },
            "colorscale": [
             [
              0,
              "#0d0887"
             ],
             [
              0.1111111111111111,
              "#46039f"
             ],
             [
              0.2222222222222222,
              "#7201a8"
             ],
             [
              0.3333333333333333,
              "#9c179e"
             ],
             [
              0.4444444444444444,
              "#bd3786"
             ],
             [
              0.5555555555555556,
              "#d8576b"
             ],
             [
              0.6666666666666666,
              "#ed7953"
             ],
             [
              0.7777777777777778,
              "#fb9f3a"
             ],
             [
              0.8888888888888888,
              "#fdca26"
             ],
             [
              1,
              "#f0f921"
             ]
            ],
            "type": "surface"
           }
          ],
          "table": [
           {
            "cells": {
             "fill": {
              "color": "#EBF0F8"
             },
             "line": {
              "color": "white"
             }
            },
            "header": {
             "fill": {
              "color": "#C8D4E3"
             },
             "line": {
              "color": "white"
             }
            },
            "type": "table"
           }
          ]
         },
         "layout": {
          "annotationdefaults": {
           "arrowcolor": "#2a3f5f",
           "arrowhead": 0,
           "arrowwidth": 1
          },
          "autotypenumbers": "strict",
          "coloraxis": {
           "colorbar": {
            "outlinewidth": 0,
            "ticks": ""
           }
          },
          "colorscale": {
           "diverging": [
            [
             0,
             "#8e0152"
            ],
            [
             0.1,
             "#c51b7d"
            ],
            [
             0.2,
             "#de77ae"
            ],
            [
             0.3,
             "#f1b6da"
            ],
            [
             0.4,
             "#fde0ef"
            ],
            [
             0.5,
             "#f7f7f7"
            ],
            [
             0.6,
             "#e6f5d0"
            ],
            [
             0.7,
             "#b8e186"
            ],
            [
             0.8,
             "#7fbc41"
            ],
            [
             0.9,
             "#4d9221"
            ],
            [
             1,
             "#276419"
            ]
           ],
           "sequential": [
            [
             0,
             "#0d0887"
            ],
            [
             0.1111111111111111,
             "#46039f"
            ],
            [
             0.2222222222222222,
             "#7201a8"
            ],
            [
             0.3333333333333333,
             "#9c179e"
            ],
            [
             0.4444444444444444,
             "#bd3786"
            ],
            [
             0.5555555555555556,
             "#d8576b"
            ],
            [
             0.6666666666666666,
             "#ed7953"
            ],
            [
             0.7777777777777778,
             "#fb9f3a"
            ],
            [
             0.8888888888888888,
             "#fdca26"
            ],
            [
             1,
             "#f0f921"
            ]
           ],
           "sequentialminus": [
            [
             0,
             "#0d0887"
            ],
            [
             0.1111111111111111,
             "#46039f"
            ],
            [
             0.2222222222222222,
             "#7201a8"
            ],
            [
             0.3333333333333333,
             "#9c179e"
            ],
            [
             0.4444444444444444,
             "#bd3786"
            ],
            [
             0.5555555555555556,
             "#d8576b"
            ],
            [
             0.6666666666666666,
             "#ed7953"
            ],
            [
             0.7777777777777778,
             "#fb9f3a"
            ],
            [
             0.8888888888888888,
             "#fdca26"
            ],
            [
             1,
             "#f0f921"
            ]
           ]
          },
          "colorway": [
           "#636efa",
           "#EF553B",
           "#00cc96",
           "#ab63fa",
           "#FFA15A",
           "#19d3f3",
           "#FF6692",
           "#B6E880",
           "#FF97FF",
           "#FECB52"
          ],
          "font": {
           "color": "#2a3f5f"
          },
          "geo": {
           "bgcolor": "white",
           "lakecolor": "white",
           "landcolor": "#E5ECF6",
           "showlakes": true,
           "showland": true,
           "subunitcolor": "white"
          },
          "hoverlabel": {
           "align": "left"
          },
          "hovermode": "closest",
          "mapbox": {
           "style": "light"
          },
          "paper_bgcolor": "white",
          "plot_bgcolor": "#E5ECF6",
          "polar": {
           "angularaxis": {
            "gridcolor": "white",
            "linecolor": "white",
            "ticks": ""
           },
           "bgcolor": "#E5ECF6",
           "radialaxis": {
            "gridcolor": "white",
            "linecolor": "white",
            "ticks": ""
           }
          },
          "scene": {
           "xaxis": {
            "backgroundcolor": "#E5ECF6",
            "gridcolor": "white",
            "gridwidth": 2,
            "linecolor": "white",
            "showbackground": true,
            "ticks": "",
            "zerolinecolor": "white"
           },
           "yaxis": {
            "backgroundcolor": "#E5ECF6",
            "gridcolor": "white",
            "gridwidth": 2,
            "linecolor": "white",
            "showbackground": true,
            "ticks": "",
            "zerolinecolor": "white"
           },
           "zaxis": {
            "backgroundcolor": "#E5ECF6",
            "gridcolor": "white",
            "gridwidth": 2,
            "linecolor": "white",
            "showbackground": true,
            "ticks": "",
            "zerolinecolor": "white"
           }
          },
          "shapedefaults": {
           "line": {
            "color": "#2a3f5f"
           }
          },
          "ternary": {
           "aaxis": {
            "gridcolor": "white",
            "linecolor": "white",
            "ticks": ""
           },
           "baxis": {
            "gridcolor": "white",
            "linecolor": "white",
            "ticks": ""
           },
           "bgcolor": "#E5ECF6",
           "caxis": {
            "gridcolor": "white",
            "linecolor": "white",
            "ticks": ""
           }
          },
          "title": {
           "x": 0.05
          },
          "xaxis": {
           "automargin": true,
           "gridcolor": "white",
           "linecolor": "white",
           "ticks": "",
           "title": {
            "standoff": 15
           },
           "zerolinecolor": "white",
           "zerolinewidth": 2
          },
          "yaxis": {
           "automargin": true,
           "gridcolor": "white",
           "linecolor": "white",
           "ticks": "",
           "title": {
            "standoff": 15
           },
           "zerolinecolor": "white",
           "zerolinewidth": 2
          }
         }
        },
        "title": {
         "text": "Lift Chart"
        },
        "width": 800,
        "xaxis": {
         "anchor": "y",
         "domain": [
          0,
          1
         ],
         "title": {
          "text": "Case #"
         }
        },
        "yaxis": {
         "anchor": "x",
         "domain": [
          0,
          1
         ],
         "title": {
          "text": "Lift"
         }
        }
       }
      }
     },
     "metadata": {},
     "output_type": "display_data"
    }
   ],
   "source": [
    "from plotly.subplots import make_subplots\n",
    "import plotly.graph_objects as go\n",
    "\n",
    "fig = make_subplots(rows=1, cols=1)\n",
    "\n",
    "fig.add_trace(\n",
    "    go.Scatter(mode=\"lines+markers\",x=bc[\"Case, K\"], y=bc[\"Baseline, B(k)\"]),\n",
    "    row=1, col=1\n",
    ")\n",
    "\n",
    "fig.add_trace(\n",
    "    go.Scatter(mode=\"lines+markers\",x=bc[\"Case, K\"], y=bc[\"Lift, L(k)\"]),\n",
    "    row=1, col=1\n",
    ")\n",
    "\n",
    "fig.update_layout(height=600, width=800, title_text='Lift Chart',xaxis_title=\"Case #\",yaxis_title=\"Lift\")\n",
    "fig.show()\n",
    "\n",
    "\n",
    "#fig = px.line(df, x=specificity, y=sensitivity, title='ROC Curve')\n",
    "#fig.show()"
   ]
  },
  {
   "cell_type": "code",
   "execution_count": 26,
   "id": "916889ab-e995-4d3f-8a5e-4883e0952edc",
   "metadata": {},
   "outputs": [
    {
     "data": {
      "text/html": [
       "<div>\n",
       "<style scoped>\n",
       "    .dataframe tbody tr th:only-of-type {\n",
       "        vertical-align: middle;\n",
       "    }\n",
       "\n",
       "    .dataframe tbody tr th {\n",
       "        vertical-align: top;\n",
       "    }\n",
       "\n",
       "    .dataframe thead th {\n",
       "        text-align: right;\n",
       "    }\n",
       "</style>\n",
       "<table border=\"1\" class=\"dataframe\">\n",
       "  <thead>\n",
       "    <tr style=\"text-align: right;\">\n",
       "      <th></th>\n",
       "      <th>Sn</th>\n",
       "      <th>Companies Name</th>\n",
       "      <th>Region</th>\n",
       "      <th>Data Warehouse</th>\n",
       "      <th>Cloud data storage size</th>\n",
       "      <th>BI Tool</th>\n",
       "      <th>Service Cost</th>\n",
       "      <th>Probability of winning the opportunity</th>\n",
       "      <th>Actual Class</th>\n",
       "    </tr>\n",
       "  </thead>\n",
       "  <tbody>\n",
       "    <tr>\n",
       "      <th>0</th>\n",
       "      <td>1</td>\n",
       "      <td>Walmart</td>\n",
       "      <td>Europe</td>\n",
       "      <td>AWS Redshift</td>\n",
       "      <td>455 TB</td>\n",
       "      <td>AWS Quicksight</td>\n",
       "      <td>610 $</td>\n",
       "      <td>0.397</td>\n",
       "      <td>0</td>\n",
       "    </tr>\n",
       "    <tr>\n",
       "      <th>1</th>\n",
       "      <td>2</td>\n",
       "      <td>Exxon Mobil</td>\n",
       "      <td>Europe</td>\n",
       "      <td>Azure Synapse</td>\n",
       "      <td>233 TB</td>\n",
       "      <td>Microsoft Power BI</td>\n",
       "      <td>888 $</td>\n",
       "      <td>0.176</td>\n",
       "      <td>0</td>\n",
       "    </tr>\n",
       "    <tr>\n",
       "      <th>2</th>\n",
       "      <td>3</td>\n",
       "      <td>Apple</td>\n",
       "      <td>Europe</td>\n",
       "      <td>AWS Redshift</td>\n",
       "      <td>859 TB</td>\n",
       "      <td>AWS Quicksight</td>\n",
       "      <td>682 $</td>\n",
       "      <td>0.416</td>\n",
       "      <td>0</td>\n",
       "    </tr>\n",
       "    <tr>\n",
       "      <th>3</th>\n",
       "      <td>4</td>\n",
       "      <td>Berkshire Hathaway</td>\n",
       "      <td>India</td>\n",
       "      <td>Azure Synapse</td>\n",
       "      <td>66 TB</td>\n",
       "      <td>Microsoft Power BI</td>\n",
       "      <td>710 $</td>\n",
       "      <td>0.385</td>\n",
       "      <td>0</td>\n",
       "    </tr>\n",
       "    <tr>\n",
       "      <th>4</th>\n",
       "      <td>5</td>\n",
       "      <td>Amazon.com</td>\n",
       "      <td>USA</td>\n",
       "      <td>GCP Big Query</td>\n",
       "      <td>338 TB</td>\n",
       "      <td>Looker</td>\n",
       "      <td>1500 $</td>\n",
       "      <td>0.998</td>\n",
       "      <td>1</td>\n",
       "    </tr>\n",
       "  </tbody>\n",
       "</table>\n",
       "</div>"
      ],
      "text/plain": [
       "   Sn      Companies Name  Region Data Warehouse Cloud data storage size  \\\n",
       "0   1             Walmart  Europe   AWS Redshift                  455 TB   \n",
       "1   2         Exxon Mobil  Europe  Azure Synapse                  233 TB   \n",
       "2   3               Apple  Europe   AWS Redshift                  859 TB   \n",
       "3   4  Berkshire Hathaway   India  Azure Synapse                   66 TB   \n",
       "4   5          Amazon.com     USA  GCP Big Query                  338 TB   \n",
       "\n",
       "              BI Tool Service Cost  Probability of winning the opportunity  \\\n",
       "0      AWS Quicksight        610 $                                   0.397   \n",
       "1  Microsoft Power BI        888 $                                   0.176   \n",
       "2      AWS Quicksight        682 $                                   0.416   \n",
       "3  Microsoft Power BI        710 $                                   0.385   \n",
       "4              Looker       1500 $                                   0.998   \n",
       "\n",
       "   Actual Class  \n",
       "0             0  \n",
       "1             0  \n",
       "2             0  \n",
       "3             0  \n",
       "4             1  "
      ]
     },
     "execution_count": 26,
     "metadata": {},
     "output_type": "execute_result"
    }
   ],
   "source": [
    "bc1 = pd.read_excel(\"./Data/Bostonconsultancy.xlsx\")\n",
    "bc1.head()"
   ]
  },
  {
   "cell_type": "code",
   "execution_count": 27,
   "id": "44171bea-1bd4-4e16-b281-208390fdfd4b",
   "metadata": {},
   "outputs": [
    {
     "data": {
      "text/html": [
       "<div>\n",
       "<style scoped>\n",
       "    .dataframe tbody tr th:only-of-type {\n",
       "        vertical-align: middle;\n",
       "    }\n",
       "\n",
       "    .dataframe tbody tr th {\n",
       "        vertical-align: top;\n",
       "    }\n",
       "\n",
       "    .dataframe thead th {\n",
       "        text-align: right;\n",
       "    }\n",
       "</style>\n",
       "<table border=\"1\" class=\"dataframe\">\n",
       "  <thead>\n",
       "    <tr style=\"text-align: right;\">\n",
       "      <th></th>\n",
       "      <th>Sn</th>\n",
       "      <th>Companies Name</th>\n",
       "      <th>Region</th>\n",
       "      <th>Data Warehouse</th>\n",
       "      <th>Cloud data storage size</th>\n",
       "      <th>BI Tool</th>\n",
       "      <th>Service Cost</th>\n",
       "      <th>propensity</th>\n",
       "      <th>Actual Class</th>\n",
       "    </tr>\n",
       "  </thead>\n",
       "  <tbody>\n",
       "    <tr>\n",
       "      <th>4</th>\n",
       "      <td>5</td>\n",
       "      <td>Amazon.com</td>\n",
       "      <td>USA</td>\n",
       "      <td>GCP Big Query</td>\n",
       "      <td>338 TB</td>\n",
       "      <td>Looker</td>\n",
       "      <td>1500 $</td>\n",
       "      <td>0.998</td>\n",
       "      <td>1</td>\n",
       "    </tr>\n",
       "    <tr>\n",
       "      <th>69</th>\n",
       "      <td>70</td>\n",
       "      <td>Charter Communications</td>\n",
       "      <td>USA</td>\n",
       "      <td>GCP Big Query</td>\n",
       "      <td>170 TB</td>\n",
       "      <td>Looker</td>\n",
       "      <td>618 $</td>\n",
       "      <td>0.996</td>\n",
       "      <td>1</td>\n",
       "    </tr>\n",
       "    <tr>\n",
       "      <th>65</th>\n",
       "      <td>66</td>\n",
       "      <td>AIG</td>\n",
       "      <td>USA</td>\n",
       "      <td>GCP Big Query</td>\n",
       "      <td>858 TB</td>\n",
       "      <td>Looker</td>\n",
       "      <td>490 $</td>\n",
       "      <td>0.988</td>\n",
       "      <td>0</td>\n",
       "    </tr>\n",
       "    <tr>\n",
       "      <th>43</th>\n",
       "      <td>44</td>\n",
       "      <td>MetLife</td>\n",
       "      <td>USA</td>\n",
       "      <td>GCP Big Query</td>\n",
       "      <td>853 TB</td>\n",
       "      <td>Looker</td>\n",
       "      <td>948 $</td>\n",
       "      <td>0.984</td>\n",
       "      <td>1</td>\n",
       "    </tr>\n",
       "    <tr>\n",
       "      <th>29</th>\n",
       "      <td>30</td>\n",
       "      <td>Citigroup</td>\n",
       "      <td>USA</td>\n",
       "      <td>GCP Big Query</td>\n",
       "      <td>749 TB</td>\n",
       "      <td>Looker</td>\n",
       "      <td>702 $</td>\n",
       "      <td>0.974</td>\n",
       "      <td>0</td>\n",
       "    </tr>\n",
       "  </tbody>\n",
       "</table>\n",
       "</div>"
      ],
      "text/plain": [
       "    Sn          Companies Name Region Data Warehouse Cloud data storage size  \\\n",
       "4    5              Amazon.com    USA  GCP Big Query                  338 TB   \n",
       "69  70  Charter Communications    USA  GCP Big Query                  170 TB   \n",
       "65  66                     AIG    USA  GCP Big Query                  858 TB   \n",
       "43  44                 MetLife    USA  GCP Big Query                  853 TB   \n",
       "29  30               Citigroup    USA  GCP Big Query                  749 TB   \n",
       "\n",
       "   BI Tool Service Cost  propensity  Actual Class  \n",
       "4   Looker       1500 $       0.998             1  \n",
       "69  Looker        618 $       0.996             1  \n",
       "65  Looker        490 $       0.988             0  \n",
       "43  Looker        948 $       0.984             1  \n",
       "29  Looker        702 $       0.974             0  "
      ]
     },
     "execution_count": 27,
     "metadata": {},
     "output_type": "execute_result"
    }
   ],
   "source": [
    "bc1.rename(columns = {'Probability of winning the opportunity':'propensity'}, inplace = True)\n",
    "bc1 = bc1.sort_values(by = \"propensity\",axis=0, ascending=False)\n",
    "bc1.head()"
   ]
  },
  {
   "cell_type": "code",
   "execution_count": 28,
   "id": "d815a8ac-0b21-4c33-b576-fbe039398fa0",
   "metadata": {},
   "outputs": [
    {
     "data": {
      "text/plain": [
       "(72, 9)"
      ]
     },
     "execution_count": 28,
     "metadata": {},
     "output_type": "execute_result"
    }
   ],
   "source": [
    "bc1.shape"
   ]
  },
  {
   "cell_type": "code",
   "execution_count": 29,
   "id": "d68ffe3b-d5c0-4e8d-a031-4cbf71560201",
   "metadata": {},
   "outputs": [
    {
     "data": {
      "text/plain": [
       "(70, 9)"
      ]
     },
     "execution_count": 29,
     "metadata": {},
     "output_type": "execute_result"
    }
   ],
   "source": [
    "bc1.drop(bc1.tail(bc1.shape[0]%10).index,inplace=True)\n",
    "bc1.shape"
   ]
  },
  {
   "cell_type": "code",
   "execution_count": 30,
   "id": "19313aed-33cf-4855-bbad-cee6d034104a",
   "metadata": {},
   "outputs": [
    {
     "data": {
      "text/html": [
       "<div>\n",
       "<style scoped>\n",
       "    .dataframe tbody tr th:only-of-type {\n",
       "        vertical-align: middle;\n",
       "    }\n",
       "\n",
       "    .dataframe tbody tr th {\n",
       "        vertical-align: top;\n",
       "    }\n",
       "\n",
       "    .dataframe thead th {\n",
       "        text-align: right;\n",
       "    }\n",
       "</style>\n",
       "<table border=\"1\" class=\"dataframe\">\n",
       "  <thead>\n",
       "    <tr style=\"text-align: right;\">\n",
       "      <th></th>\n",
       "      <th>Sn</th>\n",
       "      <th>Companies Name</th>\n",
       "      <th>Region</th>\n",
       "      <th>Data Warehouse</th>\n",
       "      <th>Cloud data storage size</th>\n",
       "      <th>BI Tool</th>\n",
       "      <th>Service Cost</th>\n",
       "      <th>propensity</th>\n",
       "      <th>Actual Class</th>\n",
       "    </tr>\n",
       "  </thead>\n",
       "  <tbody>\n",
       "    <tr>\n",
       "      <th>4</th>\n",
       "      <td>5</td>\n",
       "      <td>Amazon.com</td>\n",
       "      <td>USA</td>\n",
       "      <td>GCP Big Query</td>\n",
       "      <td>338 TB</td>\n",
       "      <td>Looker</td>\n",
       "      <td>1500 $</td>\n",
       "      <td>0.998</td>\n",
       "      <td>1</td>\n",
       "    </tr>\n",
       "    <tr>\n",
       "      <th>69</th>\n",
       "      <td>70</td>\n",
       "      <td>Charter Communications</td>\n",
       "      <td>USA</td>\n",
       "      <td>GCP Big Query</td>\n",
       "      <td>170 TB</td>\n",
       "      <td>Looker</td>\n",
       "      <td>618 $</td>\n",
       "      <td>0.996</td>\n",
       "      <td>1</td>\n",
       "    </tr>\n",
       "    <tr>\n",
       "      <th>65</th>\n",
       "      <td>66</td>\n",
       "      <td>AIG</td>\n",
       "      <td>USA</td>\n",
       "      <td>GCP Big Query</td>\n",
       "      <td>858 TB</td>\n",
       "      <td>Looker</td>\n",
       "      <td>490 $</td>\n",
       "      <td>0.988</td>\n",
       "      <td>0</td>\n",
       "    </tr>\n",
       "    <tr>\n",
       "      <th>43</th>\n",
       "      <td>44</td>\n",
       "      <td>MetLife</td>\n",
       "      <td>USA</td>\n",
       "      <td>GCP Big Query</td>\n",
       "      <td>853 TB</td>\n",
       "      <td>Looker</td>\n",
       "      <td>948 $</td>\n",
       "      <td>0.984</td>\n",
       "      <td>1</td>\n",
       "    </tr>\n",
       "    <tr>\n",
       "      <th>29</th>\n",
       "      <td>30</td>\n",
       "      <td>Citigroup</td>\n",
       "      <td>USA</td>\n",
       "      <td>GCP Big Query</td>\n",
       "      <td>749 TB</td>\n",
       "      <td>Looker</td>\n",
       "      <td>702 $</td>\n",
       "      <td>0.974</td>\n",
       "      <td>0</td>\n",
       "    </tr>\n",
       "  </tbody>\n",
       "</table>\n",
       "</div>"
      ],
      "text/plain": [
       "    Sn          Companies Name Region Data Warehouse Cloud data storage size  \\\n",
       "4    5              Amazon.com    USA  GCP Big Query                  338 TB   \n",
       "69  70  Charter Communications    USA  GCP Big Query                  170 TB   \n",
       "65  66                     AIG    USA  GCP Big Query                  858 TB   \n",
       "43  44                 MetLife    USA  GCP Big Query                  853 TB   \n",
       "29  30               Citigroup    USA  GCP Big Query                  749 TB   \n",
       "\n",
       "   BI Tool Service Cost  propensity  Actual Class  \n",
       "4   Looker       1500 $       0.998             1  \n",
       "69  Looker        618 $       0.996             1  \n",
       "65  Looker        490 $       0.988             0  \n",
       "43  Looker        948 $       0.984             1  \n",
       "29  Looker        702 $       0.974             0  "
      ]
     },
     "execution_count": 30,
     "metadata": {},
     "output_type": "execute_result"
    }
   ],
   "source": [
    "bc1.head()"
   ]
  },
  {
   "attachments": {},
   "cell_type": "markdown",
   "id": "45a614f4-9546-4ca8-b4f1-263df7668301",
   "metadata": {},
   "source": [
    "As we are allowed to do 10 discovery calls per month \n",
    "We have divided the dataset with 10 Companies per group instead of having 7 records per group(70/10) which is usually the case in generic Decile Chart."
   ]
  },
  {
   "cell_type": "code",
   "execution_count": 31,
   "id": "5ef5b820-d646-4e19-8288-b85471f0110d",
   "metadata": {},
   "outputs": [
    {
     "data": {
      "text/html": [
       "<div>\n",
       "<style scoped>\n",
       "    .dataframe tbody tr th:only-of-type {\n",
       "        vertical-align: middle;\n",
       "    }\n",
       "\n",
       "    .dataframe tbody tr th {\n",
       "        vertical-align: top;\n",
       "    }\n",
       "\n",
       "    .dataframe thead th {\n",
       "        text-align: right;\n",
       "    }\n",
       "</style>\n",
       "<table border=\"1\" class=\"dataframe\">\n",
       "  <thead>\n",
       "    <tr style=\"text-align: right;\">\n",
       "      <th></th>\n",
       "      <th>Sn</th>\n",
       "      <th>Companies Name</th>\n",
       "      <th>Region</th>\n",
       "      <th>Data Warehouse</th>\n",
       "      <th>Cloud data storage size</th>\n",
       "      <th>BI Tool</th>\n",
       "      <th>Service Cost</th>\n",
       "      <th>propensity</th>\n",
       "      <th>Actual Class</th>\n",
       "      <th>Decile</th>\n",
       "    </tr>\n",
       "  </thead>\n",
       "  <tbody>\n",
       "    <tr>\n",
       "      <th>4</th>\n",
       "      <td>5</td>\n",
       "      <td>Amazon.com</td>\n",
       "      <td>USA</td>\n",
       "      <td>GCP Big Query</td>\n",
       "      <td>338 TB</td>\n",
       "      <td>Looker</td>\n",
       "      <td>1500 $</td>\n",
       "      <td>0.998</td>\n",
       "      <td>1</td>\n",
       "      <td>1</td>\n",
       "    </tr>\n",
       "    <tr>\n",
       "      <th>69</th>\n",
       "      <td>70</td>\n",
       "      <td>Charter Communications</td>\n",
       "      <td>USA</td>\n",
       "      <td>GCP Big Query</td>\n",
       "      <td>170 TB</td>\n",
       "      <td>Looker</td>\n",
       "      <td>618 $</td>\n",
       "      <td>0.996</td>\n",
       "      <td>1</td>\n",
       "      <td>1</td>\n",
       "    </tr>\n",
       "    <tr>\n",
       "      <th>65</th>\n",
       "      <td>66</td>\n",
       "      <td>AIG</td>\n",
       "      <td>USA</td>\n",
       "      <td>GCP Big Query</td>\n",
       "      <td>858 TB</td>\n",
       "      <td>Looker</td>\n",
       "      <td>490 $</td>\n",
       "      <td>0.988</td>\n",
       "      <td>0</td>\n",
       "      <td>1</td>\n",
       "    </tr>\n",
       "    <tr>\n",
       "      <th>43</th>\n",
       "      <td>44</td>\n",
       "      <td>MetLife</td>\n",
       "      <td>USA</td>\n",
       "      <td>GCP Big Query</td>\n",
       "      <td>853 TB</td>\n",
       "      <td>Looker</td>\n",
       "      <td>948 $</td>\n",
       "      <td>0.984</td>\n",
       "      <td>1</td>\n",
       "      <td>1</td>\n",
       "    </tr>\n",
       "    <tr>\n",
       "      <th>29</th>\n",
       "      <td>30</td>\n",
       "      <td>Citigroup</td>\n",
       "      <td>USA</td>\n",
       "      <td>GCP Big Query</td>\n",
       "      <td>749 TB</td>\n",
       "      <td>Looker</td>\n",
       "      <td>702 $</td>\n",
       "      <td>0.974</td>\n",
       "      <td>0</td>\n",
       "      <td>1</td>\n",
       "    </tr>\n",
       "    <tr>\n",
       "      <th>...</th>\n",
       "      <td>...</td>\n",
       "      <td>...</td>\n",
       "      <td>...</td>\n",
       "      <td>...</td>\n",
       "      <td>...</td>\n",
       "      <td>...</td>\n",
       "      <td>...</td>\n",
       "      <td>...</td>\n",
       "      <td>...</td>\n",
       "      <td>...</td>\n",
       "    </tr>\n",
       "    <tr>\n",
       "      <th>64</th>\n",
       "      <td>65</td>\n",
       "      <td>Cigna</td>\n",
       "      <td>Europe</td>\n",
       "      <td>Azure Synapse</td>\n",
       "      <td>37 TB</td>\n",
       "      <td>Microsoft Power BI</td>\n",
       "      <td>1000 $</td>\n",
       "      <td>0.094</td>\n",
       "      <td>0</td>\n",
       "      <td>7</td>\n",
       "    </tr>\n",
       "    <tr>\n",
       "      <th>61</th>\n",
       "      <td>62</td>\n",
       "      <td>Goldman Sachs Group</td>\n",
       "      <td>Australia</td>\n",
       "      <td>Azure Synapse</td>\n",
       "      <td>103 TB</td>\n",
       "      <td>Microsoft Power BI</td>\n",
       "      <td>518 $</td>\n",
       "      <td>0.092</td>\n",
       "      <td>0</td>\n",
       "      <td>7</td>\n",
       "    </tr>\n",
       "    <tr>\n",
       "      <th>19</th>\n",
       "      <td>20</td>\n",
       "      <td>Kroger</td>\n",
       "      <td>Europe</td>\n",
       "      <td>Azure Synapse</td>\n",
       "      <td>529 TB</td>\n",
       "      <td>Microsoft Power BI</td>\n",
       "      <td>1000 $</td>\n",
       "      <td>0.084</td>\n",
       "      <td>0</td>\n",
       "      <td>7</td>\n",
       "    </tr>\n",
       "    <tr>\n",
       "      <th>41</th>\n",
       "      <td>42</td>\n",
       "      <td>Lowe's</td>\n",
       "      <td>Australia</td>\n",
       "      <td>Azure Synapse</td>\n",
       "      <td>845 TB</td>\n",
       "      <td>Microsoft Power BI</td>\n",
       "      <td>578 $</td>\n",
       "      <td>0.065</td>\n",
       "      <td>0</td>\n",
       "      <td>7</td>\n",
       "    </tr>\n",
       "    <tr>\n",
       "      <th>68</th>\n",
       "      <td>69</td>\n",
       "      <td>Delta Air Lines</td>\n",
       "      <td>India</td>\n",
       "      <td>Azure Synapse</td>\n",
       "      <td>527 TB</td>\n",
       "      <td>Microsoft Power BI</td>\n",
       "      <td>840 $</td>\n",
       "      <td>0.058</td>\n",
       "      <td>0</td>\n",
       "      <td>7</td>\n",
       "    </tr>\n",
       "  </tbody>\n",
       "</table>\n",
       "<p>70 rows × 10 columns</p>\n",
       "</div>"
      ],
      "text/plain": [
       "    Sn          Companies Name     Region Data Warehouse  \\\n",
       "4    5              Amazon.com        USA  GCP Big Query   \n",
       "69  70  Charter Communications        USA  GCP Big Query   \n",
       "65  66                     AIG        USA  GCP Big Query   \n",
       "43  44                 MetLife        USA  GCP Big Query   \n",
       "29  30               Citigroup        USA  GCP Big Query   \n",
       "..  ..                     ...        ...            ...   \n",
       "64  65                   Cigna     Europe  Azure Synapse   \n",
       "61  62     Goldman Sachs Group  Australia  Azure Synapse   \n",
       "19  20                  Kroger     Europe  Azure Synapse   \n",
       "41  42                  Lowe's  Australia  Azure Synapse   \n",
       "68  69         Delta Air Lines      India  Azure Synapse   \n",
       "\n",
       "   Cloud data storage size             BI Tool Service Cost  propensity  \\\n",
       "4                   338 TB              Looker       1500 $       0.998   \n",
       "69                  170 TB              Looker        618 $       0.996   \n",
       "65                  858 TB              Looker        490 $       0.988   \n",
       "43                  853 TB              Looker        948 $       0.984   \n",
       "29                  749 TB              Looker        702 $       0.974   \n",
       "..                     ...                 ...          ...         ...   \n",
       "64                   37 TB  Microsoft Power BI       1000 $       0.094   \n",
       "61                  103 TB  Microsoft Power BI        518 $       0.092   \n",
       "19                  529 TB  Microsoft Power BI       1000 $       0.084   \n",
       "41                  845 TB  Microsoft Power BI        578 $       0.065   \n",
       "68                  527 TB  Microsoft Power BI        840 $       0.058   \n",
       "\n",
       "    Actual Class Decile  \n",
       "4              1      1  \n",
       "69             1      1  \n",
       "65             0      1  \n",
       "43             1      1  \n",
       "29             0      1  \n",
       "..           ...    ...  \n",
       "64             0      7  \n",
       "61             0      7  \n",
       "19             0      7  \n",
       "41             0      7  \n",
       "68             0      7  \n",
       "\n",
       "[70 rows x 10 columns]"
      ]
     },
     "execution_count": 31,
     "metadata": {},
     "output_type": "execute_result"
    }
   ],
   "source": [
    "bc1['Decile'] = pd.qcut(bc1['propensity'], 7, labels=[i for i in range(7,0,-1)])\n",
    "bc1"
   ]
  },
  {
   "cell_type": "code",
   "execution_count": 32,
   "id": "a7c0f8f9-44ab-49dd-a63e-5d2f6a693582",
   "metadata": {},
   "outputs": [
    {
     "data": {
      "text/html": [
       "<div>\n",
       "<style scoped>\n",
       "    .dataframe tbody tr th:only-of-type {\n",
       "        vertical-align: middle;\n",
       "    }\n",
       "\n",
       "    .dataframe tbody tr th {\n",
       "        vertical-align: top;\n",
       "    }\n",
       "\n",
       "    .dataframe thead th {\n",
       "        text-align: right;\n",
       "    }\n",
       "</style>\n",
       "<table border=\"1\" class=\"dataframe\">\n",
       "  <thead>\n",
       "    <tr style=\"text-align: right;\">\n",
       "      <th></th>\n",
       "      <th>Sn</th>\n",
       "      <th>Companies Name</th>\n",
       "      <th>Region</th>\n",
       "      <th>Data Warehouse</th>\n",
       "      <th>Cloud data storage size</th>\n",
       "      <th>BI Tool</th>\n",
       "      <th>Service Cost</th>\n",
       "      <th>propensity</th>\n",
       "      <th>Actual Class</th>\n",
       "      <th>Decile</th>\n",
       "    </tr>\n",
       "  </thead>\n",
       "  <tbody>\n",
       "    <tr>\n",
       "      <th>4</th>\n",
       "      <td>5</td>\n",
       "      <td>Amazon.com</td>\n",
       "      <td>USA</td>\n",
       "      <td>GCP Big Query</td>\n",
       "      <td>338 TB</td>\n",
       "      <td>Looker</td>\n",
       "      <td>1500</td>\n",
       "      <td>0.998</td>\n",
       "      <td>1</td>\n",
       "      <td>1</td>\n",
       "    </tr>\n",
       "    <tr>\n",
       "      <th>69</th>\n",
       "      <td>70</td>\n",
       "      <td>Charter Communications</td>\n",
       "      <td>USA</td>\n",
       "      <td>GCP Big Query</td>\n",
       "      <td>170 TB</td>\n",
       "      <td>Looker</td>\n",
       "      <td>618</td>\n",
       "      <td>0.996</td>\n",
       "      <td>1</td>\n",
       "      <td>1</td>\n",
       "    </tr>\n",
       "    <tr>\n",
       "      <th>65</th>\n",
       "      <td>66</td>\n",
       "      <td>AIG</td>\n",
       "      <td>USA</td>\n",
       "      <td>GCP Big Query</td>\n",
       "      <td>858 TB</td>\n",
       "      <td>Looker</td>\n",
       "      <td>490</td>\n",
       "      <td>0.988</td>\n",
       "      <td>0</td>\n",
       "      <td>1</td>\n",
       "    </tr>\n",
       "    <tr>\n",
       "      <th>43</th>\n",
       "      <td>44</td>\n",
       "      <td>MetLife</td>\n",
       "      <td>USA</td>\n",
       "      <td>GCP Big Query</td>\n",
       "      <td>853 TB</td>\n",
       "      <td>Looker</td>\n",
       "      <td>948</td>\n",
       "      <td>0.984</td>\n",
       "      <td>1</td>\n",
       "      <td>1</td>\n",
       "    </tr>\n",
       "    <tr>\n",
       "      <th>29</th>\n",
       "      <td>30</td>\n",
       "      <td>Citigroup</td>\n",
       "      <td>USA</td>\n",
       "      <td>GCP Big Query</td>\n",
       "      <td>749 TB</td>\n",
       "      <td>Looker</td>\n",
       "      <td>702</td>\n",
       "      <td>0.974</td>\n",
       "      <td>0</td>\n",
       "      <td>1</td>\n",
       "    </tr>\n",
       "  </tbody>\n",
       "</table>\n",
       "</div>"
      ],
      "text/plain": [
       "    Sn          Companies Name Region Data Warehouse Cloud data storage size  \\\n",
       "4    5              Amazon.com    USA  GCP Big Query                  338 TB   \n",
       "69  70  Charter Communications    USA  GCP Big Query                  170 TB   \n",
       "65  66                     AIG    USA  GCP Big Query                  858 TB   \n",
       "43  44                 MetLife    USA  GCP Big Query                  853 TB   \n",
       "29  30               Citigroup    USA  GCP Big Query                  749 TB   \n",
       "\n",
       "   BI Tool Service Cost  propensity  Actual Class Decile  \n",
       "4   Looker        1500        0.998             1      1  \n",
       "69  Looker         618        0.996             1      1  \n",
       "65  Looker         490        0.988             0      1  \n",
       "43  Looker         948        0.984             1      1  \n",
       "29  Looker         702        0.974             0      1  "
      ]
     },
     "execution_count": 32,
     "metadata": {},
     "output_type": "execute_result"
    }
   ],
   "source": [
    "bc1[\"Service Cost\"] = bc1[\"Service Cost\"].apply(lambda x: x.replace(\"$\", \"\"))\n",
    "bc1.head()"
   ]
  },
  {
   "cell_type": "code",
   "execution_count": 33,
   "id": "73166709-4eab-441e-b0c5-ad68c134acbe",
   "metadata": {},
   "outputs": [],
   "source": [
    "bc1[\"Service Cost\"] = bc1[\"Service Cost\"].astype('int64')"
   ]
  },
  {
   "cell_type": "code",
   "execution_count": 34,
   "id": "884584b7-7aaa-4a02-b077-d03d34fa69f4",
   "metadata": {},
   "outputs": [
    {
     "data": {
      "text/html": [
       "<div>\n",
       "<style scoped>\n",
       "    .dataframe tbody tr th:only-of-type {\n",
       "        vertical-align: middle;\n",
       "    }\n",
       "\n",
       "    .dataframe tbody tr th {\n",
       "        vertical-align: top;\n",
       "    }\n",
       "\n",
       "    .dataframe thead th {\n",
       "        text-align: right;\n",
       "    }\n",
       "</style>\n",
       "<table border=\"1\" class=\"dataframe\">\n",
       "  <thead>\n",
       "    <tr style=\"text-align: right;\">\n",
       "      <th></th>\n",
       "      <th>Dd</th>\n",
       "    </tr>\n",
       "    <tr>\n",
       "      <th>Decile</th>\n",
       "      <th></th>\n",
       "    </tr>\n",
       "  </thead>\n",
       "  <tbody>\n",
       "    <tr>\n",
       "      <th>1</th>\n",
       "      <td>0.7</td>\n",
       "    </tr>\n",
       "    <tr>\n",
       "      <th>2</th>\n",
       "      <td>0.6</td>\n",
       "    </tr>\n",
       "    <tr>\n",
       "      <th>3</th>\n",
       "      <td>0.6</td>\n",
       "    </tr>\n",
       "    <tr>\n",
       "      <th>4</th>\n",
       "      <td>0.5</td>\n",
       "    </tr>\n",
       "    <tr>\n",
       "      <th>5</th>\n",
       "      <td>0.6</td>\n",
       "    </tr>\n",
       "  </tbody>\n",
       "</table>\n",
       "</div>"
      ],
      "text/plain": [
       "         Dd\n",
       "Decile     \n",
       "1       0.7\n",
       "2       0.6\n",
       "3       0.6\n",
       "4       0.5\n",
       "5       0.6"
      ]
     },
     "execution_count": 34,
     "metadata": {},
     "output_type": "execute_result"
    }
   ],
   "source": [
    "bc2=pd.DataFrame(bc1.groupby([\"Decile\"])[\"Actual Class\"].mean())\n",
    "bc2 = bc2.sort_index(ascending=False)\n",
    "bc2.rename(columns={\"Actual Class\":\"Dd\"},inplace=True)\n",
    "bc2.head()"
   ]
  },
  {
   "cell_type": "code",
   "execution_count": 35,
   "id": "479d7eb7-8700-4991-aa73-8352b2e5840f",
   "metadata": {},
   "outputs": [
    {
     "data": {
      "text/html": [
       "<div>\n",
       "<style scoped>\n",
       "    .dataframe tbody tr th:only-of-type {\n",
       "        vertical-align: middle;\n",
       "    }\n",
       "\n",
       "    .dataframe tbody tr th {\n",
       "        vertical-align: top;\n",
       "    }\n",
       "\n",
       "    .dataframe thead th {\n",
       "        text-align: right;\n",
       "    }\n",
       "</style>\n",
       "<table border=\"1\" class=\"dataframe\">\n",
       "  <thead>\n",
       "    <tr style=\"text-align: right;\">\n",
       "      <th></th>\n",
       "      <th>Dd</th>\n",
       "      <th>y1</th>\n",
       "    </tr>\n",
       "    <tr>\n",
       "      <th>Decile</th>\n",
       "      <th></th>\n",
       "      <th></th>\n",
       "    </tr>\n",
       "  </thead>\n",
       "  <tbody>\n",
       "    <tr>\n",
       "      <th>1</th>\n",
       "      <td>0.7</td>\n",
       "      <td>0.485714</td>\n",
       "    </tr>\n",
       "    <tr>\n",
       "      <th>2</th>\n",
       "      <td>0.6</td>\n",
       "      <td>0.485714</td>\n",
       "    </tr>\n",
       "    <tr>\n",
       "      <th>3</th>\n",
       "      <td>0.6</td>\n",
       "      <td>0.485714</td>\n",
       "    </tr>\n",
       "    <tr>\n",
       "      <th>4</th>\n",
       "      <td>0.5</td>\n",
       "      <td>0.485714</td>\n",
       "    </tr>\n",
       "    <tr>\n",
       "      <th>5</th>\n",
       "      <td>0.6</td>\n",
       "      <td>0.485714</td>\n",
       "    </tr>\n",
       "    <tr>\n",
       "      <th>6</th>\n",
       "      <td>0.3</td>\n",
       "      <td>0.485714</td>\n",
       "    </tr>\n",
       "    <tr>\n",
       "      <th>7</th>\n",
       "      <td>0.1</td>\n",
       "      <td>0.485714</td>\n",
       "    </tr>\n",
       "  </tbody>\n",
       "</table>\n",
       "</div>"
      ],
      "text/plain": [
       "         Dd        y1\n",
       "Decile               \n",
       "1       0.7  0.485714\n",
       "2       0.6  0.485714\n",
       "3       0.6  0.485714\n",
       "4       0.5  0.485714\n",
       "5       0.6  0.485714\n",
       "6       0.3  0.485714\n",
       "7       0.1  0.485714"
      ]
     },
     "execution_count": 35,
     "metadata": {},
     "output_type": "execute_result"
    }
   ],
   "source": [
    "bc2[\"y1\"]=bc1[\"Actual Class\"].mean()\n",
    "bc2"
   ]
  },
  {
   "cell_type": "code",
   "execution_count": 36,
   "id": "6b2a63b7-d63f-4ae0-8461-a1e03b7d0de1",
   "metadata": {},
   "outputs": [
    {
     "data": {
      "text/html": [
       "<div>\n",
       "<style scoped>\n",
       "    .dataframe tbody tr th:only-of-type {\n",
       "        vertical-align: middle;\n",
       "    }\n",
       "\n",
       "    .dataframe tbody tr th {\n",
       "        vertical-align: top;\n",
       "    }\n",
       "\n",
       "    .dataframe thead th {\n",
       "        text-align: right;\n",
       "    }\n",
       "</style>\n",
       "<table border=\"1\" class=\"dataframe\">\n",
       "  <thead>\n",
       "    <tr style=\"text-align: right;\">\n",
       "      <th></th>\n",
       "      <th>Dd</th>\n",
       "      <th>y1</th>\n",
       "      <th>Ld</th>\n",
       "    </tr>\n",
       "    <tr>\n",
       "      <th>Decile</th>\n",
       "      <th></th>\n",
       "      <th></th>\n",
       "      <th></th>\n",
       "    </tr>\n",
       "  </thead>\n",
       "  <tbody>\n",
       "    <tr>\n",
       "      <th>1</th>\n",
       "      <td>0.7</td>\n",
       "      <td>0.485714</td>\n",
       "      <td>1.441176</td>\n",
       "    </tr>\n",
       "    <tr>\n",
       "      <th>2</th>\n",
       "      <td>0.6</td>\n",
       "      <td>0.485714</td>\n",
       "      <td>1.235294</td>\n",
       "    </tr>\n",
       "    <tr>\n",
       "      <th>3</th>\n",
       "      <td>0.6</td>\n",
       "      <td>0.485714</td>\n",
       "      <td>1.235294</td>\n",
       "    </tr>\n",
       "    <tr>\n",
       "      <th>4</th>\n",
       "      <td>0.5</td>\n",
       "      <td>0.485714</td>\n",
       "      <td>1.029412</td>\n",
       "    </tr>\n",
       "    <tr>\n",
       "      <th>5</th>\n",
       "      <td>0.6</td>\n",
       "      <td>0.485714</td>\n",
       "      <td>1.235294</td>\n",
       "    </tr>\n",
       "    <tr>\n",
       "      <th>6</th>\n",
       "      <td>0.3</td>\n",
       "      <td>0.485714</td>\n",
       "      <td>0.617647</td>\n",
       "    </tr>\n",
       "    <tr>\n",
       "      <th>7</th>\n",
       "      <td>0.1</td>\n",
       "      <td>0.485714</td>\n",
       "      <td>0.205882</td>\n",
       "    </tr>\n",
       "  </tbody>\n",
       "</table>\n",
       "</div>"
      ],
      "text/plain": [
       "         Dd        y1        Ld\n",
       "Decile                         \n",
       "1       0.7  0.485714  1.441176\n",
       "2       0.6  0.485714  1.235294\n",
       "3       0.6  0.485714  1.235294\n",
       "4       0.5  0.485714  1.029412\n",
       "5       0.6  0.485714  1.235294\n",
       "6       0.3  0.485714  0.617647\n",
       "7       0.1  0.485714  0.205882"
      ]
     },
     "execution_count": 36,
     "metadata": {},
     "output_type": "execute_result"
    }
   ],
   "source": [
    "bc2[\"Ld\"] = bc2[\"Dd\"]/bc2[\"y1\"]\n",
    "bc2"
   ]
  },
  {
   "cell_type": "code",
   "execution_count": 37,
   "id": "27bc9c1e-d0d8-4a78-ad40-732b4cf18ae6",
   "metadata": {},
   "outputs": [
    {
     "data": {
      "application/vnd.plotly.v1+json": {
       "config": {
        "plotlyServerURL": "https://plot.ly"
       },
       "data": [
        {
         "alignmentgroup": "True",
         "hovertemplate": "Decile=%{x}<br>Ld=%{marker.color}<extra></extra>",
         "legendgroup": "",
         "marker": {
          "color": [
           1.4411764705882353,
           1.2352941176470589,
           1.2352941176470589,
           1.0294117647058825,
           1.2352941176470589,
           0.6176470588235294,
           0.2058823529411765
          ],
          "coloraxis": "coloraxis",
          "pattern": {
           "shape": ""
          }
         },
         "name": "",
         "offsetgroup": "",
         "orientation": "v",
         "showlegend": false,
         "textposition": "auto",
         "type": "bar",
         "x": [
          1,
          2,
          3,
          4,
          5,
          6,
          7
         ],
         "xaxis": "x",
         "y": [
          1.4411764705882353,
          1.2352941176470589,
          1.2352941176470589,
          1.0294117647058825,
          1.2352941176470589,
          0.6176470588235294,
          0.2058823529411765
         ],
         "yaxis": "y"
        }
       ],
       "layout": {
        "barmode": "relative",
        "coloraxis": {
         "colorbar": {
          "title": {
           "text": "Ld"
          }
         },
         "colorscale": [
          [
           0,
           "#0d0887"
          ],
          [
           0.1111111111111111,
           "#46039f"
          ],
          [
           0.2222222222222222,
           "#7201a8"
          ],
          [
           0.3333333333333333,
           "#9c179e"
          ],
          [
           0.4444444444444444,
           "#bd3786"
          ],
          [
           0.5555555555555556,
           "#d8576b"
          ],
          [
           0.6666666666666666,
           "#ed7953"
          ],
          [
           0.7777777777777778,
           "#fb9f3a"
          ],
          [
           0.8888888888888888,
           "#fdca26"
          ],
          [
           1,
           "#f0f921"
          ]
         ]
        },
        "height": 600,
        "legend": {
         "tracegroupgap": 0
        },
        "margin": {
         "t": 60
        },
        "shapes": [
         {
          "type": "line",
          "x0": 0,
          "x1": 1,
          "xref": "x domain",
          "y0": 1,
          "y1": 1,
          "yref": "y"
         }
        ],
        "template": {
         "data": {
          "bar": [
           {
            "error_x": {
             "color": "#2a3f5f"
            },
            "error_y": {
             "color": "#2a3f5f"
            },
            "marker": {
             "line": {
              "color": "#E5ECF6",
              "width": 0.5
             },
             "pattern": {
              "fillmode": "overlay",
              "size": 10,
              "solidity": 0.2
             }
            },
            "type": "bar"
           }
          ],
          "barpolar": [
           {
            "marker": {
             "line": {
              "color": "#E5ECF6",
              "width": 0.5
             },
             "pattern": {
              "fillmode": "overlay",
              "size": 10,
              "solidity": 0.2
             }
            },
            "type": "barpolar"
           }
          ],
          "carpet": [
           {
            "aaxis": {
             "endlinecolor": "#2a3f5f",
             "gridcolor": "white",
             "linecolor": "white",
             "minorgridcolor": "white",
             "startlinecolor": "#2a3f5f"
            },
            "baxis": {
             "endlinecolor": "#2a3f5f",
             "gridcolor": "white",
             "linecolor": "white",
             "minorgridcolor": "white",
             "startlinecolor": "#2a3f5f"
            },
            "type": "carpet"
           }
          ],
          "choropleth": [
           {
            "colorbar": {
             "outlinewidth": 0,
             "ticks": ""
            },
            "type": "choropleth"
           }
          ],
          "contour": [
           {
            "colorbar": {
             "outlinewidth": 0,
             "ticks": ""
            },
            "colorscale": [
             [
              0,
              "#0d0887"
             ],
             [
              0.1111111111111111,
              "#46039f"
             ],
             [
              0.2222222222222222,
              "#7201a8"
             ],
             [
              0.3333333333333333,
              "#9c179e"
             ],
             [
              0.4444444444444444,
              "#bd3786"
             ],
             [
              0.5555555555555556,
              "#d8576b"
             ],
             [
              0.6666666666666666,
              "#ed7953"
             ],
             [
              0.7777777777777778,
              "#fb9f3a"
             ],
             [
              0.8888888888888888,
              "#fdca26"
             ],
             [
              1,
              "#f0f921"
             ]
            ],
            "type": "contour"
           }
          ],
          "contourcarpet": [
           {
            "colorbar": {
             "outlinewidth": 0,
             "ticks": ""
            },
            "type": "contourcarpet"
           }
          ],
          "heatmap": [
           {
            "colorbar": {
             "outlinewidth": 0,
             "ticks": ""
            },
            "colorscale": [
             [
              0,
              "#0d0887"
             ],
             [
              0.1111111111111111,
              "#46039f"
             ],
             [
              0.2222222222222222,
              "#7201a8"
             ],
             [
              0.3333333333333333,
              "#9c179e"
             ],
             [
              0.4444444444444444,
              "#bd3786"
             ],
             [
              0.5555555555555556,
              "#d8576b"
             ],
             [
              0.6666666666666666,
              "#ed7953"
             ],
             [
              0.7777777777777778,
              "#fb9f3a"
             ],
             [
              0.8888888888888888,
              "#fdca26"
             ],
             [
              1,
              "#f0f921"
             ]
            ],
            "type": "heatmap"
           }
          ],
          "heatmapgl": [
           {
            "colorbar": {
             "outlinewidth": 0,
             "ticks": ""
            },
            "colorscale": [
             [
              0,
              "#0d0887"
             ],
             [
              0.1111111111111111,
              "#46039f"
             ],
             [
              0.2222222222222222,
              "#7201a8"
             ],
             [
              0.3333333333333333,
              "#9c179e"
             ],
             [
              0.4444444444444444,
              "#bd3786"
             ],
             [
              0.5555555555555556,
              "#d8576b"
             ],
             [
              0.6666666666666666,
              "#ed7953"
             ],
             [
              0.7777777777777778,
              "#fb9f3a"
             ],
             [
              0.8888888888888888,
              "#fdca26"
             ],
             [
              1,
              "#f0f921"
             ]
            ],
            "type": "heatmapgl"
           }
          ],
          "histogram": [
           {
            "marker": {
             "pattern": {
              "fillmode": "overlay",
              "size": 10,
              "solidity": 0.2
             }
            },
            "type": "histogram"
           }
          ],
          "histogram2d": [
           {
            "colorbar": {
             "outlinewidth": 0,
             "ticks": ""
            },
            "colorscale": [
             [
              0,
              "#0d0887"
             ],
             [
              0.1111111111111111,
              "#46039f"
             ],
             [
              0.2222222222222222,
              "#7201a8"
             ],
             [
              0.3333333333333333,
              "#9c179e"
             ],
             [
              0.4444444444444444,
              "#bd3786"
             ],
             [
              0.5555555555555556,
              "#d8576b"
             ],
             [
              0.6666666666666666,
              "#ed7953"
             ],
             [
              0.7777777777777778,
              "#fb9f3a"
             ],
             [
              0.8888888888888888,
              "#fdca26"
             ],
             [
              1,
              "#f0f921"
             ]
            ],
            "type": "histogram2d"
           }
          ],
          "histogram2dcontour": [
           {
            "colorbar": {
             "outlinewidth": 0,
             "ticks": ""
            },
            "colorscale": [
             [
              0,
              "#0d0887"
             ],
             [
              0.1111111111111111,
              "#46039f"
             ],
             [
              0.2222222222222222,
              "#7201a8"
             ],
             [
              0.3333333333333333,
              "#9c179e"
             ],
             [
              0.4444444444444444,
              "#bd3786"
             ],
             [
              0.5555555555555556,
              "#d8576b"
             ],
             [
              0.6666666666666666,
              "#ed7953"
             ],
             [
              0.7777777777777778,
              "#fb9f3a"
             ],
             [
              0.8888888888888888,
              "#fdca26"
             ],
             [
              1,
              "#f0f921"
             ]
            ],
            "type": "histogram2dcontour"
           }
          ],
          "mesh3d": [
           {
            "colorbar": {
             "outlinewidth": 0,
             "ticks": ""
            },
            "type": "mesh3d"
           }
          ],
          "parcoords": [
           {
            "line": {
             "colorbar": {
              "outlinewidth": 0,
              "ticks": ""
             }
            },
            "type": "parcoords"
           }
          ],
          "pie": [
           {
            "automargin": true,
            "type": "pie"
           }
          ],
          "scatter": [
           {
            "fillpattern": {
             "fillmode": "overlay",
             "size": 10,
             "solidity": 0.2
            },
            "type": "scatter"
           }
          ],
          "scatter3d": [
           {
            "line": {
             "colorbar": {
              "outlinewidth": 0,
              "ticks": ""
             }
            },
            "marker": {
             "colorbar": {
              "outlinewidth": 0,
              "ticks": ""
             }
            },
            "type": "scatter3d"
           }
          ],
          "scattercarpet": [
           {
            "marker": {
             "colorbar": {
              "outlinewidth": 0,
              "ticks": ""
             }
            },
            "type": "scattercarpet"
           }
          ],
          "scattergeo": [
           {
            "marker": {
             "colorbar": {
              "outlinewidth": 0,
              "ticks": ""
             }
            },
            "type": "scattergeo"
           }
          ],
          "scattergl": [
           {
            "marker": {
             "colorbar": {
              "outlinewidth": 0,
              "ticks": ""
             }
            },
            "type": "scattergl"
           }
          ],
          "scattermapbox": [
           {
            "marker": {
             "colorbar": {
              "outlinewidth": 0,
              "ticks": ""
             }
            },
            "type": "scattermapbox"
           }
          ],
          "scatterpolar": [
           {
            "marker": {
             "colorbar": {
              "outlinewidth": 0,
              "ticks": ""
             }
            },
            "type": "scatterpolar"
           }
          ],
          "scatterpolargl": [
           {
            "marker": {
             "colorbar": {
              "outlinewidth": 0,
              "ticks": ""
             }
            },
            "type": "scatterpolargl"
           }
          ],
          "scatterternary": [
           {
            "marker": {
             "colorbar": {
              "outlinewidth": 0,
              "ticks": ""
             }
            },
            "type": "scatterternary"
           }
          ],
          "surface": [
           {
            "colorbar": {
             "outlinewidth": 0,
             "ticks": ""
            },
            "colorscale": [
             [
              0,
              "#0d0887"
             ],
             [
              0.1111111111111111,
              "#46039f"
             ],
             [
              0.2222222222222222,
              "#7201a8"
             ],
             [
              0.3333333333333333,
              "#9c179e"
             ],
             [
              0.4444444444444444,
              "#bd3786"
             ],
             [
              0.5555555555555556,
              "#d8576b"
             ],
             [
              0.6666666666666666,
              "#ed7953"
             ],
             [
              0.7777777777777778,
              "#fb9f3a"
             ],
             [
              0.8888888888888888,
              "#fdca26"
             ],
             [
              1,
              "#f0f921"
             ]
            ],
            "type": "surface"
           }
          ],
          "table": [
           {
            "cells": {
             "fill": {
              "color": "#EBF0F8"
             },
             "line": {
              "color": "white"
             }
            },
            "header": {
             "fill": {
              "color": "#C8D4E3"
             },
             "line": {
              "color": "white"
             }
            },
            "type": "table"
           }
          ]
         },
         "layout": {
          "annotationdefaults": {
           "arrowcolor": "#2a3f5f",
           "arrowhead": 0,
           "arrowwidth": 1
          },
          "autotypenumbers": "strict",
          "coloraxis": {
           "colorbar": {
            "outlinewidth": 0,
            "ticks": ""
           }
          },
          "colorscale": {
           "diverging": [
            [
             0,
             "#8e0152"
            ],
            [
             0.1,
             "#c51b7d"
            ],
            [
             0.2,
             "#de77ae"
            ],
            [
             0.3,
             "#f1b6da"
            ],
            [
             0.4,
             "#fde0ef"
            ],
            [
             0.5,
             "#f7f7f7"
            ],
            [
             0.6,
             "#e6f5d0"
            ],
            [
             0.7,
             "#b8e186"
            ],
            [
             0.8,
             "#7fbc41"
            ],
            [
             0.9,
             "#4d9221"
            ],
            [
             1,
             "#276419"
            ]
           ],
           "sequential": [
            [
             0,
             "#0d0887"
            ],
            [
             0.1111111111111111,
             "#46039f"
            ],
            [
             0.2222222222222222,
             "#7201a8"
            ],
            [
             0.3333333333333333,
             "#9c179e"
            ],
            [
             0.4444444444444444,
             "#bd3786"
            ],
            [
             0.5555555555555556,
             "#d8576b"
            ],
            [
             0.6666666666666666,
             "#ed7953"
            ],
            [
             0.7777777777777778,
             "#fb9f3a"
            ],
            [
             0.8888888888888888,
             "#fdca26"
            ],
            [
             1,
             "#f0f921"
            ]
           ],
           "sequentialminus": [
            [
             0,
             "#0d0887"
            ],
            [
             0.1111111111111111,
             "#46039f"
            ],
            [
             0.2222222222222222,
             "#7201a8"
            ],
            [
             0.3333333333333333,
             "#9c179e"
            ],
            [
             0.4444444444444444,
             "#bd3786"
            ],
            [
             0.5555555555555556,
             "#d8576b"
            ],
            [
             0.6666666666666666,
             "#ed7953"
            ],
            [
             0.7777777777777778,
             "#fb9f3a"
            ],
            [
             0.8888888888888888,
             "#fdca26"
            ],
            [
             1,
             "#f0f921"
            ]
           ]
          },
          "colorway": [
           "#636efa",
           "#EF553B",
           "#00cc96",
           "#ab63fa",
           "#FFA15A",
           "#19d3f3",
           "#FF6692",
           "#B6E880",
           "#FF97FF",
           "#FECB52"
          ],
          "font": {
           "color": "#2a3f5f"
          },
          "geo": {
           "bgcolor": "white",
           "lakecolor": "white",
           "landcolor": "#E5ECF6",
           "showlakes": true,
           "showland": true,
           "subunitcolor": "white"
          },
          "hoverlabel": {
           "align": "left"
          },
          "hovermode": "closest",
          "mapbox": {
           "style": "light"
          },
          "paper_bgcolor": "white",
          "plot_bgcolor": "#E5ECF6",
          "polar": {
           "angularaxis": {
            "gridcolor": "white",
            "linecolor": "white",
            "ticks": ""
           },
           "bgcolor": "#E5ECF6",
           "radialaxis": {
            "gridcolor": "white",
            "linecolor": "white",
            "ticks": ""
           }
          },
          "scene": {
           "xaxis": {
            "backgroundcolor": "#E5ECF6",
            "gridcolor": "white",
            "gridwidth": 2,
            "linecolor": "white",
            "showbackground": true,
            "ticks": "",
            "zerolinecolor": "white"
           },
           "yaxis": {
            "backgroundcolor": "#E5ECF6",
            "gridcolor": "white",
            "gridwidth": 2,
            "linecolor": "white",
            "showbackground": true,
            "ticks": "",
            "zerolinecolor": "white"
           },
           "zaxis": {
            "backgroundcolor": "#E5ECF6",
            "gridcolor": "white",
            "gridwidth": 2,
            "linecolor": "white",
            "showbackground": true,
            "ticks": "",
            "zerolinecolor": "white"
           }
          },
          "shapedefaults": {
           "line": {
            "color": "#2a3f5f"
           }
          },
          "ternary": {
           "aaxis": {
            "gridcolor": "white",
            "linecolor": "white",
            "ticks": ""
           },
           "baxis": {
            "gridcolor": "white",
            "linecolor": "white",
            "ticks": ""
           },
           "bgcolor": "#E5ECF6",
           "caxis": {
            "gridcolor": "white",
            "linecolor": "white",
            "ticks": ""
           }
          },
          "title": {
           "x": 0.05
          },
          "xaxis": {
           "automargin": true,
           "gridcolor": "white",
           "linecolor": "white",
           "ticks": "",
           "title": {
            "standoff": 15
           },
           "zerolinecolor": "white",
           "zerolinewidth": 2
          },
          "yaxis": {
           "automargin": true,
           "gridcolor": "white",
           "linecolor": "white",
           "ticks": "",
           "title": {
            "standoff": 15
           },
           "zerolinecolor": "white",
           "zerolinewidth": 2
          }
         }
        },
        "title": {
         "text": "Decile Chart"
        },
        "width": 800,
        "xaxis": {
         "anchor": "y",
         "domain": [
          0,
          1
         ],
         "title": {
          "text": "Decile"
         }
        },
        "yaxis": {
         "anchor": "x",
         "domain": [
          0,
          1
         ],
         "title": {
          "text": "Ld"
         }
        }
       }
      }
     },
     "metadata": {},
     "output_type": "display_data"
    }
   ],
   "source": [
    "fig = px.bar(bc2, x=bc2.index, y='Ld', color='Ld')\n",
    "fig.add_hline(y=1)\n",
    "fig.update_layout(height=600, width=800, title_text='Decile Chart')\n",
    "fig.show()"
   ]
  },
  {
   "cell_type": "code",
   "execution_count": 38,
   "id": "b4714ae9-794b-445e-aa89-231d9161b126",
   "metadata": {},
   "outputs": [
    {
     "data": {
      "text/html": [
       "<div>\n",
       "<style scoped>\n",
       "    .dataframe tbody tr th:only-of-type {\n",
       "        vertical-align: middle;\n",
       "    }\n",
       "\n",
       "    .dataframe tbody tr th {\n",
       "        vertical-align: top;\n",
       "    }\n",
       "\n",
       "    .dataframe thead th {\n",
       "        text-align: right;\n",
       "    }\n",
       "</style>\n",
       "<table border=\"1\" class=\"dataframe\">\n",
       "  <thead>\n",
       "    <tr style=\"text-align: right;\">\n",
       "      <th></th>\n",
       "      <th>Sn</th>\n",
       "      <th>Companies Name</th>\n",
       "      <th>Region</th>\n",
       "      <th>Data Warehouse</th>\n",
       "      <th>Cloud data storage size</th>\n",
       "      <th>BI Tool</th>\n",
       "      <th>Service Cost</th>\n",
       "      <th>propensity</th>\n",
       "      <th>Actual Class</th>\n",
       "      <th>Decile</th>\n",
       "    </tr>\n",
       "  </thead>\n",
       "  <tbody>\n",
       "    <tr>\n",
       "      <th>4</th>\n",
       "      <td>5</td>\n",
       "      <td>Amazon.com</td>\n",
       "      <td>USA</td>\n",
       "      <td>GCP Big Query</td>\n",
       "      <td>338 TB</td>\n",
       "      <td>Looker</td>\n",
       "      <td>1500</td>\n",
       "      <td>0.998</td>\n",
       "      <td>1</td>\n",
       "      <td>1</td>\n",
       "    </tr>\n",
       "    <tr>\n",
       "      <th>69</th>\n",
       "      <td>70</td>\n",
       "      <td>Charter Communications</td>\n",
       "      <td>USA</td>\n",
       "      <td>GCP Big Query</td>\n",
       "      <td>170 TB</td>\n",
       "      <td>Looker</td>\n",
       "      <td>618</td>\n",
       "      <td>0.996</td>\n",
       "      <td>1</td>\n",
       "      <td>1</td>\n",
       "    </tr>\n",
       "    <tr>\n",
       "      <th>65</th>\n",
       "      <td>66</td>\n",
       "      <td>AIG</td>\n",
       "      <td>USA</td>\n",
       "      <td>GCP Big Query</td>\n",
       "      <td>858 TB</td>\n",
       "      <td>Looker</td>\n",
       "      <td>490</td>\n",
       "      <td>0.988</td>\n",
       "      <td>0</td>\n",
       "      <td>1</td>\n",
       "    </tr>\n",
       "    <tr>\n",
       "      <th>43</th>\n",
       "      <td>44</td>\n",
       "      <td>MetLife</td>\n",
       "      <td>USA</td>\n",
       "      <td>GCP Big Query</td>\n",
       "      <td>853 TB</td>\n",
       "      <td>Looker</td>\n",
       "      <td>948</td>\n",
       "      <td>0.984</td>\n",
       "      <td>1</td>\n",
       "      <td>1</td>\n",
       "    </tr>\n",
       "    <tr>\n",
       "      <th>29</th>\n",
       "      <td>30</td>\n",
       "      <td>Citigroup</td>\n",
       "      <td>USA</td>\n",
       "      <td>GCP Big Query</td>\n",
       "      <td>749 TB</td>\n",
       "      <td>Looker</td>\n",
       "      <td>702</td>\n",
       "      <td>0.974</td>\n",
       "      <td>0</td>\n",
       "      <td>1</td>\n",
       "    </tr>\n",
       "    <tr>\n",
       "      <th>47</th>\n",
       "      <td>48</td>\n",
       "      <td>PepsiCo</td>\n",
       "      <td>USA</td>\n",
       "      <td>GCP Big Query</td>\n",
       "      <td>332 TB</td>\n",
       "      <td>Looker</td>\n",
       "      <td>827</td>\n",
       "      <td>0.963</td>\n",
       "      <td>1</td>\n",
       "      <td>1</td>\n",
       "    </tr>\n",
       "    <tr>\n",
       "      <th>24</th>\n",
       "      <td>25</td>\n",
       "      <td>Bank of America</td>\n",
       "      <td>USA</td>\n",
       "      <td>GCP Big Query</td>\n",
       "      <td>224 TB</td>\n",
       "      <td>Looker</td>\n",
       "      <td>1000</td>\n",
       "      <td>0.963</td>\n",
       "      <td>1</td>\n",
       "      <td>1</td>\n",
       "    </tr>\n",
       "    <tr>\n",
       "      <th>62</th>\n",
       "      <td>63</td>\n",
       "      <td>Morgan Stanley</td>\n",
       "      <td>USA</td>\n",
       "      <td>GCP Big Query</td>\n",
       "      <td>38 TB</td>\n",
       "      <td>Looker</td>\n",
       "      <td>644</td>\n",
       "      <td>0.949</td>\n",
       "      <td>0</td>\n",
       "      <td>1</td>\n",
       "    </tr>\n",
       "    <tr>\n",
       "      <th>11</th>\n",
       "      <td>12</td>\n",
       "      <td>Ford Motor</td>\n",
       "      <td>USA</td>\n",
       "      <td>GCP Big Query</td>\n",
       "      <td>532 TB</td>\n",
       "      <td>Looker</td>\n",
       "      <td>953</td>\n",
       "      <td>0.913</td>\n",
       "      <td>1</td>\n",
       "      <td>1</td>\n",
       "    </tr>\n",
       "    <tr>\n",
       "      <th>26</th>\n",
       "      <td>27</td>\n",
       "      <td>Home Depot</td>\n",
       "      <td>USA</td>\n",
       "      <td>GCP Big Query</td>\n",
       "      <td>463 TB</td>\n",
       "      <td>Data Studio</td>\n",
       "      <td>525</td>\n",
       "      <td>0.910</td>\n",
       "      <td>1</td>\n",
       "      <td>1</td>\n",
       "    </tr>\n",
       "  </tbody>\n",
       "</table>\n",
       "</div>"
      ],
      "text/plain": [
       "    Sn          Companies Name Region Data Warehouse Cloud data storage size  \\\n",
       "4    5              Amazon.com    USA  GCP Big Query                  338 TB   \n",
       "69  70  Charter Communications    USA  GCP Big Query                  170 TB   \n",
       "65  66                     AIG    USA  GCP Big Query                  858 TB   \n",
       "43  44                 MetLife    USA  GCP Big Query                  853 TB   \n",
       "29  30               Citigroup    USA  GCP Big Query                  749 TB   \n",
       "47  48                 PepsiCo    USA  GCP Big Query                  332 TB   \n",
       "24  25         Bank of America    USA  GCP Big Query                  224 TB   \n",
       "62  63          Morgan Stanley    USA  GCP Big Query                   38 TB   \n",
       "11  12              Ford Motor    USA  GCP Big Query                  532 TB   \n",
       "26  27              Home Depot    USA  GCP Big Query                  463 TB   \n",
       "\n",
       "        BI Tool  Service Cost  propensity  Actual Class Decile  \n",
       "4        Looker          1500       0.998             1      1  \n",
       "69       Looker           618       0.996             1      1  \n",
       "65       Looker           490       0.988             0      1  \n",
       "43       Looker           948       0.984             1      1  \n",
       "29       Looker           702       0.974             0      1  \n",
       "47       Looker           827       0.963             1      1  \n",
       "24       Looker          1000       0.963             1      1  \n",
       "62       Looker           644       0.949             0      1  \n",
       "11       Looker           953       0.913             1      1  \n",
       "26  Data Studio           525       0.910             1      1  "
      ]
     },
     "execution_count": 38,
     "metadata": {},
     "output_type": "execute_result"
    }
   ],
   "source": [
    "bc1[bc1[\"Decile\"]==1]"
   ]
  },
  {
   "attachments": {},
   "cell_type": "markdown",
   "id": "746dd8a2-ad56-4974-8f7d-5892ea9e3bd2",
   "metadata": {},
   "source": [
    "From this we can see that the clients they are to reach out to following clients\n",
    "- Amazon.com\n",
    "- Charter Communications\n",
    "- AIG\n",
    "- MetLife\n",
    "- Citigroup\n",
    "- PepsiCo\n",
    "- Bank of America\n",
    "- Morgan Stanley\t\n",
    "- Ford Motor\t\n",
    "- Home Depot\n",
    "because by following the recommendation we get lift of 1.44"
   ]
  },
  {
   "attachments": {},
   "cell_type": "markdown",
   "id": "aec700f6-231a-48fe-8483-9fe5fa5572f3",
   "metadata": {},
   "source": [
    "c) The top recommended company by the model belongs to USA and using GCP Big Query and Looker BI Tool majorly and with an average cloud data storage size of more than 500TB"
   ]
  }
 ],
 "metadata": {
  "kernelspec": {
   "display_name": "Python 3 (ipykernel)",
   "language": "python",
   "name": "python3"
  },
  "language_info": {
   "codemirror_mode": {
    "name": "ipython",
    "version": 3
   },
   "file_extension": ".py",
   "mimetype": "text/x-python",
   "name": "python",
   "nbconvert_exporter": "python",
   "pygments_lexer": "ipython3",
   "version": "3.9.13"
  }
 },
 "nbformat": 4,
 "nbformat_minor": 5
}
