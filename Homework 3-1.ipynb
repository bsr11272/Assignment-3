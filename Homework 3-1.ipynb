{
 "cells": [
  {
   "cell_type": "code",
   "execution_count": 3,
   "id": "f89aac65-b88d-451c-b09d-f09666a05c72",
   "metadata": {},
   "outputs": [],
   "source": [
    "import pandas as pd\n",
    "import numpy as np\n",
    "import os\n",
    "import seaborn as sns\n",
    "import matplotlib.pyplot as plt\n",
    "import plotly.express as px\n",
    "import math"
   ]
  },
  {
   "cell_type": "code",
   "execution_count": 4,
   "id": "9d43eae8-f840-4317-98a9-e6487c46e363",
   "metadata": {},
   "outputs": [],
   "source": [
    "os.chdir('C:\\\\Users\\\\DELL\\\\Documents\\\\Semester_2\\\\DMA\\\\Homework 3')"
   ]
  },
  {
   "cell_type": "code",
   "execution_count": 5,
   "id": "861a4519-20df-460d-80e5-a070197c2030",
   "metadata": {},
   "outputs": [
    {
     "ename": "FileNotFoundError",
     "evalue": "[Errno 2] No such file or directory: 'sub-variant.xlsx'",
     "output_type": "error",
     "traceback": [
      "\u001b[1;31m---------------------------------------------------------------------------\u001b[0m",
      "\u001b[1;31mFileNotFoundError\u001b[0m                         Traceback (most recent call last)",
      "Input \u001b[1;32mIn [5]\u001b[0m, in \u001b[0;36m<cell line: 1>\u001b[1;34m()\u001b[0m\n\u001b[1;32m----> 1\u001b[0m df \u001b[38;5;241m=\u001b[39m \u001b[43mpd\u001b[49m\u001b[38;5;241;43m.\u001b[39;49m\u001b[43mread_excel\u001b[49m\u001b[43m(\u001b[49m\u001b[38;5;124;43m\"\u001b[39;49m\u001b[38;5;124;43msub-variant.xlsx\u001b[39;49m\u001b[38;5;124;43m\"\u001b[39;49m\u001b[43m)\u001b[49m\n\u001b[0;32m      2\u001b[0m df\u001b[38;5;241m.\u001b[39mhead()\n",
      "File \u001b[1;32m~\\anaconda3\\lib\\site-packages\\pandas\\util\\_decorators.py:311\u001b[0m, in \u001b[0;36mdeprecate_nonkeyword_arguments.<locals>.decorate.<locals>.wrapper\u001b[1;34m(*args, **kwargs)\u001b[0m\n\u001b[0;32m    305\u001b[0m \u001b[38;5;28;01mif\u001b[39;00m \u001b[38;5;28mlen\u001b[39m(args) \u001b[38;5;241m>\u001b[39m num_allow_args:\n\u001b[0;32m    306\u001b[0m     warnings\u001b[38;5;241m.\u001b[39mwarn(\n\u001b[0;32m    307\u001b[0m         msg\u001b[38;5;241m.\u001b[39mformat(arguments\u001b[38;5;241m=\u001b[39marguments),\n\u001b[0;32m    308\u001b[0m         \u001b[38;5;167;01mFutureWarning\u001b[39;00m,\n\u001b[0;32m    309\u001b[0m         stacklevel\u001b[38;5;241m=\u001b[39mstacklevel,\n\u001b[0;32m    310\u001b[0m     )\n\u001b[1;32m--> 311\u001b[0m \u001b[38;5;28;01mreturn\u001b[39;00m func(\u001b[38;5;241m*\u001b[39margs, \u001b[38;5;241m*\u001b[39m\u001b[38;5;241m*\u001b[39mkwargs)\n",
      "File \u001b[1;32m~\\anaconda3\\lib\\site-packages\\pandas\\io\\excel\\_base.py:457\u001b[0m, in \u001b[0;36mread_excel\u001b[1;34m(io, sheet_name, header, names, index_col, usecols, squeeze, dtype, engine, converters, true_values, false_values, skiprows, nrows, na_values, keep_default_na, na_filter, verbose, parse_dates, date_parser, thousands, decimal, comment, skipfooter, convert_float, mangle_dupe_cols, storage_options)\u001b[0m\n\u001b[0;32m    455\u001b[0m \u001b[38;5;28;01mif\u001b[39;00m \u001b[38;5;129;01mnot\u001b[39;00m \u001b[38;5;28misinstance\u001b[39m(io, ExcelFile):\n\u001b[0;32m    456\u001b[0m     should_close \u001b[38;5;241m=\u001b[39m \u001b[38;5;28;01mTrue\u001b[39;00m\n\u001b[1;32m--> 457\u001b[0m     io \u001b[38;5;241m=\u001b[39m \u001b[43mExcelFile\u001b[49m\u001b[43m(\u001b[49m\u001b[43mio\u001b[49m\u001b[43m,\u001b[49m\u001b[43m \u001b[49m\u001b[43mstorage_options\u001b[49m\u001b[38;5;241;43m=\u001b[39;49m\u001b[43mstorage_options\u001b[49m\u001b[43m,\u001b[49m\u001b[43m \u001b[49m\u001b[43mengine\u001b[49m\u001b[38;5;241;43m=\u001b[39;49m\u001b[43mengine\u001b[49m\u001b[43m)\u001b[49m\n\u001b[0;32m    458\u001b[0m \u001b[38;5;28;01melif\u001b[39;00m engine \u001b[38;5;129;01mand\u001b[39;00m engine \u001b[38;5;241m!=\u001b[39m io\u001b[38;5;241m.\u001b[39mengine:\n\u001b[0;32m    459\u001b[0m     \u001b[38;5;28;01mraise\u001b[39;00m \u001b[38;5;167;01mValueError\u001b[39;00m(\n\u001b[0;32m    460\u001b[0m         \u001b[38;5;124m\"\u001b[39m\u001b[38;5;124mEngine should not be specified when passing \u001b[39m\u001b[38;5;124m\"\u001b[39m\n\u001b[0;32m    461\u001b[0m         \u001b[38;5;124m\"\u001b[39m\u001b[38;5;124man ExcelFile - ExcelFile already has the engine set\u001b[39m\u001b[38;5;124m\"\u001b[39m\n\u001b[0;32m    462\u001b[0m     )\n",
      "File \u001b[1;32m~\\anaconda3\\lib\\site-packages\\pandas\\io\\excel\\_base.py:1376\u001b[0m, in \u001b[0;36mExcelFile.__init__\u001b[1;34m(self, path_or_buffer, engine, storage_options)\u001b[0m\n\u001b[0;32m   1374\u001b[0m     ext \u001b[38;5;241m=\u001b[39m \u001b[38;5;124m\"\u001b[39m\u001b[38;5;124mxls\u001b[39m\u001b[38;5;124m\"\u001b[39m\n\u001b[0;32m   1375\u001b[0m \u001b[38;5;28;01melse\u001b[39;00m:\n\u001b[1;32m-> 1376\u001b[0m     ext \u001b[38;5;241m=\u001b[39m \u001b[43minspect_excel_format\u001b[49m\u001b[43m(\u001b[49m\n\u001b[0;32m   1377\u001b[0m \u001b[43m        \u001b[49m\u001b[43mcontent_or_path\u001b[49m\u001b[38;5;241;43m=\u001b[39;49m\u001b[43mpath_or_buffer\u001b[49m\u001b[43m,\u001b[49m\u001b[43m \u001b[49m\u001b[43mstorage_options\u001b[49m\u001b[38;5;241;43m=\u001b[39;49m\u001b[43mstorage_options\u001b[49m\n\u001b[0;32m   1378\u001b[0m \u001b[43m    \u001b[49m\u001b[43m)\u001b[49m\n\u001b[0;32m   1379\u001b[0m     \u001b[38;5;28;01mif\u001b[39;00m ext \u001b[38;5;129;01mis\u001b[39;00m \u001b[38;5;28;01mNone\u001b[39;00m:\n\u001b[0;32m   1380\u001b[0m         \u001b[38;5;28;01mraise\u001b[39;00m \u001b[38;5;167;01mValueError\u001b[39;00m(\n\u001b[0;32m   1381\u001b[0m             \u001b[38;5;124m\"\u001b[39m\u001b[38;5;124mExcel file format cannot be determined, you must specify \u001b[39m\u001b[38;5;124m\"\u001b[39m\n\u001b[0;32m   1382\u001b[0m             \u001b[38;5;124m\"\u001b[39m\u001b[38;5;124man engine manually.\u001b[39m\u001b[38;5;124m\"\u001b[39m\n\u001b[0;32m   1383\u001b[0m         )\n",
      "File \u001b[1;32m~\\anaconda3\\lib\\site-packages\\pandas\\io\\excel\\_base.py:1250\u001b[0m, in \u001b[0;36minspect_excel_format\u001b[1;34m(content_or_path, storage_options)\u001b[0m\n\u001b[0;32m   1247\u001b[0m \u001b[38;5;28;01mif\u001b[39;00m \u001b[38;5;28misinstance\u001b[39m(content_or_path, \u001b[38;5;28mbytes\u001b[39m):\n\u001b[0;32m   1248\u001b[0m     content_or_path \u001b[38;5;241m=\u001b[39m BytesIO(content_or_path)\n\u001b[1;32m-> 1250\u001b[0m \u001b[38;5;28;01mwith\u001b[39;00m \u001b[43mget_handle\u001b[49m\u001b[43m(\u001b[49m\n\u001b[0;32m   1251\u001b[0m \u001b[43m    \u001b[49m\u001b[43mcontent_or_path\u001b[49m\u001b[43m,\u001b[49m\u001b[43m \u001b[49m\u001b[38;5;124;43m\"\u001b[39;49m\u001b[38;5;124;43mrb\u001b[39;49m\u001b[38;5;124;43m\"\u001b[39;49m\u001b[43m,\u001b[49m\u001b[43m \u001b[49m\u001b[43mstorage_options\u001b[49m\u001b[38;5;241;43m=\u001b[39;49m\u001b[43mstorage_options\u001b[49m\u001b[43m,\u001b[49m\u001b[43m \u001b[49m\u001b[43mis_text\u001b[49m\u001b[38;5;241;43m=\u001b[39;49m\u001b[38;5;28;43;01mFalse\u001b[39;49;00m\n\u001b[0;32m   1252\u001b[0m \u001b[43m\u001b[49m\u001b[43m)\u001b[49m \u001b[38;5;28;01mas\u001b[39;00m handle:\n\u001b[0;32m   1253\u001b[0m     stream \u001b[38;5;241m=\u001b[39m handle\u001b[38;5;241m.\u001b[39mhandle\n\u001b[0;32m   1254\u001b[0m     stream\u001b[38;5;241m.\u001b[39mseek(\u001b[38;5;241m0\u001b[39m)\n",
      "File \u001b[1;32m~\\anaconda3\\lib\\site-packages\\pandas\\io\\common.py:798\u001b[0m, in \u001b[0;36mget_handle\u001b[1;34m(path_or_buf, mode, encoding, compression, memory_map, is_text, errors, storage_options)\u001b[0m\n\u001b[0;32m    789\u001b[0m         handle \u001b[38;5;241m=\u001b[39m \u001b[38;5;28mopen\u001b[39m(\n\u001b[0;32m    790\u001b[0m             handle,\n\u001b[0;32m    791\u001b[0m             ioargs\u001b[38;5;241m.\u001b[39mmode,\n\u001b[1;32m   (...)\u001b[0m\n\u001b[0;32m    794\u001b[0m             newline\u001b[38;5;241m=\u001b[39m\u001b[38;5;124m\"\u001b[39m\u001b[38;5;124m\"\u001b[39m,\n\u001b[0;32m    795\u001b[0m         )\n\u001b[0;32m    796\u001b[0m     \u001b[38;5;28;01melse\u001b[39;00m:\n\u001b[0;32m    797\u001b[0m         \u001b[38;5;66;03m# Binary mode\u001b[39;00m\n\u001b[1;32m--> 798\u001b[0m         handle \u001b[38;5;241m=\u001b[39m \u001b[38;5;28;43mopen\u001b[39;49m\u001b[43m(\u001b[49m\u001b[43mhandle\u001b[49m\u001b[43m,\u001b[49m\u001b[43m \u001b[49m\u001b[43mioargs\u001b[49m\u001b[38;5;241;43m.\u001b[39;49m\u001b[43mmode\u001b[49m\u001b[43m)\u001b[49m\n\u001b[0;32m    799\u001b[0m     handles\u001b[38;5;241m.\u001b[39mappend(handle)\n\u001b[0;32m    801\u001b[0m \u001b[38;5;66;03m# Convert BytesIO or file objects passed with an encoding\u001b[39;00m\n",
      "\u001b[1;31mFileNotFoundError\u001b[0m: [Errno 2] No such file or directory: 'sub-variant.xlsx'"
     ]
    }
   ],
   "source": [
    "df = pd.read_excel(\"sub-variant.xlsx\")\n",
    "df.head()"
   ]
  },
  {
   "cell_type": "code",
   "execution_count": null,
   "id": "4e3f5166-bfc9-4bc6-aa3e-babcd09bffac",
   "metadata": {},
   "outputs": [],
   "source": [
    "df[\"Actual Class\"].unique()"
   ]
  },
  {
   "cell_type": "code",
   "execution_count": null,
   "id": "2b9ed57e-631a-4474-91c9-b8cdc9af0b94",
   "metadata": {},
   "outputs": [],
   "source": [
    "df['Actual Class'] = df['Actual Class'].map({'O': 0, 'NV': 1})\n",
    "df.rename(columns = {'Probability of New Variant (NV) from the testing laboratory':'propensity'}, inplace = True)\n",
    "df = df.sort_values(by = \"propensity\",axis=0, ascending=False)\n",
    "df.head()"
   ]
  },
  {
   "cell_type": "code",
   "execution_count": null,
   "id": "730c8d17-e5f0-4055-b7ef-12a1675f7229",
   "metadata": {},
   "outputs": [],
   "source": [
    "def Classification_Metrics(df,p):\n",
    "    df1 = df[df[\"propensity\"]>p]\n",
    "    df2 = df[df[\"propensity\"]<p]\n",
    "    n11 = df1[df1[\"Actual Class\"]==1][\"Actual Class\"].count()\n",
    "    #print(\"n11 \", n11)\n",
    "    n21 = df1[df1[\"Actual Class\"]==0][\"Actual Class\"].count()\n",
    "    #print(\"n21 \", n21)\n",
    "    n22 = df2[df2[\"Actual Class\"]==0][\"Actual Class\"].count()\n",
    "    #print(\"n22 \", n22)\n",
    "    n12 = df2[df2[\"Actual Class\"]==1][\"Actual Class\"].count()\n",
    "    #print(\"n12 \", n12)\n",
    "    F1 = 2*n11/(2*n11+n21+n12)\n",
    "    MCC = MCC_Cal(n11,n12,n21,n22)\n",
    "    #MCC = ((n11*n22)-(n21*n12))/math.sqrt((n11+n21)*(n11+n12)*(n21+n22)*(n12+n22))\n",
    "    #print(\"F1 \", F1)\n",
    "    #print(\"MCC \", MCC)\n",
    "    sensitivity = n11/(n11+n12)\n",
    "    specificity = 1 - (n22/(n21+n22))\n",
    "    return sensitivity,specificity,F1,MCC"
   ]
  },
  {
   "cell_type": "code",
   "execution_count": null,
   "id": "118761fb-706e-4c5d-bb13-83216aaa67f5",
   "metadata": {},
   "outputs": [],
   "source": [
    "def MCC_Cal(TP,FN,FP,TN):\n",
    "    if TP == 0 and FP == 0:\n",
    "        if FN == 0 and TN != 0:\n",
    "            MCC = 1\n",
    "        elif FN != 0 and TN != 0:\n",
    "            MCC = 0\n",
    "        else:\n",
    "            MCC = -1\n",
    "    elif TP == 0 and FN == 0:\n",
    "        if FP == 0 and TN != 0:\n",
    "            MCC = 1\n",
    "        elif FP != 0 and TN != 0:\n",
    "            MCC = 0\n",
    "        else:\n",
    "            MCC = -1\n",
    "    elif TN == 0 and FP == 0:\n",
    "        if TP != 0 and FN == 0:\n",
    "            MCC = 1\n",
    "        elif TP != 0 and FN != 0:\n",
    "            MCC = 0\n",
    "        else:\n",
    "            MCC = -1\n",
    "    elif TN == 0 and FN == 0:\n",
    "        if TP != 0 and FP == 0:\n",
    "            MCC = 1\n",
    "        elif TP != 0 and FP != 0:\n",
    "            MCC = 0\n",
    "        else:\n",
    "            MCC = -1\n",
    "    else:\n",
    "        MCC = ((TP*TN)-(FP*FN))/math.sqrt((TP+FP)*(TP+FN)*(FP+TN)*(FN+TN))\n",
    "    return MCC\n",
    "        "
   ]
  },
  {
   "cell_type": "code",
   "execution_count": null,
   "id": "059db48d-e545-4f46-97c9-849a9a10cad1",
   "metadata": {},
   "outputs": [],
   "source": [
    "pro=[0,0.2,0.4,0.5,0.6,0.8,1]\n",
    "sensitivity = []\n",
    "specificity = []\n",
    "F1_Score = []\n",
    "MCC = []\n",
    "for p in pro:\n",
    "    a,b,c,d = Classification_Metrics(df,p)\n",
    "    sensitivity.append(a)\n",
    "    specificity.append(b) \n",
    "    F1_Score.append(c)\n",
    "    MCC.append(d)\n",
    "table = pd.DataFrame({\"Cutoff\":pro, \"Sensitivity\":sensitivity, \"1 - Specificity\":specificity, \"F1_Score\":F1_Score, \"MCC\":MCC})\n",
    "table"
   ]
  },
  {
   "cell_type": "code",
   "execution_count": null,
   "id": "0ce1fdac-8664-4ed3-9519-3fba0db80e0d",
   "metadata": {},
   "outputs": [],
   "source": [
    "from plotly.subplots import make_subplots\n",
    "import plotly.graph_objects as go\n",
    "\n",
    "fig = make_subplots(rows=1, cols=1)\n",
    "\n",
    "fig.add_trace(\n",
    "    go.Scatter(x=[0, 1], y=[0,1]),\n",
    "    row=1, col=1\n",
    ")\n",
    "\n",
    "fig.add_trace(\n",
    "    go.Scatter(x=specificity, y=sensitivity),\n",
    "    row=1, col=1\n",
    ")\n",
    "\n",
    "fig.update_layout(height=600, width=800, title_text='ROC Curve',xaxis_title=\"1 - Specificity\",yaxis_title=\"Sensitivity\")\n",
    "fig.show()\n",
    "\n",
    "\n",
    "#fig = px.line(df, x=specificity, y=sensitivity, title='ROC Curve')\n",
    "#fig.show()"
   ]
  },
  {
   "cell_type": "markdown",
   "id": "7b26e41d-ce14-4995-bd06-d0d61711b1df",
   "metadata": {},
   "source": [
    "a) From the graph we take Sensitivity = 0.87 and Specificity = 0.74 for an optimal cutoff is 0.4\n",
    "b) MCC = 0.550877 and F1_Score = 0.764706 for a recommednded balanced cutoff = 0.4 \n",
    "MCC = 0.522807 and F1_Score = 0.733333 for a defaut cutoff = 0.5\n",
    "\n",
    "MCC and F1_Score improved for the recommended cutoff than that of default cutoff which is a positive light on model perfomance and usability\n",
    "\n",
    "c) In this scenario, the goal is to assess the classifier's ability to distinguish between Omicron and the new variant. Since we are interested in identifying new variant cases with high sensitivity, we require a measure that prioritizes sensitivity or recall, such as F-score. As a result, using F-score to evaluate the classifier's performance is recommended."
   ]
  },
  {
   "cell_type": "markdown",
   "id": "9fbc5439-0262-4fb3-b437-3e95d7e52f09",
   "metadata": {},
   "source": [
    "### 2"
   ]
  },
  {
   "cell_type": "code",
   "execution_count": null,
   "id": "0ddf150c-c108-41d8-a4c2-70a26bc5c82b",
   "metadata": {},
   "outputs": [],
   "source": [
    "n11 = 38950\n",
    "n12 = 1050\n",
    "n21 = 1500\n",
    "n22 = 58500\n",
    "Accuracy = (n11+n22)/(n11+n12+n21+n22)\n",
    "Error_rate = 1-Accuracy\n",
    "sensitivity = n11/(n11+n12)\n",
    "specificity = 1 - (n22/(n21+n22))\n",
    "print(\"Error_rate \",Error_rate)\n",
    "print(\"Sensitivity \",sensitivity)\n",
    "print(\"Specificity \",specificity)"
   ]
  },
  {
   "cell_type": "code",
   "execution_count": null,
   "id": "f6157e96-d166-4197-bbb2-a0201041bb3b",
   "metadata": {},
   "outputs": [],
   "source": [
    "n11 = 2500\n",
    "n12 = 1250\n",
    "n21 = 1275\n",
    "n22 = 4975\n",
    "Accuracy = (n11+n22)/(n11+n12+n21+n22)\n",
    "Error_rate = 1-Accuracy\n",
    "sensitivity = n11/(n11+n12)\n",
    "specificity = 1 - (n22/(n21+n22))\n",
    "print(\"Error_rate \",Error_rate)\n",
    "print(\"Sensitivity \",sensitivity)\n",
    "print(\"Specificity \",specificity)\n",
    "#overfitting"
   ]
  },
  {
   "cell_type": "markdown",
   "id": "6b190c33-3044-4a0f-8ecf-f7dc794a3fe0",
   "metadata": {},
   "source": [
    "There appears to have a overfitting model on validation datasetwhich can be seen from the data,\n",
    "\n",
    "On the training set, the model achieved a very low error rate of 0.0255, indicating that it was able to accurately classify a large majority of the cases in the dataset. The sensitivity, which measures the proportion of true positive cases that were correctly identified, was very high at 0.97375, indicating that the model was able to correctly identify almost all of the Diabetic retinopathy cases in the training set. However, the specificity, which measures the proportion of true negative cases that were correctly identified, was very low at 0.025, indicating that the model incorrectly identified a large proportion of normal cases as Diabetic retinopathy cases.\n",
    "\n",
    "On the validation set, however, the model performed much worse. The error rate was much higher at 0.2525, indicating that the model incorrectly classified a large proportion of cases in the validation set. The sensitivity was still moderate at 0.6667, indicating that the model was able to correctly identify a reasonable proportion of the Diabetic retinopathy cases in the validation set. However, the specificity was still quite low at 0.204, indicating that the model incorrectly identified a large proportion of normal cases as Diabetic retinopathy cases in the validation set.\n"
   ]
  },
  {
   "cell_type": "markdown",
   "id": "d1258ef6-f88b-4d77-a143-fb91df18f62d",
   "metadata": {},
   "source": [
    "### 4"
   ]
  },
  {
   "cell_type": "code",
   "execution_count": null,
   "id": "c01b183b-636e-489a-98cb-7d69c7cde108",
   "metadata": {},
   "outputs": [],
   "source": [
    "bc = pd.read_excel(\"Bostonconsultancy.xlsx\")\n",
    "bc.head()"
   ]
  },
  {
   "cell_type": "code",
   "execution_count": null,
   "id": "9ad711b4-3c19-4f08-a7b1-8d111c1377bc",
   "metadata": {},
   "outputs": [],
   "source": [
    "bc.rename(columns = {'Probability of winning the opportunity':'propensity'}, inplace = True)\n",
    "bc = bc.sort_values(by = \"propensity\",axis=0, ascending=False)\n",
    "bc.head()"
   ]
  },
  {
   "cell_type": "code",
   "execution_count": null,
   "id": "44ad1c17-dc91-49b2-85f4-3f917022012e",
   "metadata": {},
   "outputs": [],
   "source": [
    "bc[\"Gain, C(k)\"] = bc[\"Actual Class\"].cumsum()\n",
    "bc.head()"
   ]
  },
  {
   "cell_type": "code",
   "execution_count": null,
   "id": "81b20d10-f7e6-4fe7-aa1d-122e1d8f649a",
   "metadata": {},
   "outputs": [],
   "source": [
    "bc.shape[0]"
   ]
  },
  {
   "cell_type": "code",
   "execution_count": null,
   "id": "ee6225cc-329b-4300-9f1a-93f47753f512",
   "metadata": {},
   "outputs": [],
   "source": [
    "lst = list(range(1,bc[\"Actual Class\"].count()+1))\n",
    "bc[\"Case, K\"] = lst\n",
    "bc.head()"
   ]
  },
  {
   "cell_type": "code",
   "execution_count": null,
   "id": "5256131e-875d-4582-aedb-40a3ad448d07",
   "metadata": {},
   "outputs": [],
   "source": [
    "y = bc[\"Actual Class\"].sum()/bc[\"Actual Class\"].count()\n",
    "bc[\"Baseline, A(k)\"] = y*bc[\"Case, K\"]\n",
    "bc.head()"
   ]
  },
  {
   "cell_type": "code",
   "execution_count": null,
   "id": "3b6cf2d8-0cba-413b-a51f-04cd36fe0eac",
   "metadata": {},
   "outputs": [],
   "source": [
    "bc[\"Lift, L(k)\"] = bc[\"Gain, C(k)\"]/bc[\"Baseline, A(k)\"]\n",
    "bc[\"Baseline, B(k)\"] = bc[\"Baseline, A(k)\"]/bc[\"Baseline, A(k)\"]\n",
    "bc.head()"
   ]
  },
  {
   "cell_type": "code",
   "execution_count": null,
   "id": "98e02690-bfce-476a-a24e-771eaaf5058c",
   "metadata": {},
   "outputs": [],
   "source": [
    "bc[\"Service Cost\"] = bc[\"Service Cost\"].apply(lambda x: x.replace(\"$\", \"\"))\n",
    "bc[\"Service Cost\"] = bc[\"Service Cost\"].astype('int64')\n",
    "bc.head()"
   ]
  },
  {
   "cell_type": "code",
   "execution_count": null,
   "id": "91489920-d55c-4b30-acf7-bc3c339f739f",
   "metadata": {},
   "outputs": [],
   "source": [
    "Cost = 60+75+100+50+50\n",
    "#bc[\"Net Profit\"] = (bc[\"Service Cost\"] - Cost).cumsum()\n",
    "bc[\"Net Profit\"] = np.where(bc[\"Actual Class\"]==1, (bc[\"Service Cost\"] - Cost), -Cost).cumsum()\n",
    "bc.head()"
   ]
  },
  {
   "cell_type": "code",
   "execution_count": null,
   "id": "c74f77c3-4aca-4ceb-ac58-31effa4d8e10",
   "metadata": {},
   "outputs": [],
   "source": [
    "from plotly.subplots import make_subplots\n",
    "import plotly.graph_objects as go\n",
    "\n",
    "fig = make_subplots(rows=1, cols=1)\n",
    "\n",
    "fig.add_trace(\n",
    "    go.Scatter(mode=\"lines+markers\",x=bc[\"Case, K\"], y=bc[\"Baseline, A(k)\"]),\n",
    "    row=1, col=1\n",
    ")\n",
    "\n",
    "fig.add_trace(\n",
    "    go.Scatter(mode=\"lines+markers\",x=bc[\"Case, K\"], y=bc[\"Gain, C(k)\"]),\n",
    "    row=1, col=1\n",
    ")\n",
    "\n",
    "\n",
    "fig.update_layout(height=600, width=800, title_text='Gain Chart',xaxis_title=\"Case #\",yaxis_title=\"Cum Gain\")\n",
    "fig.show()\n",
    "\n",
    "\n",
    "#fig = px.line(df, x=specificity, y=sensitivity, title='ROC Curve')\n",
    "#fig.show()"
   ]
  },
  {
   "cell_type": "code",
   "execution_count": null,
   "id": "a1f3e369-7c8e-487f-b529-6f4a8a73c546",
   "metadata": {},
   "outputs": [],
   "source": [
    "from plotly.subplots import make_subplots\n",
    "import plotly.graph_objects as go\n",
    "\n",
    "fig = make_subplots(rows=1, cols=1)\n",
    "\n",
    "fig.add_trace(\n",
    "    go.Scatter(mode=\"lines+markers\",x=bc[\"Case, K\"], y=bc[\"Net Profit\"]),\n",
    "    row=1, col=1\n",
    ")\n",
    "\n",
    "fig.update_layout(height=600, width=800, title_text='Net Profit',xaxis_title=\"Case #\",yaxis_title=\"Cum Net Profit\")\n",
    "fig.show()\n",
    "\n",
    "\n",
    "#fig = px.line(df, x=specificity, y=sensitivity, title='ROC Curve')\n",
    "#fig.show()"
   ]
  },
  {
   "cell_type": "code",
   "execution_count": null,
   "id": "8bdb95c0-35b5-4ada-8a2b-fa768021ced8",
   "metadata": {},
   "outputs": [],
   "source": [
    "from plotly.subplots import make_subplots\n",
    "import plotly.graph_objects as go\n",
    "\n",
    "fig = make_subplots(rows=1, cols=1)\n",
    "\n",
    "fig.add_trace(\n",
    "    go.Scatter(mode=\"lines+markers\",x=bc[\"Case, K\"], y=bc[\"Baseline, B(k)\"]),\n",
    "    row=1, col=1\n",
    ")\n",
    "\n",
    "fig.add_trace(\n",
    "    go.Scatter(mode=\"lines+markers\",x=bc[\"Case, K\"], y=bc[\"Lift, L(k)\"]),\n",
    "    row=1, col=1\n",
    ")\n",
    "\n",
    "fig.update_layout(height=600, width=800, title_text='Lift Chart',xaxis_title=\"Case #\",yaxis_title=\"Lift\")\n",
    "fig.show()\n",
    "\n",
    "\n",
    "#fig = px.line(df, x=specificity, y=sensitivity, title='ROC Curve')\n",
    "#fig.show()"
   ]
  },
  {
   "cell_type": "code",
   "execution_count": null,
   "id": "916889ab-e995-4d3f-8a5e-4883e0952edc",
   "metadata": {},
   "outputs": [],
   "source": [
    "bc1 = pd.read_excel(\"Bostonconsultancy.xlsx\")\n",
    "bc1.head()"
   ]
  },
  {
   "cell_type": "code",
   "execution_count": null,
   "id": "44171bea-1bd4-4e16-b281-208390fdfd4b",
   "metadata": {},
   "outputs": [],
   "source": [
    "bc1.rename(columns = {'Probability of winning the opportunity':'propensity'}, inplace = True)\n",
    "bc1 = bc1.sort_values(by = \"propensity\",axis=0, ascending=False)\n",
    "bc1.head()"
   ]
  },
  {
   "cell_type": "code",
   "execution_count": null,
   "id": "d815a8ac-0b21-4c33-b576-fbe039398fa0",
   "metadata": {},
   "outputs": [],
   "source": [
    "bc1.shape"
   ]
  },
  {
   "cell_type": "code",
   "execution_count": null,
   "id": "d68ffe3b-d5c0-4e8d-a031-4cbf71560201",
   "metadata": {},
   "outputs": [],
   "source": [
    "bc1.drop(bc1.tail(bc1.shape[0]%10).index,inplace=True)\n",
    "bc1.shape"
   ]
  },
  {
   "cell_type": "code",
   "execution_count": null,
   "id": "19313aed-33cf-4855-bbad-cee6d034104a",
   "metadata": {},
   "outputs": [],
   "source": [
    "bc1.head()"
   ]
  },
  {
   "cell_type": "markdown",
   "id": "45a614f4-9546-4ca8-b4f1-263df7668301",
   "metadata": {},
   "source": [
    "As we are allowed to do 10 discovery calls per month \n",
    "We have divided the dataset with 10 Companies per group instead of having 7 records per group(70/10) which is usually the case in generic Decile Chart."
   ]
  },
  {
   "cell_type": "code",
   "execution_count": null,
   "id": "5ef5b820-d646-4e19-8288-b85471f0110d",
   "metadata": {},
   "outputs": [],
   "source": [
    "bc1['Decile'] = pd.qcut(bc1['propensity'], 7, labels=[i for i in range(7,0,-1)])\n",
    "bc1"
   ]
  },
  {
   "cell_type": "code",
   "execution_count": null,
   "id": "a7c0f8f9-44ab-49dd-a63e-5d2f6a693582",
   "metadata": {},
   "outputs": [],
   "source": [
    "bc1[\"Service Cost\"] = bc1[\"Service Cost\"].apply(lambda x: x.replace(\"$\", \"\"))\n",
    "bc1.head()"
   ]
  },
  {
   "cell_type": "code",
   "execution_count": null,
   "id": "73166709-4eab-441e-b0c5-ad68c134acbe",
   "metadata": {},
   "outputs": [],
   "source": [
    "bc1[\"Service Cost\"] = bc1[\"Service Cost\"].astype('int64')"
   ]
  },
  {
   "cell_type": "code",
   "execution_count": null,
   "id": "884584b7-7aaa-4a02-b077-d03d34fa69f4",
   "metadata": {},
   "outputs": [],
   "source": [
    "bc2=pd.DataFrame(bc1.groupby([\"Decile\"])[\"Actual Class\"].mean())\n",
    "bc2 = bc2.sort_index(ascending=False)\n",
    "bc2.rename(columns={\"Actual Class\":\"Dd\"},inplace=True)\n",
    "bc2.head()"
   ]
  },
  {
   "cell_type": "code",
   "execution_count": null,
   "id": "479d7eb7-8700-4991-aa73-8352b2e5840f",
   "metadata": {},
   "outputs": [],
   "source": [
    "bc2[\"y1\"]=bc1[\"Actual Class\"].mean()\n",
    "bc2"
   ]
  },
  {
   "cell_type": "code",
   "execution_count": null,
   "id": "6b2a63b7-d63f-4ae0-8461-a1e03b7d0de1",
   "metadata": {},
   "outputs": [],
   "source": [
    "bc2[\"Ld\"] = bc2[\"Dd\"]/bc2[\"y1\"]\n",
    "bc2"
   ]
  },
  {
   "cell_type": "code",
   "execution_count": null,
   "id": "27bc9c1e-d0d8-4a78-ad40-732b4cf18ae6",
   "metadata": {},
   "outputs": [],
   "source": [
    "fig = px.bar(bc2, x=bc2.index, y='Ld', color='Ld')\n",
    "fig.add_hline(y=1)\n",
    "fig.update_layout(height=600, width=800, title_text='Decile Chart')\n",
    "fig.show()"
   ]
  },
  {
   "cell_type": "code",
   "execution_count": null,
   "id": "b4714ae9-794b-445e-aa89-231d9161b126",
   "metadata": {},
   "outputs": [],
   "source": [
    "bc1[bc1[\"Decile\"]==1]"
   ]
  },
  {
   "cell_type": "markdown",
   "id": "746dd8a2-ad56-4974-8f7d-5892ea9e3bd2",
   "metadata": {},
   "source": [
    "From this we can see that the clients they are to reach out to following clients\n",
    "- Amazon.com\n",
    "- Charter Communications\n",
    "- AIG\n",
    "- MetLife\n",
    "- Citigroup\n",
    "- PepsiCo\n",
    "- Bank of America\n",
    "- Morgan Stanley\t\n",
    "- Ford Motor\t\n",
    "- Home Depot\n",
    "because by following the recommendation we get lift of 1.44"
   ]
  },
  {
   "cell_type": "markdown",
   "id": "aec700f6-231a-48fe-8483-9fe5fa5572f3",
   "metadata": {},
   "source": [
    "c) The top recommended company by the model belongs to USA and using GCP Big Query and Looker BI Tool majorly and with an average cloud data storage size of more than 500TB"
   ]
  },
  {
   "cell_type": "code",
   "execution_count": null,
   "id": "1cfe7d4a-7ff0-4750-a85d-7f1d91014eb6",
   "metadata": {},
   "outputs": [],
   "source": []
  }
 ],
 "metadata": {
  "kernelspec": {
   "display_name": "Python 3 (ipykernel)",
   "language": "python",
   "name": "python3"
  },
  "language_info": {
   "codemirror_mode": {
    "name": "ipython",
    "version": 3
   },
   "file_extension": ".py",
   "mimetype": "text/x-python",
   "name": "python",
   "nbconvert_exporter": "python",
   "pygments_lexer": "ipython3",
   "version": "3.9.12"
  }
 },
 "nbformat": 4,
 "nbformat_minor": 5
}
